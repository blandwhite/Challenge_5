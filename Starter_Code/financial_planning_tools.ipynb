{
 "cells": [
  {
   "cell_type": "markdown",
   "metadata": {},
   "source": [
    "# Financial Planning with APIs and Simulations\n",
    "\n",
    "In this Challenge, you’ll create two financial analysis tools by using a single Jupyter notebook:\n",
    "\n",
    "Part 1: A financial planner for emergencies. The members will be able to use this tool to visualize their current savings. The members can then determine if they have enough reserves for an emergency fund.\n",
    "\n",
    "Part 2: A financial planner for retirement. This tool will forecast the performance of their retirement portfolio in 30 years. To do this, the tool will make an Alpaca API call via the Alpaca SDK to get historical price data for use in Monte Carlo simulations.\n",
    "\n",
    "You’ll use the information from the Monte Carlo simulation to answer questions about the portfolio in your Jupyter notebook.\n",
    "\n"
   ]
  },
  {
   "cell_type": "code",
   "execution_count": 1,
   "metadata": {},
   "outputs": [],
   "source": [
    "# Import the required libraries and dependencies\n",
    "import os\n",
    "import requests\n",
    "import json\n",
    "import pandas as pd\n",
    "from dotenv import load_dotenv\n",
    "import alpaca_trade_api as tradeapi\n",
    "from MCForecastTools import MCSimulation\n",
    "\n",
    "%matplotlib inline"
   ]
  },
  {
   "cell_type": "code",
   "execution_count": 2,
   "metadata": {},
   "outputs": [
    {
     "data": {
      "text/plain": [
       "True"
      ]
     },
     "execution_count": 2,
     "metadata": {},
     "output_type": "execute_result"
    }
   ],
   "source": [
    "# Load the environment variables from the .env file\n",
    "#by calling the load_dotenv function\n",
    "load_dotenv()"
   ]
  },
  {
   "cell_type": "markdown",
   "metadata": {},
   "source": [
    "## Part 1: Create a Financial Planner for Emergencies"
   ]
  },
  {
   "cell_type": "markdown",
   "metadata": {},
   "source": [
    "### Evaluate the Cryptocurrency Wallet by Using the Requests Library\n",
    "\n",
    "In this section, you’ll determine the current value of a member’s cryptocurrency wallet. You’ll collect the current prices for the Bitcoin and Ethereum cryptocurrencies by using the Python Requests library. For the prototype, you’ll assume that the member holds the 1.2 Bitcoins (BTC) and 5.3 Ethereum coins (ETH). To do all this, complete the following steps:\n",
    "\n",
    "1. Create a variable named `monthly_income`, and set its value to `12000`.\n",
    "\n",
    "2. Use the Requests library to get the current price (in US dollars) of Bitcoin (BTC) and Ethereum (ETH) by using the API endpoints that the starter code supplies.\n",
    "\n",
    "3. Navigate the JSON response object to access the current price of each coin, and store each in a variable.\n",
    "\n",
    "    > **Hint** Note the specific identifier for each cryptocurrency in the API JSON response. The Bitcoin identifier is `1`, and the Ethereum identifier is `1027`.\n",
    "\n",
    "4. Calculate the value, in US dollars, of the current amount of each cryptocurrency and of the entire cryptocurrency wallet.\n",
    "\n"
   ]
  },
  {
   "cell_type": "code",
   "execution_count": 3,
   "metadata": {},
   "outputs": [],
   "source": [
    "# The current number of coins for each cryptocurrency asset held in the portfolio.\n",
    "btc_coins = 1.2\n",
    "eth_coins = 5.3"
   ]
  },
  {
   "cell_type": "markdown",
   "metadata": {},
   "source": [
    "#### Step 1: Create a variable named `monthly_income`, and set its value to `12000`."
   ]
  },
  {
   "cell_type": "code",
   "execution_count": 42,
   "metadata": {},
   "outputs": [],
   "source": [
    "# The monthly amount for the member's household income\n",
    "monthly_income = 12000\n"
   ]
  },
  {
   "cell_type": "markdown",
   "metadata": {},
   "source": [
    "#### Review the endpoint URLs for the API calls to Free Crypto API in order to get the current pricing information for both BTC and ETH."
   ]
  },
  {
   "cell_type": "code",
   "execution_count": 5,
   "metadata": {},
   "outputs": [],
   "source": [
    "# The Free Crypto API Call endpoint URLs for the held cryptocurrency assets\n",
    "btc_url = \"https://api.alternative.me/v2/ticker/Bitcoin/?convert=USD\"\n",
    "eth_url = \"https://api.alternative.me/v2/ticker/Ethereum/?convert=USD\""
   ]
  },
  {
   "cell_type": "markdown",
   "metadata": {},
   "source": [
    "#### Step 2. Use the Requests library to get the current price (in US dollars) of Bitcoin (BTC) and Ethereum (ETH) by using the API endpoints that the starter code supplied."
   ]
  },
  {
   "cell_type": "code",
   "execution_count": 6,
   "metadata": {},
   "outputs": [
    {
     "name": "stdout",
     "output_type": "stream",
     "text": [
      "{\n",
      "    \"data\": {\n",
      "        \"1\": {\n",
      "            \"circulating_supply\": 18913575,\n",
      "            \"id\": 1,\n",
      "            \"last_updated\": 1640727166,\n",
      "            \"max_supply\": 21000000,\n",
      "            \"name\": \"Bitcoin\",\n",
      "            \"quotes\": {\n",
      "                \"USD\": {\n",
      "                    \"market_cap\": 904930821048,\n",
      "                    \"percent_change_1h\": -0.205950824987718,\n",
      "                    \"percent_change_24h\": -6.72579685024544,\n",
      "                    \"percent_change_7d\": 1.57553812602761,\n",
      "                    \"percentage_change_1h\": -0.205950824987718,\n",
      "                    \"percentage_change_24h\": -6.72579685024544,\n",
      "                    \"percentage_change_7d\": 1.57553812602761,\n",
      "                    \"price\": 47859.0,\n",
      "                    \"volume_24h\": 29604444238\n",
      "                }\n",
      "            },\n",
      "            \"rank\": 1,\n",
      "            \"symbol\": \"BTC\",\n",
      "            \"total_supply\": 18913575,\n",
      "            \"website_slug\": \"bitcoin\"\n",
      "        }\n",
      "    },\n",
      "    \"metadata\": {\n",
      "        \"error\": null,\n",
      "        \"num_cryptocurrencies\": 3105,\n",
      "        \"timestamp\": 1640727166\n",
      "    }\n",
      "}\n"
     ]
    }
   ],
   "source": [
    "# Using the Python requests library, make an API call to access the current price of BTC\n",
    "btc_response = requests.get(btc_url).json()\n",
    "\n",
    "# Use the json.dumps function to review the response data from the API call\n",
    "# Use the indent and sort_keys parameters to make the response object readable\n",
    "print(json.dumps(btc_response, indent=4, sort_keys=True))\n"
   ]
  },
  {
   "cell_type": "code",
   "execution_count": 7,
   "metadata": {},
   "outputs": [
    {
     "name": "stdout",
     "output_type": "stream",
     "text": [
      "{\n",
      "    \"data\": {\n",
      "        \"1027\": {\n",
      "            \"circulating_supply\": 118930418,\n",
      "            \"id\": 1027,\n",
      "            \"last_updated\": 1640727075,\n",
      "            \"max_supply\": 0,\n",
      "            \"name\": \"Ethereum\",\n",
      "            \"quotes\": {\n",
      "                \"USD\": {\n",
      "                    \"market_cap\": 455755861736,\n",
      "                    \"percent_change_1h\": 0.0173404165499348,\n",
      "                    \"percent_change_24h\": -6.31156068984398,\n",
      "                    \"percent_change_7d\": -2.99610206037565,\n",
      "                    \"percentage_change_1h\": 0.0173404165499348,\n",
      "                    \"percentage_change_24h\": -6.31156068984398,\n",
      "                    \"percentage_change_7d\": -2.99610206037565,\n",
      "                    \"price\": 3832.12,\n",
      "                    \"volume_24h\": 18188380594\n",
      "                }\n",
      "            },\n",
      "            \"rank\": 2,\n",
      "            \"symbol\": \"ETH\",\n",
      "            \"total_supply\": 118930418,\n",
      "            \"website_slug\": \"ethereum\"\n",
      "        }\n",
      "    },\n",
      "    \"metadata\": {\n",
      "        \"error\": null,\n",
      "        \"num_cryptocurrencies\": 3105,\n",
      "        \"timestamp\": 1640727075\n",
      "    }\n",
      "}\n"
     ]
    }
   ],
   "source": [
    "# Using the Python requests library, make an API call to access the current price ETH\n",
    "eth_response = requests.get(eth_url).json()\n",
    "\n",
    "# Use the json.dumps function to review the response data from the API call\n",
    "# Use the indent and sort_keys parameters to make the response object readable\n",
    "print(json.dumps(eth_response, indent=4, sort_keys=True))\n"
   ]
  },
  {
   "cell_type": "markdown",
   "metadata": {},
   "source": [
    "#### Step 3: Navigate the JSON response object to access the current price of each coin, and store each in a variable."
   ]
  },
  {
   "cell_type": "code",
   "execution_count": 8,
   "metadata": {},
   "outputs": [
    {
     "name": "stdout",
     "output_type": "stream",
     "text": [
      "The current price of BTC is $47859.00\n"
     ]
    }
   ],
   "source": [
    "# Navigate the BTC response object to access the current price of BTC\n",
    "btc_price = btc_response['data']['1']['quotes']['USD']['price']\n",
    "\n",
    "# Print the current price of BTC\n",
    "print(f'The current price of BTC is ${btc_price:.2f}')\n"
   ]
  },
  {
   "cell_type": "code",
   "execution_count": 9,
   "metadata": {},
   "outputs": [
    {
     "name": "stdout",
     "output_type": "stream",
     "text": [
      "The current price of ETH is $3832.12\n"
     ]
    }
   ],
   "source": [
    "# Navigate the BTC response object to access the current price of ETH\n",
    "eth_price = eth_response['data']['1027']['quotes']['USD']['price']\n",
    "\n",
    "# Print the current price of ETH\n",
    "print(f\"The current price of ETH is ${eth_price:.2f}\")\n"
   ]
  },
  {
   "cell_type": "markdown",
   "metadata": {},
   "source": [
    "### Step 4: Calculate the value, in US dollars, of the current amount of each cryptocurrency and of the entire cryptocurrency wallet."
   ]
  },
  {
   "cell_type": "code",
   "execution_count": 10,
   "metadata": {},
   "outputs": [
    {
     "name": "stdout",
     "output_type": "stream",
     "text": [
      "The current value of your holding in BTC is $57430.80\n"
     ]
    }
   ],
   "source": [
    "# Compute the current value of the BTC holding \n",
    "btc_value = btc_price * btc_coins\n",
    "\n",
    "# Print current value of your holding in BTC\n",
    "print(f'The current value of your holding in BTC is ${btc_value:.2f}')\n"
   ]
  },
  {
   "cell_type": "code",
   "execution_count": 11,
   "metadata": {},
   "outputs": [
    {
     "name": "stdout",
     "output_type": "stream",
     "text": [
      "The current value of your holding in ETH is $20310.24\n"
     ]
    }
   ],
   "source": [
    "# Compute the current value of the ETH holding \n",
    "eth_value = eth_price * eth_coins\n",
    "\n",
    "# Print current value of your holding in ETH\n",
    "print(f'The current value of your holding in ETH is ${eth_value:.2f}')\n"
   ]
  },
  {
   "cell_type": "code",
   "execution_count": 12,
   "metadata": {},
   "outputs": [
    {
     "name": "stdout",
     "output_type": "stream",
     "text": [
      "Your current cryptocurrency wallet balance is $77741.04\n"
     ]
    }
   ],
   "source": [
    "# Compute the total value of the cryptocurrency wallet\n",
    "# Add the value of the BTC holding to the value of the ETH holding\n",
    "total_crypto_wallet = btc_value + eth_value\n",
    "\n",
    "# Print current cryptocurrency wallet balance\n",
    "print(f'Your current cryptocurrency wallet balance is ${total_crypto_wallet:.2f}')\n"
   ]
  },
  {
   "cell_type": "markdown",
   "metadata": {},
   "source": [
    "### Evaluate the Stock and Bond Holdings by Using the Alpaca SDK\n",
    "\n",
    "In this section, you’ll determine the current value of a member’s stock and bond holdings. You’ll make an API call to Alpaca via the Alpaca SDK to get the current closing prices of the SPDR S&P 500 ETF Trust (ticker: SPY) and of the iShares Core US Aggregate Bond ETF (ticker: AGG). For the prototype, assume that the member holds 110 shares of SPY, which represents the stock portion of their portfolio, and 200 shares of AGG, which represents the bond portion. To do all this, complete the following steps:\n",
    "\n",
    "1. In the `Starter_Code` folder, create an environment file (`.env`) to store the values of your Alpaca API key and Alpaca secret key.\n",
    "\n",
    "2. Set the variables for the Alpaca API and secret keys. Using the Alpaca SDK, create the Alpaca `tradeapi.REST` object. In this object, include the parameters for the Alpaca API key, the secret key, and the version number.\n",
    "\n",
    "3. Set the following parameters for the Alpaca API call:\n",
    "\n",
    "    - `tickers`: Use the tickers for the member’s stock and bond holdings.\n",
    "\n",
    "    - `timeframe`: Use a time frame of one day.\n",
    "\n",
    "    - `start_date` and `end_date`: Use the same date for these parameters, and format them with the date of the previous weekday (or `2020-08-07`). This is because you want the one closing price for the most-recent trading day.\n",
    "\n",
    "4. Get the current closing prices for `SPY` and `AGG` by using the Alpaca `get_barset` function. Format the response as a Pandas DataFrame by including the `df` property at the end of the `get_barset` function.\n",
    "\n",
    "5. Navigating the Alpaca response DataFrame, select the `SPY` and `AGG` closing prices, and store them as variables.\n",
    "\n",
    "6. Calculate the value, in US dollars, of the current amount of shares in each of the stock and bond portions of the portfolio, and print the results.\n"
   ]
  },
  {
   "cell_type": "markdown",
   "metadata": {},
   "source": [
    "#### Review the total number of shares held in both (SPY) and (AGG)."
   ]
  },
  {
   "cell_type": "code",
   "execution_count": 13,
   "metadata": {},
   "outputs": [],
   "source": [
    "# Current amount of shares held in both the stock (SPY) and bond (AGG) portion of the portfolio.\n",
    "spy_shares = 110\n",
    "agg_shares = 200\n"
   ]
  },
  {
   "cell_type": "markdown",
   "metadata": {},
   "source": [
    "#### Step 1: In the `Starter_Code` folder, create an environment file (`.env`) to store the values of your Alpaca API key and Alpaca secret key."
   ]
  },
  {
   "cell_type": "markdown",
   "metadata": {},
   "source": [
    "#### Step 2: Set the variables for the Alpaca API and secret keys. Using the Alpaca SDK, create the Alpaca `tradeapi.REST` object. In this object, include the parameters for the Alpaca API key, the secret key, and the version number."
   ]
  },
  {
   "cell_type": "code",
   "execution_count": 14,
   "metadata": {},
   "outputs": [],
   "source": [
    "# Set the variables for the Alpaca API and secret keys\n",
    "alpaca_api_key = os.getenv('ALPACA_API_KEY')\n",
    "alpaca_secret_key = os.getenv('ALPACA_SECRET_KEY')\n",
    "\n",
    "# Create the Alpaca tradeapi.REST object\n",
    "alpaca = tradeapi.REST(\n",
    "    alpaca_api_key,\n",
    "    alpaca_secret_key,\n",
    "    api_version='v2'\n",
    ")\n"
   ]
  },
  {
   "cell_type": "markdown",
   "metadata": {},
   "source": [
    "#### Step 3: Set the following parameters for the Alpaca API call:\n",
    "\n",
    "- `tickers`: Use the tickers for the member’s stock and bond holdings.\n",
    "\n",
    "- `timeframe`: Use a time frame of one day.\n",
    "\n",
    "- `start_date` and `end_date`: Use the same date for these parameters, and format them with the date of the previous weekday (or `2020-08-07`). This is because you want the one closing price for the most-recent trading day.\n"
   ]
  },
  {
   "cell_type": "code",
   "execution_count": 15,
   "metadata": {},
   "outputs": [],
   "source": [
    "# Set the tickers for both the bond and stock portion of the portfolio\n",
    "tickers = ['SPY', 'AGG']\n",
    "\n",
    "# Set timeframe to 1D \n",
    "timeframe = '1D'\n",
    "\n",
    "# Format current date as ISO format\n",
    "# Set both the start and end date at the date of your prior weekday \n",
    "# This will give you the closing price of the previous trading day\n",
    "# Alternatively you can use a start and end date of 2020-08-07\n",
    "start_date = pd.Timestamp('2020-08-07', tz='America/New_York').isoformat()\n",
    "end_date = pd.Timestamp('2020-08-07', tz='America/New_York').isoformat()\n"
   ]
  },
  {
   "cell_type": "markdown",
   "metadata": {},
   "source": [
    "#### Step 4: Get the current closing prices for `SPY` and `AGG` by using the Alpaca `get_barset` function. Format the response as a Pandas DataFrame by including the `df` property at the end of the `get_barset` function."
   ]
  },
  {
   "cell_type": "code",
   "execution_count": 16,
   "metadata": {},
   "outputs": [
    {
     "data": {
      "text/html": [
       "<div>\n",
       "<style scoped>\n",
       "    .dataframe tbody tr th:only-of-type {\n",
       "        vertical-align: middle;\n",
       "    }\n",
       "\n",
       "    .dataframe tbody tr th {\n",
       "        vertical-align: top;\n",
       "    }\n",
       "\n",
       "    .dataframe thead tr th {\n",
       "        text-align: left;\n",
       "    }\n",
       "\n",
       "    .dataframe thead tr:last-of-type th {\n",
       "        text-align: right;\n",
       "    }\n",
       "</style>\n",
       "<table border=\"1\" class=\"dataframe\">\n",
       "  <thead>\n",
       "    <tr>\n",
       "      <th></th>\n",
       "      <th colspan=\"5\" halign=\"left\">AGG</th>\n",
       "      <th colspan=\"5\" halign=\"left\">SPY</th>\n",
       "    </tr>\n",
       "    <tr>\n",
       "      <th></th>\n",
       "      <th>open</th>\n",
       "      <th>high</th>\n",
       "      <th>low</th>\n",
       "      <th>close</th>\n",
       "      <th>volume</th>\n",
       "      <th>open</th>\n",
       "      <th>high</th>\n",
       "      <th>low</th>\n",
       "      <th>close</th>\n",
       "      <th>volume</th>\n",
       "    </tr>\n",
       "    <tr>\n",
       "      <th>time</th>\n",
       "      <th></th>\n",
       "      <th></th>\n",
       "      <th></th>\n",
       "      <th></th>\n",
       "      <th></th>\n",
       "      <th></th>\n",
       "      <th></th>\n",
       "      <th></th>\n",
       "      <th></th>\n",
       "      <th></th>\n",
       "    </tr>\n",
       "  </thead>\n",
       "  <tbody>\n",
       "    <tr>\n",
       "      <th>2020-08-07 00:00:00-04:00</th>\n",
       "      <td>119.66</td>\n",
       "      <td>119.73</td>\n",
       "      <td>119.395</td>\n",
       "      <td>119.445</td>\n",
       "      <td>8830420</td>\n",
       "      <td>333.28</td>\n",
       "      <td>334.88</td>\n",
       "      <td>332.3</td>\n",
       "      <td>334.55</td>\n",
       "      <td>98710236</td>\n",
       "    </tr>\n",
       "  </tbody>\n",
       "</table>\n",
       "</div>"
      ],
      "text/plain": [
       "                              AGG                                        SPY  \\\n",
       "                             open    high      low    close   volume    open   \n",
       "time                                                                           \n",
       "2020-08-07 00:00:00-04:00  119.66  119.73  119.395  119.445  8830420  333.28   \n",
       "\n",
       "                                                            \n",
       "                             high    low   close    volume  \n",
       "time                                                        \n",
       "2020-08-07 00:00:00-04:00  334.88  332.3  334.55  98710236  "
      ]
     },
     "execution_count": 16,
     "metadata": {},
     "output_type": "execute_result"
    }
   ],
   "source": [
    "# Use the Alpaca get_barset function to get current closing prices the portfolio\n",
    "# Be sure to set the `df` property after the function to format the response object as a DataFrame\n",
    "df_portfolio = alpaca.get_barset(\n",
    "    tickers,\n",
    "    timeframe,\n",
    "    start=start_date,\n",
    "    end=end_date\n",
    ").df\n",
    "\n",
    "# Review the first 5 rows of the Alpaca DataFrame\n",
    "df_portfolio.head()\n"
   ]
  },
  {
   "cell_type": "markdown",
   "metadata": {},
   "source": [
    "#### Step 5: Navigating the Alpaca response DataFrame, select the `SPY` and `AGG` closing prices, and store them as variables."
   ]
  },
  {
   "cell_type": "code",
   "execution_count": 17,
   "metadata": {},
   "outputs": [
    {
     "name": "stdout",
     "output_type": "stream",
     "text": [
      "119.445\n"
     ]
    }
   ],
   "source": [
    "# Access the closing price for AGG from the Alpaca DataFrame\n",
    "# Converting the value to a floating point number\n",
    "agg_close_price = float(df_portfolio['AGG']['close'])\n",
    "\n",
    "# Print the AGG closing price\n",
    "print(agg_close_price)\n"
   ]
  },
  {
   "cell_type": "code",
   "execution_count": 18,
   "metadata": {},
   "outputs": [
    {
     "name": "stdout",
     "output_type": "stream",
     "text": [
      "334.55\n"
     ]
    }
   ],
   "source": [
    "# Access the closing price for SPY from the Alpaca DataFrame\n",
    "# Converting the value to a floating point number\n",
    "spy_close_price = float(df_portfolio['SPY']['close'])\n",
    "\n",
    "# Print the SPY closing price\n",
    "print(spy_close_price)\n"
   ]
  },
  {
   "cell_type": "markdown",
   "metadata": {},
   "source": [
    "#### Step 6: Calculate the value, in US dollars, of the current amount of shares in each of the stock and bond portions of the portfolio, and print the results."
   ]
  },
  {
   "cell_type": "code",
   "execution_count": 19,
   "metadata": {},
   "outputs": [
    {
     "name": "stdout",
     "output_type": "stream",
     "text": [
      "The current value of the bond portfolio is $23889.00\n"
     ]
    }
   ],
   "source": [
    "# Calculate the current value of the bond portion of the portfolio\n",
    "agg_value = agg_close_price * agg_shares\n",
    "\n",
    "# Print the current value of the bond portfolio\n",
    "print(f'The current value of the bond portfolio is ${agg_value:.2f}')\n"
   ]
  },
  {
   "cell_type": "code",
   "execution_count": 20,
   "metadata": {},
   "outputs": [
    {
     "name": "stdout",
     "output_type": "stream",
     "text": [
      "The current value of the stock portfolio is $36800.50\n"
     ]
    }
   ],
   "source": [
    "# Calculate the current value of the stock portion of the portfolio\n",
    "spy_value = spy_close_price * spy_shares\n",
    "\n",
    "# Print the current value of the stock portfolio\n",
    "print(f'The current value of the stock portfolio is ${spy_value:.2f}')\n"
   ]
  },
  {
   "cell_type": "code",
   "execution_count": 21,
   "metadata": {},
   "outputs": [
    {
     "name": "stdout",
     "output_type": "stream",
     "text": [
      "The current balance of the stock and bond portion of the portfolio is $60689.50\n"
     ]
    }
   ],
   "source": [
    "# Calculate the total value of the stock and bond portion of the portfolio\n",
    "total_stocks_bonds = agg_value + spy_value\n",
    "\n",
    "# Print the current balance of the stock and bond portion of the portfolio\n",
    "print(f'The current balance of the stock and bond portion of the portfolio is ${total_stocks_bonds:.2f}')\n"
   ]
  },
  {
   "cell_type": "code",
   "execution_count": 36,
   "metadata": {},
   "outputs": [
    {
     "name": "stdout",
     "output_type": "stream",
     "text": [
      "Your total savings portfolio balance is $138430.54\n"
     ]
    }
   ],
   "source": [
    "# Calculate the total value of the member's entire savings portfolio\n",
    "# Add the value of the cryptocurrency walled to the value of the total stocks and bonds\n",
    "total_portfolio = total_crypto_wallet + total_stocks_bonds\n",
    "\n",
    "# Print current total value of the member's entire savings portfolio\n",
    "print(f'Your total savings portfolio balance is ${total_portfolio:.2f}')\n"
   ]
  },
  {
   "cell_type": "markdown",
   "metadata": {},
   "source": [
    "### Evaluate the Emergency Fund\n",
    "\n",
    "In this section, you’ll use the valuations for the cryptocurrency wallet and for the stock and bond portions of the portfolio to determine if the credit union member has enough savings to build an emergency fund into their financial plan. To do this, complete the following steps:\n",
    "\n",
    "1. Create a Python list named `savings_data` that has two elements. The first element contains the total value of the cryptocurrency wallet. The second element contains the total value of the stock and bond portions of the portfolio.\n",
    "\n",
    "2. Use the `savings_data` list to create a Pandas DataFrame named `savings_df`, and then display this DataFrame. The function to create the DataFrame should take the following three parameters:\n",
    "\n",
    "    - `savings_data`: Use the list that you just created.\n",
    "\n",
    "    - `columns`: Set this parameter equal to a Python list with a single value called `amount`.\n",
    "\n",
    "    - `index`: Set this parameter equal to a Python list with the values of `crypto` and `stock/bond`.\n",
    "\n",
    "3. Use the `savings_df` DataFrame to plot a pie chart that visualizes the composition of the member’s portfolio. The y-axis of the pie chart uses `amount`. Be sure to add a title.\n",
    "\n",
    "4. Using Python, determine if the current portfolio has enough to create an emergency fund as part of the member’s financial plan. Ideally, an emergency fund should equal to three times the member’s monthly income. To do this, implement the following steps:\n",
    "\n",
    "    1. Create a variable named `emergency_fund_value`, and set it equal to three times the value of the member’s `monthly_income` of $12000. (You set this earlier in Part 1).\n",
    "\n",
    "    2. Create a series of three if statements to determine if the member’s total portfolio is large enough to fund the emergency portfolio:\n",
    "\n",
    "        1. If the total portfolio value is greater than the emergency fund value, display a message congratulating the member for having enough money in this fund.\n",
    "\n",
    "        2. Else if the total portfolio value is equal to the emergency fund value, display a message congratulating the member on reaching this important financial goal.\n",
    "\n",
    "        3. Else the total portfolio is less than the emergency fund value, so display a message showing how many dollars away the member is from reaching the goal. (Subtract the total portfolio value from the emergency fund value.)\n"
   ]
  },
  {
   "cell_type": "markdown",
   "metadata": {},
   "source": [
    "#### Step 1: Create a Python list named `savings_data` that has two elements. The first element contains the total value of the cryptocurrency wallet. The second element contains the total value of the stock and bond portions of the portfolio."
   ]
  },
  {
   "cell_type": "code",
   "execution_count": 23,
   "metadata": {},
   "outputs": [
    {
     "data": {
      "text/plain": [
       "[77741.036, 60689.5]"
      ]
     },
     "execution_count": 23,
     "metadata": {},
     "output_type": "execute_result"
    }
   ],
   "source": [
    "# Consolidate financial assets data into a Python list\n",
    "savings_data = [total_crypto_wallet, total_stocks_bonds]\n",
    "\n",
    "# Review the Python list savings_data\n",
    "savings_data\n",
    "    "
   ]
  },
  {
   "cell_type": "markdown",
   "metadata": {},
   "source": [
    "#### Step 2: Use the `savings_data` list to create a Pandas DataFrame named `savings_df`, and then display this DataFrame. The function to create the DataFrame should take the following three parameters:\n",
    "\n",
    "- `savings_data`: Use the list that you just created.\n",
    "\n",
    "- `columns`: Set this parameter equal to a Python list with a single value called `amount`.\n",
    "\n",
    "- `index`: Set this parameter equal to a Python list with the values of `crypto` and `stock/bond`.\n"
   ]
  },
  {
   "cell_type": "code",
   "execution_count": 24,
   "metadata": {},
   "outputs": [
    {
     "data": {
      "text/html": [
       "<div>\n",
       "<style scoped>\n",
       "    .dataframe tbody tr th:only-of-type {\n",
       "        vertical-align: middle;\n",
       "    }\n",
       "\n",
       "    .dataframe tbody tr th {\n",
       "        vertical-align: top;\n",
       "    }\n",
       "\n",
       "    .dataframe thead th {\n",
       "        text-align: right;\n",
       "    }\n",
       "</style>\n",
       "<table border=\"1\" class=\"dataframe\">\n",
       "  <thead>\n",
       "    <tr style=\"text-align: right;\">\n",
       "      <th></th>\n",
       "      <th>amount</th>\n",
       "    </tr>\n",
       "  </thead>\n",
       "  <tbody>\n",
       "    <tr>\n",
       "      <th>crypto</th>\n",
       "      <td>77741.036</td>\n",
       "    </tr>\n",
       "    <tr>\n",
       "      <th>stock/bond</th>\n",
       "      <td>60689.500</td>\n",
       "    </tr>\n",
       "  </tbody>\n",
       "</table>\n",
       "</div>"
      ],
      "text/plain": [
       "               amount\n",
       "crypto      77741.036\n",
       "stock/bond  60689.500"
      ]
     },
     "execution_count": 24,
     "metadata": {},
     "output_type": "execute_result"
    }
   ],
   "source": [
    "# Create a Pandas DataFrame called savings_df \n",
    "savings_df = pd.DataFrame(savings_data, columns=['amount'], index=['crypto', 'stock/bond'])\n",
    "\n",
    "# Display the savings_df DataFrame\n",
    "savings_df\n"
   ]
  },
  {
   "cell_type": "markdown",
   "metadata": {},
   "source": [
    "#### Step 3: Use the `savings_df` DataFrame to plot a pie chart that visualizes the composition of the member’s portfolio. The y-axis of the pie chart uses `amount`. Be sure to add a title."
   ]
  },
  {
   "cell_type": "code",
   "execution_count": 25,
   "metadata": {},
   "outputs": [
    {
     "data": {
      "image/png": "[encoded data removed]",
      "text/plain": [
       "<Figure size 432x288 with 1 Axes>"
      ]
     },
     "metadata": {},
     "output_type": "display_data"
    }
   ],
   "source": [
    "# Plot the total value of the member's portfolio (crypto and stock/bond) in a pie chart\n",
    "savings_df.plot.pie(y='amount', title='Portfolio Composition', shadow=True, autopct='%1.1f%%');\n"
   ]
  },
  {
   "cell_type": "markdown",
   "metadata": {},
   "source": [
    "#### Step 4: Using Python, determine if the current portfolio has enough to create an emergency fund as part of the member’s financial plan. Ideally, an emergency fund should equal to three times the member’s monthly income. To do this, implement the following steps:\n",
    "\n",
    "Step 1. Create a variable named `emergency_fund_value`, and set it equal to three times the value of the member’s `monthly_income` of 12000. (You set this earlier in Part 1).\n",
    "\n",
    "Step 2. Create a series of three if statements to determine if the member’s total portfolio is large enough to fund the emergency portfolio:\n",
    "\n",
    "* If the total portfolio value is greater than the emergency fund value, display a message congratulating the member for having enough money in this fund.\n",
    "\n",
    "* Else if the total portfolio value is equal to the emergency fund value, display a message congratulating the member on reaching this important financial goal.\n",
    "\n",
    "* Else the total portfolio is less than the emergency fund value, so display a message showing how many dollars away the member is from reaching the goal. (Subtract the total portfolio value from the emergency fund value.)\n"
   ]
  },
  {
   "cell_type": "markdown",
   "metadata": {},
   "source": [
    "##### Step 4-1: Create a variable named `emergency_fund_value`, and set it equal to three times the value of the member’s `monthly_income` of 12000. (You set this earlier in Part 1)."
   ]
  },
  {
   "cell_type": "code",
   "execution_count": 43,
   "metadata": {},
   "outputs": [],
   "source": [
    "# Create a variable named emergency_fund_value\n",
    "emergency_fund_value = 3 * monthly_income\n"
   ]
  },
  {
   "cell_type": "markdown",
   "metadata": {},
   "source": [
    "##### Step 4-2: Create a series of three if statements to determine if the member’s total portfolio is large enough to fund the emergency portfolio:\n",
    "\n",
    "* If the total portfolio value is greater than the emergency fund value, display a message congratulating the member for having enough money in this fund.\n",
    "\n",
    "* Else if the total portfolio value is equal to the emergency fund value, display a message congratulating the member on reaching this important financial goal.\n",
    "\n",
    "* Else the total portfolio is less than the emergency fund value, so display a message showing how many dollars away the member is from reaching the goal. (Subtract the total portfolio value from the emergency fund value.)"
   ]
  },
  {
   "cell_type": "code",
   "execution_count": 45,
   "metadata": {},
   "outputs": [
    {
     "name": "stdout",
     "output_type": "stream",
     "text": [
      "Congratulations! You have more than 3 months' worth of income in your emergency fund.\n"
     ]
    }
   ],
   "source": [
    "# Evaluate the possibility of creating an emergency fund with 3 conditions:\n",
    "if total_portfolio > emergency_fund_value:\n",
    "    print(\"Congratulations! You have more than 3 months' worth of income in your emergency fund.\")\n",
    "    \n",
    "    #rounding in the elif since total portfolio could go beyond 2 decimals\n",
    "elif round(total_portfolio,2) == round(emergency_fund_value,2):\n",
    "    print(\"Congratulations! You have saved 3 months' worth of income in your emergency fund.\")\n",
    "else:\n",
    "    print(f\"You are ${emergency_fund_value - total_portfolio:.2f} away from reaching your emergency fund goal.\")\n"
   ]
  },
  {
   "cell_type": "markdown",
   "metadata": {},
   "source": [
    "## Part 2: Create a Financial Planner for Retirement"
   ]
  },
  {
   "cell_type": "markdown",
   "metadata": {},
   "source": [
    "### Create the Monte Carlo Simulation\n",
    "\n",
    "In this section, you’ll use the MCForecastTools library to create a Monte Carlo simulation for the member’s savings portfolio. To do this, complete the following steps:\n",
    "\n",
    "1. Make an API call via the Alpaca SDK to get 3 years of historical closing prices for a traditional 60/40 portfolio split: 60% stocks (SPY) and 40% bonds (AGG).\n",
    "\n",
    "2. Run a Monte Carlo simulation of 500 samples and 30 years for the 60/40 portfolio, and then plot the results.The following image shows the overlay line plot resulting from a simulation with these characteristics. However, because a random number generator is used to run each live Monte Carlo simulation, your image will differ slightly from this exact image:\n",
    "\n",
    "![A screenshot depicts the resulting plot.](Images/5-4-monte-carlo-line-plot.png)\n",
    "\n",
    "3. Plot the probability distribution of the Monte Carlo simulation. Plot the probability distribution of the Monte Carlo simulation. The following image shows the histogram plot resulting from a simulation with these characteristics. However, because a random number generator is used to run each live Monte Carlo simulation, your image will differ slightly from this exact image:\n",
    "\n",
    "![A screenshot depicts the histogram plot.](Images/5-4-monte-carlo-histogram.png)\n",
    "\n",
    "4. Generate the summary statistics for the Monte Carlo simulation.\n",
    "\n"
   ]
  },
  {
   "cell_type": "markdown",
   "metadata": {},
   "source": [
    "#### Step 1: Make an API call via the Alpaca SDK to get 3 years of historical closing prices for a traditional 60/40 portfolio split: 60% stocks (SPY) and 40% bonds (AGG)."
   ]
  },
  {
   "cell_type": "code",
   "execution_count": 48,
   "metadata": {},
   "outputs": [],
   "source": [
    "# Set start and end dates of 3 years back from your current date\n",
    "# Alternatively, you can use an end date of 2020-08-07 and work 3 years back from that date \n",
    "start_date = pd.Timestamp('2018-12-27', tz='America/New_York').isoformat()\n",
    "end_date = pd.Timestamp('2021-12-27', tz='America/New_York').isoformat()\n",
    "\n",
    "# Set number of rows to 1000 to retrieve the maximum amount of rows\n",
    "limit_rows = 1000"
   ]
  },
  {
   "cell_type": "code",
   "execution_count": 51,
   "metadata": {},
   "outputs": [
    {
     "data": {
      "text/html": [
       "<div>\n",
       "<style scoped>\n",
       "    .dataframe tbody tr th:only-of-type {\n",
       "        vertical-align: middle;\n",
       "    }\n",
       "\n",
       "    .dataframe tbody tr th {\n",
       "        vertical-align: top;\n",
       "    }\n",
       "\n",
       "    .dataframe thead tr th {\n",
       "        text-align: left;\n",
       "    }\n",
       "\n",
       "    .dataframe thead tr:last-of-type th {\n",
       "        text-align: right;\n",
       "    }\n",
       "</style>\n",
       "<table border=\"1\" class=\"dataframe\">\n",
       "  <thead>\n",
       "    <tr>\n",
       "      <th></th>\n",
       "      <th colspan=\"5\" halign=\"left\">AGG</th>\n",
       "      <th colspan=\"5\" halign=\"left\">SPY</th>\n",
       "    </tr>\n",
       "    <tr>\n",
       "      <th></th>\n",
       "      <th>open</th>\n",
       "      <th>high</th>\n",
       "      <th>low</th>\n",
       "      <th>close</th>\n",
       "      <th>volume</th>\n",
       "      <th>open</th>\n",
       "      <th>high</th>\n",
       "      <th>low</th>\n",
       "      <th>close</th>\n",
       "      <th>volume</th>\n",
       "    </tr>\n",
       "    <tr>\n",
       "      <th>time</th>\n",
       "      <th></th>\n",
       "      <th></th>\n",
       "      <th></th>\n",
       "      <th></th>\n",
       "      <th></th>\n",
       "      <th></th>\n",
       "      <th></th>\n",
       "      <th></th>\n",
       "      <th></th>\n",
       "      <th></th>\n",
       "    </tr>\n",
       "  </thead>\n",
       "  <tbody>\n",
       "    <tr>\n",
       "      <th>2018-12-27 00:00:00-05:00</th>\n",
       "      <td>105.95</td>\n",
       "      <td>106.060</td>\n",
       "      <td>105.7700</td>\n",
       "      <td>105.790</td>\n",
       "      <td>8931609.0</td>\n",
       "      <td>242.57</td>\n",
       "      <td>248.01</td>\n",
       "      <td>238.96</td>\n",
       "      <td>248.0100</td>\n",
       "      <td>159105665</td>\n",
       "    </tr>\n",
       "    <tr>\n",
       "      <th>2018-12-28 00:00:00-05:00</th>\n",
       "      <td>105.97</td>\n",
       "      <td>106.210</td>\n",
       "      <td>105.9400</td>\n",
       "      <td>106.205</td>\n",
       "      <td>6588564.0</td>\n",
       "      <td>249.58</td>\n",
       "      <td>251.40</td>\n",
       "      <td>246.45</td>\n",
       "      <td>247.6899</td>\n",
       "      <td>132250127</td>\n",
       "    </tr>\n",
       "    <tr>\n",
       "      <th>2018-12-31 00:00:00-05:00</th>\n",
       "      <td>106.12</td>\n",
       "      <td>106.510</td>\n",
       "      <td>105.6200</td>\n",
       "      <td>106.495</td>\n",
       "      <td>8349838.0</td>\n",
       "      <td>249.56</td>\n",
       "      <td>250.16</td>\n",
       "      <td>247.47</td>\n",
       "      <td>248.5500</td>\n",
       "      <td>100767777</td>\n",
       "    </tr>\n",
       "    <tr>\n",
       "      <th>2019-01-02 00:00:00-05:00</th>\n",
       "      <td>106.55</td>\n",
       "      <td>106.610</td>\n",
       "      <td>106.4701</td>\n",
       "      <td>106.585</td>\n",
       "      <td>10164756.0</td>\n",
       "      <td>245.98</td>\n",
       "      <td>251.21</td>\n",
       "      <td>245.95</td>\n",
       "      <td>249.8900</td>\n",
       "      <td>107236613</td>\n",
       "    </tr>\n",
       "    <tr>\n",
       "      <th>2019-01-03 00:00:00-05:00</th>\n",
       "      <td>106.57</td>\n",
       "      <td>107.075</td>\n",
       "      <td>106.5700</td>\n",
       "      <td>107.020</td>\n",
       "      <td>6260265.0</td>\n",
       "      <td>248.23</td>\n",
       "      <td>248.57</td>\n",
       "      <td>244.03</td>\n",
       "      <td>244.4600</td>\n",
       "      <td>113782919</td>\n",
       "    </tr>\n",
       "  </tbody>\n",
       "</table>\n",
       "</div>"
      ],
      "text/plain": [
       "                              AGG                                          \\\n",
       "                             open     high       low    close      volume   \n",
       "time                                                                        \n",
       "2018-12-27 00:00:00-05:00  105.95  106.060  105.7700  105.790   8931609.0   \n",
       "2018-12-28 00:00:00-05:00  105.97  106.210  105.9400  106.205   6588564.0   \n",
       "2018-12-31 00:00:00-05:00  106.12  106.510  105.6200  106.495   8349838.0   \n",
       "2019-01-02 00:00:00-05:00  106.55  106.610  106.4701  106.585  10164756.0   \n",
       "2019-01-03 00:00:00-05:00  106.57  107.075  106.5700  107.020   6260265.0   \n",
       "\n",
       "                              SPY                                       \n",
       "                             open    high     low     close     volume  \n",
       "time                                                                    \n",
       "2018-12-27 00:00:00-05:00  242.57  248.01  238.96  248.0100  159105665  \n",
       "2018-12-28 00:00:00-05:00  249.58  251.40  246.45  247.6899  132250127  \n",
       "2018-12-31 00:00:00-05:00  249.56  250.16  247.47  248.5500  100767777  \n",
       "2019-01-02 00:00:00-05:00  245.98  251.21  245.95  249.8900  107236613  \n",
       "2019-01-03 00:00:00-05:00  248.23  248.57  244.03  244.4600  113782919  "
      ]
     },
     "metadata": {},
     "output_type": "display_data"
    },
    {
     "data": {
      "text/html": [
       "<div>\n",
       "<style scoped>\n",
       "    .dataframe tbody tr th:only-of-type {\n",
       "        vertical-align: middle;\n",
       "    }\n",
       "\n",
       "    .dataframe tbody tr th {\n",
       "        vertical-align: top;\n",
       "    }\n",
       "\n",
       "    .dataframe thead tr th {\n",
       "        text-align: left;\n",
       "    }\n",
       "\n",
       "    .dataframe thead tr:last-of-type th {\n",
       "        text-align: right;\n",
       "    }\n",
       "</style>\n",
       "<table border=\"1\" class=\"dataframe\">\n",
       "  <thead>\n",
       "    <tr>\n",
       "      <th></th>\n",
       "      <th colspan=\"5\" halign=\"left\">AGG</th>\n",
       "      <th colspan=\"5\" halign=\"left\">SPY</th>\n",
       "    </tr>\n",
       "    <tr>\n",
       "      <th></th>\n",
       "      <th>open</th>\n",
       "      <th>high</th>\n",
       "      <th>low</th>\n",
       "      <th>close</th>\n",
       "      <th>volume</th>\n",
       "      <th>open</th>\n",
       "      <th>high</th>\n",
       "      <th>low</th>\n",
       "      <th>close</th>\n",
       "      <th>volume</th>\n",
       "    </tr>\n",
       "    <tr>\n",
       "      <th>time</th>\n",
       "      <th></th>\n",
       "      <th></th>\n",
       "      <th></th>\n",
       "      <th></th>\n",
       "      <th></th>\n",
       "      <th></th>\n",
       "      <th></th>\n",
       "      <th></th>\n",
       "      <th></th>\n",
       "      <th></th>\n",
       "    </tr>\n",
       "  </thead>\n",
       "  <tbody>\n",
       "    <tr>\n",
       "      <th>2021-12-20 00:00:00-05:00</th>\n",
       "      <td>114.57</td>\n",
       "      <td>114.610</td>\n",
       "      <td>114.32</td>\n",
       "      <td>114.35</td>\n",
       "      <td>6967287.0</td>\n",
       "      <td>454.44</td>\n",
       "      <td>455.40</td>\n",
       "      <td>451.14</td>\n",
       "      <td>454.990</td>\n",
       "      <td>85447438</td>\n",
       "    </tr>\n",
       "    <tr>\n",
       "      <th>2021-12-21 00:00:00-05:00</th>\n",
       "      <td>114.07</td>\n",
       "      <td>114.275</td>\n",
       "      <td>113.97</td>\n",
       "      <td>114.23</td>\n",
       "      <td>12469324.0</td>\n",
       "      <td>458.57</td>\n",
       "      <td>463.21</td>\n",
       "      <td>456.31</td>\n",
       "      <td>463.035</td>\n",
       "      <td>62360339</td>\n",
       "    </tr>\n",
       "    <tr>\n",
       "      <th>2021-12-22 00:00:00-05:00</th>\n",
       "      <td>114.33</td>\n",
       "      <td>114.350</td>\n",
       "      <td>114.17</td>\n",
       "      <td>114.34</td>\n",
       "      <td>5736004.0</td>\n",
       "      <td>462.79</td>\n",
       "      <td>467.81</td>\n",
       "      <td>462.58</td>\n",
       "      <td>467.690</td>\n",
       "      <td>50038091</td>\n",
       "    </tr>\n",
       "    <tr>\n",
       "      <th>2021-12-23 00:00:00-05:00</th>\n",
       "      <td>114.29</td>\n",
       "      <td>114.310</td>\n",
       "      <td>114.07</td>\n",
       "      <td>114.19</td>\n",
       "      <td>5304915.0</td>\n",
       "      <td>468.75</td>\n",
       "      <td>472.19</td>\n",
       "      <td>468.64</td>\n",
       "      <td>470.580</td>\n",
       "      <td>47149529</td>\n",
       "    </tr>\n",
       "    <tr>\n",
       "      <th>2021-12-27 00:00:00-05:00</th>\n",
       "      <td>114.15</td>\n",
       "      <td>114.300</td>\n",
       "      <td>114.13</td>\n",
       "      <td>114.27</td>\n",
       "      <td>5069840.0</td>\n",
       "      <td>472.03</td>\n",
       "      <td>477.31</td>\n",
       "      <td>472.01</td>\n",
       "      <td>477.270</td>\n",
       "      <td>46260198</td>\n",
       "    </tr>\n",
       "  </tbody>\n",
       "</table>\n",
       "</div>"
      ],
      "text/plain": [
       "                              AGG                                       \\\n",
       "                             open     high     low   close      volume   \n",
       "time                                                                     \n",
       "2021-12-20 00:00:00-05:00  114.57  114.610  114.32  114.35   6967287.0   \n",
       "2021-12-21 00:00:00-05:00  114.07  114.275  113.97  114.23  12469324.0   \n",
       "2021-12-22 00:00:00-05:00  114.33  114.350  114.17  114.34   5736004.0   \n",
       "2021-12-23 00:00:00-05:00  114.29  114.310  114.07  114.19   5304915.0   \n",
       "2021-12-27 00:00:00-05:00  114.15  114.300  114.13  114.27   5069840.0   \n",
       "\n",
       "                              SPY                                     \n",
       "                             open    high     low    close    volume  \n",
       "time                                                                  \n",
       "2021-12-20 00:00:00-05:00  454.44  455.40  451.14  454.990  85447438  \n",
       "2021-12-21 00:00:00-05:00  458.57  463.21  456.31  463.035  62360339  \n",
       "2021-12-22 00:00:00-05:00  462.79  467.81  462.58  467.690  50038091  \n",
       "2021-12-23 00:00:00-05:00  468.75  472.19  468.64  470.580  47149529  \n",
       "2021-12-27 00:00:00-05:00  472.03  477.31  472.01  477.270  46260198  "
      ]
     },
     "execution_count": 51,
     "metadata": {},
     "output_type": "execute_result"
    }
   ],
   "source": [
    "# Use the Alpaca get_barset function to make the API call to get the 3 years worth of pricing data\n",
    "# The tickers and timeframe parameters should have been set in Part 1 of this activity \n",
    "# The start and end dates should be updated with the information set above\n",
    "# Remember to add the df property to the end of the call so the response is returned as a DataFrame\n",
    "prices_df = alpaca.get_barset(\n",
    "    tickers,\n",
    "    timeframe,\n",
    "    start=start_date,\n",
    "    end=end_date,\n",
    "    limit=limit_rows\n",
    ").df\n",
    "\n",
    "\n",
    "# Display both the first and last five rows of the DataFrame\n",
    "display(prices_df.head())\n",
    "prices_df.tail()\n"
   ]
  },
  {
   "cell_type": "markdown",
   "metadata": {},
   "source": [
    "#### Step 2: Run a Monte Carlo simulation of 500 samples and 30 years for the 60/40 portfolio, and then plot the results."
   ]
  },
  {
   "cell_type": "code",
   "execution_count": 83,
   "metadata": {},
   "outputs": [
    {
     "data": {
      "text/html": [
       "<div>\n",
       "<style scoped>\n",
       "    .dataframe tbody tr th:only-of-type {\n",
       "        vertical-align: middle;\n",
       "    }\n",
       "\n",
       "    .dataframe tbody tr th {\n",
       "        vertical-align: top;\n",
       "    }\n",
       "\n",
       "    .dataframe thead tr th {\n",
       "        text-align: left;\n",
       "    }\n",
       "\n",
       "    .dataframe thead tr:last-of-type th {\n",
       "        text-align: right;\n",
       "    }\n",
       "</style>\n",
       "<table border=\"1\" class=\"dataframe\">\n",
       "  <thead>\n",
       "    <tr>\n",
       "      <th></th>\n",
       "      <th colspan=\"6\" halign=\"left\">AGG</th>\n",
       "      <th colspan=\"6\" halign=\"left\">SPY</th>\n",
       "    </tr>\n",
       "    <tr>\n",
       "      <th></th>\n",
       "      <th>open</th>\n",
       "      <th>high</th>\n",
       "      <th>low</th>\n",
       "      <th>close</th>\n",
       "      <th>volume</th>\n",
       "      <th>daily_return</th>\n",
       "      <th>open</th>\n",
       "      <th>high</th>\n",
       "      <th>low</th>\n",
       "      <th>close</th>\n",
       "      <th>volume</th>\n",
       "      <th>daily_return</th>\n",
       "    </tr>\n",
       "    <tr>\n",
       "      <th>time</th>\n",
       "      <th></th>\n",
       "      <th></th>\n",
       "      <th></th>\n",
       "      <th></th>\n",
       "      <th></th>\n",
       "      <th></th>\n",
       "      <th></th>\n",
       "      <th></th>\n",
       "      <th></th>\n",
       "      <th></th>\n",
       "      <th></th>\n",
       "      <th></th>\n",
       "    </tr>\n",
       "  </thead>\n",
       "  <tbody>\n",
       "    <tr>\n",
       "      <th>2018-12-27 00:00:00-05:00</th>\n",
       "      <td>105.95</td>\n",
       "      <td>106.060</td>\n",
       "      <td>105.7700</td>\n",
       "      <td>105.790</td>\n",
       "      <td>8931609.0</td>\n",
       "      <td>NaN</td>\n",
       "      <td>242.57</td>\n",
       "      <td>248.01</td>\n",
       "      <td>238.96</td>\n",
       "      <td>248.0100</td>\n",
       "      <td>159105665</td>\n",
       "      <td>NaN</td>\n",
       "    </tr>\n",
       "    <tr>\n",
       "      <th>2018-12-28 00:00:00-05:00</th>\n",
       "      <td>105.97</td>\n",
       "      <td>106.210</td>\n",
       "      <td>105.9400</td>\n",
       "      <td>106.205</td>\n",
       "      <td>6588564.0</td>\n",
       "      <td>0.003923</td>\n",
       "      <td>249.58</td>\n",
       "      <td>251.40</td>\n",
       "      <td>246.45</td>\n",
       "      <td>247.6899</td>\n",
       "      <td>132250127</td>\n",
       "      <td>-0.001291</td>\n",
       "    </tr>\n",
       "    <tr>\n",
       "      <th>2018-12-31 00:00:00-05:00</th>\n",
       "      <td>106.12</td>\n",
       "      <td>106.510</td>\n",
       "      <td>105.6200</td>\n",
       "      <td>106.495</td>\n",
       "      <td>8349838.0</td>\n",
       "      <td>0.002731</td>\n",
       "      <td>249.56</td>\n",
       "      <td>250.16</td>\n",
       "      <td>247.47</td>\n",
       "      <td>248.5500</td>\n",
       "      <td>100767777</td>\n",
       "      <td>0.003472</td>\n",
       "    </tr>\n",
       "    <tr>\n",
       "      <th>2019-01-02 00:00:00-05:00</th>\n",
       "      <td>106.55</td>\n",
       "      <td>106.610</td>\n",
       "      <td>106.4701</td>\n",
       "      <td>106.585</td>\n",
       "      <td>10164756.0</td>\n",
       "      <td>0.000845</td>\n",
       "      <td>245.98</td>\n",
       "      <td>251.21</td>\n",
       "      <td>245.95</td>\n",
       "      <td>249.8900</td>\n",
       "      <td>107236613</td>\n",
       "      <td>0.005391</td>\n",
       "    </tr>\n",
       "    <tr>\n",
       "      <th>2019-01-03 00:00:00-05:00</th>\n",
       "      <td>106.57</td>\n",
       "      <td>107.075</td>\n",
       "      <td>106.5700</td>\n",
       "      <td>107.020</td>\n",
       "      <td>6260265.0</td>\n",
       "      <td>0.004081</td>\n",
       "      <td>248.23</td>\n",
       "      <td>248.57</td>\n",
       "      <td>244.03</td>\n",
       "      <td>244.4600</td>\n",
       "      <td>113782919</td>\n",
       "      <td>-0.021730</td>\n",
       "    </tr>\n",
       "  </tbody>\n",
       "</table>\n",
       "</div>"
      ],
      "text/plain": [
       "                              AGG                                          \\\n",
       "                             open     high       low    close      volume   \n",
       "time                                                                        \n",
       "2018-12-27 00:00:00-05:00  105.95  106.060  105.7700  105.790   8931609.0   \n",
       "2018-12-28 00:00:00-05:00  105.97  106.210  105.9400  106.205   6588564.0   \n",
       "2018-12-31 00:00:00-05:00  106.12  106.510  105.6200  106.495   8349838.0   \n",
       "2019-01-02 00:00:00-05:00  106.55  106.610  106.4701  106.585  10164756.0   \n",
       "2019-01-03 00:00:00-05:00  106.57  107.075  106.5700  107.020   6260265.0   \n",
       "\n",
       "                                           SPY                            \\\n",
       "                          daily_return    open    high     low     close   \n",
       "time                                                                       \n",
       "2018-12-27 00:00:00-05:00          NaN  242.57  248.01  238.96  248.0100   \n",
       "2018-12-28 00:00:00-05:00     0.003923  249.58  251.40  246.45  247.6899   \n",
       "2018-12-31 00:00:00-05:00     0.002731  249.56  250.16  247.47  248.5500   \n",
       "2019-01-02 00:00:00-05:00     0.000845  245.98  251.21  245.95  249.8900   \n",
       "2019-01-03 00:00:00-05:00     0.004081  248.23  248.57  244.03  244.4600   \n",
       "\n",
       "                                                   \n",
       "                              volume daily_return  \n",
       "time                                               \n",
       "2018-12-27 00:00:00-05:00  159105665          NaN  \n",
       "2018-12-28 00:00:00-05:00  132250127    -0.001291  \n",
       "2018-12-31 00:00:00-05:00  100767777     0.003472  \n",
       "2019-01-02 00:00:00-05:00  107236613     0.005391  \n",
       "2019-01-03 00:00:00-05:00  113782919    -0.021730  "
      ]
     },
     "execution_count": 83,
     "metadata": {},
     "output_type": "execute_result"
    }
   ],
   "source": [
    "# Configure the Monte Carlo simulation to forecast 30 years cumulative returns\n",
    "# The weights should be split 40% to AGG and 60% to SPY.\n",
    "# Run 500 samples.\n",
    "mc_thirtyyear = MCSimulation(\n",
    "    portfolio_data=prices_df,\n",
    "    weights = [.40,.60],\n",
    "    num_simulation=500,\n",
    "    num_trading_days=252*30\n",
    ")\n",
    "\n",
    "# Review the simulation input data\n",
    "mc_thirtyyear.portfolio_data.head()\n"
   ]
  },
  {
   "cell_type": "code",
   "execution_count": 84,
   "metadata": {},
   "outputs": [
    {
     "name": "stdout",
     "output_type": "stream",
     "text": [
      "Running Monte Carlo simulation number 0.\n",
      "Running Monte Carlo simulation number 10.\n",
      "Running Monte Carlo simulation number 20.\n",
      "Running Monte Carlo simulation number 30.\n",
      "Running Monte Carlo simulation number 40.\n",
      "Running Monte Carlo simulation number 50.\n",
      "Running Monte Carlo simulation number 60.\n",
      "Running Monte Carlo simulation number 70.\n",
      "Running Monte Carlo simulation number 80.\n",
      "Running Monte Carlo simulation number 90.\n",
      "Running Monte Carlo simulation number 100.\n",
      "Running Monte Carlo simulation number 110.\n",
      "Running Monte Carlo simulation number 120.\n",
      "Running Monte Carlo simulation number 130.\n",
      "Running Monte Carlo simulation number 140.\n",
      "Running Monte Carlo simulation number 150.\n",
      "Running Monte Carlo simulation number 160.\n",
      "Running Monte Carlo simulation number 170.\n",
      "Running Monte Carlo simulation number 180.\n",
      "Running Monte Carlo simulation number 190.\n",
      "Running Monte Carlo simulation number 200.\n",
      "Running Monte Carlo simulation number 210.\n",
      "Running Monte Carlo simulation number 220.\n",
      "Running Monte Carlo simulation number 230.\n",
      "Running Monte Carlo simulation number 240.\n",
      "Running Monte Carlo simulation number 250.\n",
      "Running Monte Carlo simulation number 260.\n",
      "Running Monte Carlo simulation number 270.\n",
      "Running Monte Carlo simulation number 280.\n",
      "Running Monte Carlo simulation number 290.\n",
      "Running Monte Carlo simulation number 300.\n",
      "Running Monte Carlo simulation number 310.\n",
      "Running Monte Carlo simulation number 320.\n",
      "Running Monte Carlo simulation number 330.\n",
      "Running Monte Carlo simulation number 340.\n",
      "Running Monte Carlo simulation number 350.\n",
      "Running Monte Carlo simulation number 360.\n",
      "Running Monte Carlo simulation number 370.\n",
      "Running Monte Carlo simulation number 380.\n",
      "Running Monte Carlo simulation number 390.\n",
      "Running Monte Carlo simulation number 400.\n",
      "Running Monte Carlo simulation number 410.\n",
      "Running Monte Carlo simulation number 420.\n",
      "Running Monte Carlo simulation number 430.\n",
      "Running Monte Carlo simulation number 440.\n",
      "Running Monte Carlo simulation number 450.\n",
      "Running Monte Carlo simulation number 460.\n",
      "Running Monte Carlo simulation number 470.\n",
      "Running Monte Carlo simulation number 480.\n",
      "Running Monte Carlo simulation number 490.\n"
     ]
    },
    {
     "data": {
      "text/html": [
       "<div>\n",
       "<style scoped>\n",
       "    .dataframe tbody tr th:only-of-type {\n",
       "        vertical-align: middle;\n",
       "    }\n",
       "\n",
       "    .dataframe tbody tr th {\n",
       "        vertical-align: top;\n",
       "    }\n",
       "\n",
       "    .dataframe thead th {\n",
       "        text-align: right;\n",
       "    }\n",
       "</style>\n",
       "<table border=\"1\" class=\"dataframe\">\n",
       "  <thead>\n",
       "    <tr style=\"text-align: right;\">\n",
       "      <th></th>\n",
       "      <th>0</th>\n",
       "      <th>1</th>\n",
       "      <th>2</th>\n",
       "      <th>3</th>\n",
       "      <th>4</th>\n",
       "      <th>5</th>\n",
       "      <th>6</th>\n",
       "      <th>7</th>\n",
       "      <th>8</th>\n",
       "      <th>9</th>\n",
       "      <th>...</th>\n",
       "      <th>490</th>\n",
       "      <th>491</th>\n",
       "      <th>492</th>\n",
       "      <th>493</th>\n",
       "      <th>494</th>\n",
       "      <th>495</th>\n",
       "      <th>496</th>\n",
       "      <th>497</th>\n",
       "      <th>498</th>\n",
       "      <th>499</th>\n",
       "    </tr>\n",
       "  </thead>\n",
       "  <tbody>\n",
       "    <tr>\n",
       "      <th>0</th>\n",
       "      <td>1.000000</td>\n",
       "      <td>1.000000</td>\n",
       "      <td>1.000000</td>\n",
       "      <td>1.000000</td>\n",
       "      <td>1.000000</td>\n",
       "      <td>1.000000</td>\n",
       "      <td>1.000000</td>\n",
       "      <td>1.000000</td>\n",
       "      <td>1.000000</td>\n",
       "      <td>1.000000</td>\n",
       "      <td>...</td>\n",
       "      <td>1.000000</td>\n",
       "      <td>1.000000</td>\n",
       "      <td>1.000000</td>\n",
       "      <td>1.000000</td>\n",
       "      <td>1.000000</td>\n",
       "      <td>1.000000</td>\n",
       "      <td>1.000000</td>\n",
       "      <td>1.000000</td>\n",
       "      <td>1.000000</td>\n",
       "      <td>1.000000</td>\n",
       "    </tr>\n",
       "    <tr>\n",
       "      <th>1</th>\n",
       "      <td>1.005004</td>\n",
       "      <td>0.996095</td>\n",
       "      <td>1.010770</td>\n",
       "      <td>0.990756</td>\n",
       "      <td>0.986638</td>\n",
       "      <td>0.994660</td>\n",
       "      <td>1.011887</td>\n",
       "      <td>0.987710</td>\n",
       "      <td>0.997088</td>\n",
       "      <td>0.996661</td>\n",
       "      <td>...</td>\n",
       "      <td>1.007775</td>\n",
       "      <td>0.996421</td>\n",
       "      <td>1.000426</td>\n",
       "      <td>0.994671</td>\n",
       "      <td>1.004740</td>\n",
       "      <td>1.001674</td>\n",
       "      <td>0.997313</td>\n",
       "      <td>0.995981</td>\n",
       "      <td>1.008744</td>\n",
       "      <td>0.992849</td>\n",
       "    </tr>\n",
       "    <tr>\n",
       "      <th>2</th>\n",
       "      <td>1.005408</td>\n",
       "      <td>1.007618</td>\n",
       "      <td>1.007589</td>\n",
       "      <td>0.975625</td>\n",
       "      <td>0.985319</td>\n",
       "      <td>0.995644</td>\n",
       "      <td>1.004030</td>\n",
       "      <td>0.987375</td>\n",
       "      <td>1.008414</td>\n",
       "      <td>0.990362</td>\n",
       "      <td>...</td>\n",
       "      <td>1.020891</td>\n",
       "      <td>0.991227</td>\n",
       "      <td>1.007168</td>\n",
       "      <td>0.987761</td>\n",
       "      <td>0.991917</td>\n",
       "      <td>1.001305</td>\n",
       "      <td>1.016903</td>\n",
       "      <td>0.989335</td>\n",
       "      <td>1.012471</td>\n",
       "      <td>0.995252</td>\n",
       "    </tr>\n",
       "    <tr>\n",
       "      <th>3</th>\n",
       "      <td>1.010750</td>\n",
       "      <td>1.012514</td>\n",
       "      <td>1.015353</td>\n",
       "      <td>0.981989</td>\n",
       "      <td>1.000064</td>\n",
       "      <td>0.990944</td>\n",
       "      <td>1.012628</td>\n",
       "      <td>0.988618</td>\n",
       "      <td>1.001304</td>\n",
       "      <td>0.991785</td>\n",
       "      <td>...</td>\n",
       "      <td>1.001570</td>\n",
       "      <td>0.989117</td>\n",
       "      <td>1.017432</td>\n",
       "      <td>0.983068</td>\n",
       "      <td>0.992230</td>\n",
       "      <td>0.999727</td>\n",
       "      <td>1.020487</td>\n",
       "      <td>0.989881</td>\n",
       "      <td>1.014124</td>\n",
       "      <td>0.993963</td>\n",
       "    </tr>\n",
       "    <tr>\n",
       "      <th>4</th>\n",
       "      <td>0.996398</td>\n",
       "      <td>1.027900</td>\n",
       "      <td>1.012311</td>\n",
       "      <td>0.986883</td>\n",
       "      <td>0.998303</td>\n",
       "      <td>0.993711</td>\n",
       "      <td>1.018276</td>\n",
       "      <td>0.990236</td>\n",
       "      <td>1.008380</td>\n",
       "      <td>0.984786</td>\n",
       "      <td>...</td>\n",
       "      <td>1.006036</td>\n",
       "      <td>0.999791</td>\n",
       "      <td>1.021736</td>\n",
       "      <td>0.974720</td>\n",
       "      <td>1.009966</td>\n",
       "      <td>0.991122</td>\n",
       "      <td>1.027821</td>\n",
       "      <td>0.995627</td>\n",
       "      <td>1.025986</td>\n",
       "      <td>1.001666</td>\n",
       "    </tr>\n",
       "    <tr>\n",
       "      <th>...</th>\n",
       "      <td>...</td>\n",
       "      <td>...</td>\n",
       "      <td>...</td>\n",
       "      <td>...</td>\n",
       "      <td>...</td>\n",
       "      <td>...</td>\n",
       "      <td>...</td>\n",
       "      <td>...</td>\n",
       "      <td>...</td>\n",
       "      <td>...</td>\n",
       "      <td>...</td>\n",
       "      <td>...</td>\n",
       "      <td>...</td>\n",
       "      <td>...</td>\n",
       "      <td>...</td>\n",
       "      <td>...</td>\n",
       "      <td>...</td>\n",
       "      <td>...</td>\n",
       "      <td>...</td>\n",
       "      <td>...</td>\n",
       "      <td>...</td>\n",
       "    </tr>\n",
       "    <tr>\n",
       "      <th>7556</th>\n",
       "      <td>73.205707</td>\n",
       "      <td>435.371464</td>\n",
       "      <td>53.361777</td>\n",
       "      <td>18.895591</td>\n",
       "      <td>51.100686</td>\n",
       "      <td>269.565475</td>\n",
       "      <td>46.532127</td>\n",
       "      <td>94.615762</td>\n",
       "      <td>298.083485</td>\n",
       "      <td>85.976424</td>\n",
       "      <td>...</td>\n",
       "      <td>151.450529</td>\n",
       "      <td>124.769796</td>\n",
       "      <td>391.962524</td>\n",
       "      <td>109.149995</td>\n",
       "      <td>73.765047</td>\n",
       "      <td>88.846764</td>\n",
       "      <td>63.747202</td>\n",
       "      <td>47.160004</td>\n",
       "      <td>165.984218</td>\n",
       "      <td>176.982940</td>\n",
       "    </tr>\n",
       "    <tr>\n",
       "      <th>7557</th>\n",
       "      <td>72.475281</td>\n",
       "      <td>436.222057</td>\n",
       "      <td>52.984877</td>\n",
       "      <td>18.919567</td>\n",
       "      <td>51.445506</td>\n",
       "      <td>268.401958</td>\n",
       "      <td>46.371003</td>\n",
       "      <td>96.394980</td>\n",
       "      <td>298.860428</td>\n",
       "      <td>85.924500</td>\n",
       "      <td>...</td>\n",
       "      <td>150.027990</td>\n",
       "      <td>126.126431</td>\n",
       "      <td>392.367797</td>\n",
       "      <td>109.915950</td>\n",
       "      <td>73.829899</td>\n",
       "      <td>90.356957</td>\n",
       "      <td>62.920745</td>\n",
       "      <td>47.356912</td>\n",
       "      <td>165.653278</td>\n",
       "      <td>176.267682</td>\n",
       "    </tr>\n",
       "    <tr>\n",
       "      <th>7558</th>\n",
       "      <td>72.459919</td>\n",
       "      <td>436.428584</td>\n",
       "      <td>52.555584</td>\n",
       "      <td>19.019738</td>\n",
       "      <td>51.280029</td>\n",
       "      <td>264.509371</td>\n",
       "      <td>46.632918</td>\n",
       "      <td>95.761674</td>\n",
       "      <td>303.802011</td>\n",
       "      <td>84.881758</td>\n",
       "      <td>...</td>\n",
       "      <td>149.792171</td>\n",
       "      <td>127.143097</td>\n",
       "      <td>388.606924</td>\n",
       "      <td>109.683476</td>\n",
       "      <td>73.933833</td>\n",
       "      <td>91.018100</td>\n",
       "      <td>63.769156</td>\n",
       "      <td>47.742239</td>\n",
       "      <td>164.466144</td>\n",
       "      <td>176.723504</td>\n",
       "    </tr>\n",
       "    <tr>\n",
       "      <th>7559</th>\n",
       "      <td>72.047884</td>\n",
       "      <td>429.618111</td>\n",
       "      <td>52.316084</td>\n",
       "      <td>19.038001</td>\n",
       "      <td>51.733278</td>\n",
       "      <td>263.036414</td>\n",
       "      <td>46.655745</td>\n",
       "      <td>94.799650</td>\n",
       "      <td>304.839601</td>\n",
       "      <td>84.874454</td>\n",
       "      <td>...</td>\n",
       "      <td>151.433920</td>\n",
       "      <td>128.570049</td>\n",
       "      <td>388.951731</td>\n",
       "      <td>108.650719</td>\n",
       "      <td>74.278294</td>\n",
       "      <td>92.471045</td>\n",
       "      <td>62.374952</td>\n",
       "      <td>48.344741</td>\n",
       "      <td>164.681185</td>\n",
       "      <td>173.770717</td>\n",
       "    </tr>\n",
       "    <tr>\n",
       "      <th>7560</th>\n",
       "      <td>72.091119</td>\n",
       "      <td>429.688139</td>\n",
       "      <td>52.593415</td>\n",
       "      <td>18.823010</td>\n",
       "      <td>51.902995</td>\n",
       "      <td>265.275564</td>\n",
       "      <td>46.402480</td>\n",
       "      <td>95.023020</td>\n",
       "      <td>303.547080</td>\n",
       "      <td>84.641468</td>\n",
       "      <td>...</td>\n",
       "      <td>151.280938</td>\n",
       "      <td>128.801585</td>\n",
       "      <td>388.806240</td>\n",
       "      <td>108.306245</td>\n",
       "      <td>73.595993</td>\n",
       "      <td>92.663859</td>\n",
       "      <td>62.462600</td>\n",
       "      <td>47.865828</td>\n",
       "      <td>163.296460</td>\n",
       "      <td>173.634073</td>\n",
       "    </tr>\n",
       "  </tbody>\n",
       "</table>\n",
       "<p>7561 rows × 500 columns</p>\n",
       "</div>"
      ],
      "text/plain": [
       "            0           1          2          3          4           5    \\\n",
       "0      1.000000    1.000000   1.000000   1.000000   1.000000    1.000000   \n",
       "1      1.005004    0.996095   1.010770   0.990756   0.986638    0.994660   \n",
       "2      1.005408    1.007618   1.007589   0.975625   0.985319    0.995644   \n",
       "3      1.010750    1.012514   1.015353   0.981989   1.000064    0.990944   \n",
       "4      0.996398    1.027900   1.012311   0.986883   0.998303    0.993711   \n",
       "...         ...         ...        ...        ...        ...         ...   \n",
       "7556  73.205707  435.371464  53.361777  18.895591  51.100686  269.565475   \n",
       "7557  72.475281  436.222057  52.984877  18.919567  51.445506  268.401958   \n",
       "7558  72.459919  436.428584  52.555584  19.019738  51.280029  264.509371   \n",
       "7559  72.047884  429.618111  52.316084  19.038001  51.733278  263.036414   \n",
       "7560  72.091119  429.688139  52.593415  18.823010  51.902995  265.275564   \n",
       "\n",
       "            6          7           8          9    ...         490  \\\n",
       "0      1.000000   1.000000    1.000000   1.000000  ...    1.000000   \n",
       "1      1.011887   0.987710    0.997088   0.996661  ...    1.007775   \n",
       "2      1.004030   0.987375    1.008414   0.990362  ...    1.020891   \n",
       "3      1.012628   0.988618    1.001304   0.991785  ...    1.001570   \n",
       "4      1.018276   0.990236    1.008380   0.984786  ...    1.006036   \n",
       "...         ...        ...         ...        ...  ...         ...   \n",
       "7556  46.532127  94.615762  298.083485  85.976424  ...  151.450529   \n",
       "7557  46.371003  96.394980  298.860428  85.924500  ...  150.027990   \n",
       "7558  46.632918  95.761674  303.802011  84.881758  ...  149.792171   \n",
       "7559  46.655745  94.799650  304.839601  84.874454  ...  151.433920   \n",
       "7560  46.402480  95.023020  303.547080  84.641468  ...  151.280938   \n",
       "\n",
       "             491         492         493        494        495        496  \\\n",
       "0       1.000000    1.000000    1.000000   1.000000   1.000000   1.000000   \n",
       "1       0.996421    1.000426    0.994671   1.004740   1.001674   0.997313   \n",
       "2       0.991227    1.007168    0.987761   0.991917   1.001305   1.016903   \n",
       "3       0.989117    1.017432    0.983068   0.992230   0.999727   1.020487   \n",
       "4       0.999791    1.021736    0.974720   1.009966   0.991122   1.027821   \n",
       "...          ...         ...         ...        ...        ...        ...   \n",
       "7556  124.769796  391.962524  109.149995  73.765047  88.846764  63.747202   \n",
       "7557  126.126431  392.367797  109.915950  73.829899  90.356957  62.920745   \n",
       "7558  127.143097  388.606924  109.683476  73.933833  91.018100  63.769156   \n",
       "7559  128.570049  388.951731  108.650719  74.278294  92.471045  62.374952   \n",
       "7560  128.801585  388.806240  108.306245  73.595993  92.663859  62.462600   \n",
       "\n",
       "            497         498         499  \n",
       "0      1.000000    1.000000    1.000000  \n",
       "1      0.995981    1.008744    0.992849  \n",
       "2      0.989335    1.012471    0.995252  \n",
       "3      0.989881    1.014124    0.993963  \n",
       "4      0.995627    1.025986    1.001666  \n",
       "...         ...         ...         ...  \n",
       "7556  47.160004  165.984218  176.982940  \n",
       "7557  47.356912  165.653278  176.267682  \n",
       "7558  47.742239  164.466144  176.723504  \n",
       "7559  48.344741  164.681185  173.770717  \n",
       "7560  47.865828  163.296460  173.634073  \n",
       "\n",
       "[7561 rows x 500 columns]"
      ]
     },
     "execution_count": 84,
     "metadata": {},
     "output_type": "execute_result"
    }
   ],
   "source": [
    "# Run the Monte Carlo simulation to forecast 30 years cumulative returns\n",
    "mc_thirtyyear.calc_cumulative_return()\n"
   ]
  },
  {
   "cell_type": "code",
   "execution_count": 85,
   "metadata": {},
   "outputs": [
    {
     "data": {
      "image/png": "[encoded data removed]",
      "text/plain": [
       "<Figure size 432x288 with 1 Axes>"
      ]
     },
     "metadata": {
      "needs_background": "light"
     },
     "output_type": "display_data"
    }
   ],
   "source": [
    "# Visualize the 30-year Monte Carlo simulation by creating an\n",
    "# overlay line plot\n",
    "mc_thirtyyear.plot_simulation();\n"
   ]
  },
  {
   "cell_type": "markdown",
   "metadata": {},
   "source": [
    "#### Step 3: Plot the probability distribution of the Monte Carlo simulation."
   ]
  },
  {
   "cell_type": "code",
   "execution_count": 86,
   "metadata": {},
   "outputs": [
    {
     "data": {
      "image/png": "[encoded data removed]",
      "text/plain": [
       "<Figure size 432x288 with 1 Axes>"
      ]
     },
     "metadata": {
      "needs_background": "light"
     },
     "output_type": "display_data"
    }
   ],
   "source": [
    "# Visualize the probability distribution of the 30-year Monte Carlo simulation \n",
    "# by plotting a histogram\n",
    "mc_thirtyyear.plot_distribution();"
   ]
  },
  {
   "cell_type": "markdown",
   "metadata": {},
   "source": [
    "#### Step 4: Generate the summary statistics for the Monte Carlo simulation."
   ]
  },
  {
   "cell_type": "code",
   "execution_count": 87,
   "metadata": {},
   "outputs": [
    {
     "data": {
      "text/plain": [
       "count           500.000000\n",
       "mean            113.833215\n",
       "std              95.716262\n",
       "min               7.479781\n",
       "25%              52.104816\n",
       "50%              87.175369\n",
       "75%             140.095934\n",
       "max             791.898654\n",
       "95% CI Lower     19.927401\n",
       "95% CI Upper    363.656392\n",
       "Name: 7560, dtype: float64"
      ]
     },
     "execution_count": 87,
     "metadata": {},
     "output_type": "execute_result"
    }
   ],
   "source": [
    "# Generate summary statistics from the 30-year Monte Carlo simulation results\n",
    "# Save the results as a variable\n",
    "MC_summary_statistics_30 = mc_thirtyyear.summarize_cumulative_return()\n",
    "\n",
    "\n",
    "# Review the 30-year Monte Carlo summary statistics\n",
    "MC_summary_statistics_30"
   ]
  },
  {
   "cell_type": "markdown",
   "metadata": {},
   "source": [
    "### Analyze the Retirement Portfolio Forecasts\n",
    "\n",
    "Using the current value of only the stock and bond portion of the member's portfolio and the summary statistics that you generated from the Monte Carlo simulation, answer the following question in your Jupyter notebook:\n",
    "\n",
    "-  What are the lower and upper bounds for the expected value of the portfolio with a 95% confidence interval?\n"
   ]
  },
  {
   "cell_type": "code",
   "execution_count": 88,
   "metadata": {},
   "outputs": [
    {
     "name": "stdout",
     "output_type": "stream",
     "text": [
      "The current balance of stocks and bonds is $60,689.50\n"
     ]
    }
   ],
   "source": [
    "# Print the current balance of the stock and bond portion of the members portfolio\n",
    "print(f\"The current balance of stocks and bonds is ${total_stocks_bonds:,.2f}\")\n"
   ]
  },
  {
   "cell_type": "code",
   "execution_count": 89,
   "metadata": {},
   "outputs": [
    {
     "name": "stdout",
     "output_type": "stream",
     "text": [
      "There is a 95% chance that your current balance of $60,689.50 over the next 30 years will end within the range of $1,209,383.98 and $22,070,124.58.\n"
     ]
    }
   ],
   "source": [
    "# Use the lower and upper `95%` confidence intervals to calculate the range of the possible outcomes for the current stock/bond portfolio\n",
    "ci_lower_thirty_cumulative_return = MC_summary_statistics_30[8] * total_stocks_bonds\n",
    "ci_upper_thirty_cumulative_return = MC_summary_statistics_30[9] * total_stocks_bonds\n",
    "\n",
    "# Print the result of your calculations\n",
    "print(f\"There is a 95% chance that your current balance of ${total_stocks_bonds:,.2f}\"\n",
    "      f\" over the next 30 years will end within the range of\"\n",
    "      f\" ${ci_lower_thirty_cumulative_return:,.2f} and ${ci_upper_thirty_cumulative_return:,.2f}.\")\n"
   ]
  },
  {
   "cell_type": "markdown",
   "metadata": {},
   "source": [
    "### Forecast Cumulative Returns in 10 Years\n",
    "\n",
    "The CTO of the credit union is impressed with your work on these planning tools but wonders if 30 years is a long time to wait until retirement. So, your next task is to adjust the retirement portfolio and run a new Monte Carlo simulation to find out if the changes will allow members to retire earlier.\n",
    "\n",
    "For this new Monte Carlo simulation, do the following: \n",
    "\n",
    "- Forecast the cumulative returns for 10 years from now. Because of the shortened investment horizon (30 years to 10 years), the portfolio needs to invest more heavily in the riskier asset&mdash;that is, stock&mdash;to help accumulate wealth for retirement. \n",
    "\n",
    "- Adjust the weights of the retirement portfolio so that the composition for the Monte Carlo simulation consists of 20% bonds and 80% stocks. \n",
    "\n",
    "- Run the simulation over 500 samples, and use the same data that the API call to Alpaca generated.\n",
    "\n",
    "- Based on the new Monte Carlo simulation, answer the following questions in your Jupyter notebook:\n",
    "\n",
    "    - Using the current value of only the stock and bond portion of the member's portfolio and the summary statistics that you generated from the new Monte Carlo simulation, what are the lower and upper bounds for the expected value of the portfolio (with the new weights) with a 95% confidence interval?\n",
    "\n",
    "    - Will weighting the portfolio more heavily toward stocks allow the credit union members to retire after only 10 years?\n"
   ]
  },
  {
   "cell_type": "code",
   "execution_count": 90,
   "metadata": {},
   "outputs": [
    {
     "data": {
      "text/html": [
       "<div>\n",
       "<style scoped>\n",
       "    .dataframe tbody tr th:only-of-type {\n",
       "        vertical-align: middle;\n",
       "    }\n",
       "\n",
       "    .dataframe tbody tr th {\n",
       "        vertical-align: top;\n",
       "    }\n",
       "\n",
       "    .dataframe thead tr th {\n",
       "        text-align: left;\n",
       "    }\n",
       "\n",
       "    .dataframe thead tr:last-of-type th {\n",
       "        text-align: right;\n",
       "    }\n",
       "</style>\n",
       "<table border=\"1\" class=\"dataframe\">\n",
       "  <thead>\n",
       "    <tr>\n",
       "      <th></th>\n",
       "      <th colspan=\"6\" halign=\"left\">AGG</th>\n",
       "      <th colspan=\"6\" halign=\"left\">SPY</th>\n",
       "    </tr>\n",
       "    <tr>\n",
       "      <th></th>\n",
       "      <th>open</th>\n",
       "      <th>high</th>\n",
       "      <th>low</th>\n",
       "      <th>close</th>\n",
       "      <th>volume</th>\n",
       "      <th>daily_return</th>\n",
       "      <th>open</th>\n",
       "      <th>high</th>\n",
       "      <th>low</th>\n",
       "      <th>close</th>\n",
       "      <th>volume</th>\n",
       "      <th>daily_return</th>\n",
       "    </tr>\n",
       "    <tr>\n",
       "      <th>time</th>\n",
       "      <th></th>\n",
       "      <th></th>\n",
       "      <th></th>\n",
       "      <th></th>\n",
       "      <th></th>\n",
       "      <th></th>\n",
       "      <th></th>\n",
       "      <th></th>\n",
       "      <th></th>\n",
       "      <th></th>\n",
       "      <th></th>\n",
       "      <th></th>\n",
       "    </tr>\n",
       "  </thead>\n",
       "  <tbody>\n",
       "    <tr>\n",
       "      <th>2018-12-27 00:00:00-05:00</th>\n",
       "      <td>105.95</td>\n",
       "      <td>106.060</td>\n",
       "      <td>105.7700</td>\n",
       "      <td>105.790</td>\n",
       "      <td>8931609.0</td>\n",
       "      <td>NaN</td>\n",
       "      <td>242.57</td>\n",
       "      <td>248.01</td>\n",
       "      <td>238.96</td>\n",
       "      <td>248.0100</td>\n",
       "      <td>159105665</td>\n",
       "      <td>NaN</td>\n",
       "    </tr>\n",
       "    <tr>\n",
       "      <th>2018-12-28 00:00:00-05:00</th>\n",
       "      <td>105.97</td>\n",
       "      <td>106.210</td>\n",
       "      <td>105.9400</td>\n",
       "      <td>106.205</td>\n",
       "      <td>6588564.0</td>\n",
       "      <td>0.003923</td>\n",
       "      <td>249.58</td>\n",
       "      <td>251.40</td>\n",
       "      <td>246.45</td>\n",
       "      <td>247.6899</td>\n",
       "      <td>132250127</td>\n",
       "      <td>-0.001291</td>\n",
       "    </tr>\n",
       "    <tr>\n",
       "      <th>2018-12-31 00:00:00-05:00</th>\n",
       "      <td>106.12</td>\n",
       "      <td>106.510</td>\n",
       "      <td>105.6200</td>\n",
       "      <td>106.495</td>\n",
       "      <td>8349838.0</td>\n",
       "      <td>0.002731</td>\n",
       "      <td>249.56</td>\n",
       "      <td>250.16</td>\n",
       "      <td>247.47</td>\n",
       "      <td>248.5500</td>\n",
       "      <td>100767777</td>\n",
       "      <td>0.003472</td>\n",
       "    </tr>\n",
       "    <tr>\n",
       "      <th>2019-01-02 00:00:00-05:00</th>\n",
       "      <td>106.55</td>\n",
       "      <td>106.610</td>\n",
       "      <td>106.4701</td>\n",
       "      <td>106.585</td>\n",
       "      <td>10164756.0</td>\n",
       "      <td>0.000845</td>\n",
       "      <td>245.98</td>\n",
       "      <td>251.21</td>\n",
       "      <td>245.95</td>\n",
       "      <td>249.8900</td>\n",
       "      <td>107236613</td>\n",
       "      <td>0.005391</td>\n",
       "    </tr>\n",
       "    <tr>\n",
       "      <th>2019-01-03 00:00:00-05:00</th>\n",
       "      <td>106.57</td>\n",
       "      <td>107.075</td>\n",
       "      <td>106.5700</td>\n",
       "      <td>107.020</td>\n",
       "      <td>6260265.0</td>\n",
       "      <td>0.004081</td>\n",
       "      <td>248.23</td>\n",
       "      <td>248.57</td>\n",
       "      <td>244.03</td>\n",
       "      <td>244.4600</td>\n",
       "      <td>113782919</td>\n",
       "      <td>-0.021730</td>\n",
       "    </tr>\n",
       "  </tbody>\n",
       "</table>\n",
       "</div>"
      ],
      "text/plain": [
       "                              AGG                                          \\\n",
       "                             open     high       low    close      volume   \n",
       "time                                                                        \n",
       "2018-12-27 00:00:00-05:00  105.95  106.060  105.7700  105.790   8931609.0   \n",
       "2018-12-28 00:00:00-05:00  105.97  106.210  105.9400  106.205   6588564.0   \n",
       "2018-12-31 00:00:00-05:00  106.12  106.510  105.6200  106.495   8349838.0   \n",
       "2019-01-02 00:00:00-05:00  106.55  106.610  106.4701  106.585  10164756.0   \n",
       "2019-01-03 00:00:00-05:00  106.57  107.075  106.5700  107.020   6260265.0   \n",
       "\n",
       "                                           SPY                            \\\n",
       "                          daily_return    open    high     low     close   \n",
       "time                                                                       \n",
       "2018-12-27 00:00:00-05:00          NaN  242.57  248.01  238.96  248.0100   \n",
       "2018-12-28 00:00:00-05:00     0.003923  249.58  251.40  246.45  247.6899   \n",
       "2018-12-31 00:00:00-05:00     0.002731  249.56  250.16  247.47  248.5500   \n",
       "2019-01-02 00:00:00-05:00     0.000845  245.98  251.21  245.95  249.8900   \n",
       "2019-01-03 00:00:00-05:00     0.004081  248.23  248.57  244.03  244.4600   \n",
       "\n",
       "                                                   \n",
       "                              volume daily_return  \n",
       "time                                               \n",
       "2018-12-27 00:00:00-05:00  159105665          NaN  \n",
       "2018-12-28 00:00:00-05:00  132250127    -0.001291  \n",
       "2018-12-31 00:00:00-05:00  100767777     0.003472  \n",
       "2019-01-02 00:00:00-05:00  107236613     0.005391  \n",
       "2019-01-03 00:00:00-05:00  113782919    -0.021730  "
      ]
     },
     "execution_count": 90,
     "metadata": {},
     "output_type": "execute_result"
    }
   ],
   "source": [
    "# Configure a Monte Carlo simulation to forecast 10 years cumulative returns\n",
    "# The weights should be split 20% to AGG and 80% to SPY.\n",
    "# Run 500 samples.\n",
    "MC_ten_year = MCSimulation(\n",
    "    portfolio_data=prices_df,\n",
    "    weights = [.20,.80],\n",
    "    num_simulation=500,\n",
    "    num_trading_days=252*10\n",
    ")\n",
    "\n",
    "# Review the simulation input data\n",
    "MC_ten_year.portfolio_data.head()\n"
   ]
  },
  {
   "cell_type": "code",
   "execution_count": 91,
   "metadata": {},
   "outputs": [
    {
     "name": "stdout",
     "output_type": "stream",
     "text": [
      "Running Monte Carlo simulation number 0.\n",
      "Running Monte Carlo simulation number 10.\n",
      "Running Monte Carlo simulation number 20.\n",
      "Running Monte Carlo simulation number 30.\n",
      "Running Monte Carlo simulation number 40.\n",
      "Running Monte Carlo simulation number 50.\n",
      "Running Monte Carlo simulation number 60.\n",
      "Running Monte Carlo simulation number 70.\n",
      "Running Monte Carlo simulation number 80.\n",
      "Running Monte Carlo simulation number 90.\n",
      "Running Monte Carlo simulation number 100.\n",
      "Running Monte Carlo simulation number 110.\n",
      "Running Monte Carlo simulation number 120.\n",
      "Running Monte Carlo simulation number 130.\n",
      "Running Monte Carlo simulation number 140.\n",
      "Running Monte Carlo simulation number 150.\n",
      "Running Monte Carlo simulation number 160.\n",
      "Running Monte Carlo simulation number 170.\n",
      "Running Monte Carlo simulation number 180.\n",
      "Running Monte Carlo simulation number 190.\n",
      "Running Monte Carlo simulation number 200.\n",
      "Running Monte Carlo simulation number 210.\n",
      "Running Monte Carlo simulation number 220.\n",
      "Running Monte Carlo simulation number 230.\n",
      "Running Monte Carlo simulation number 240.\n",
      "Running Monte Carlo simulation number 250.\n",
      "Running Monte Carlo simulation number 260.\n",
      "Running Monte Carlo simulation number 270.\n",
      "Running Monte Carlo simulation number 280.\n",
      "Running Monte Carlo simulation number 290.\n",
      "Running Monte Carlo simulation number 300.\n",
      "Running Monte Carlo simulation number 310.\n",
      "Running Monte Carlo simulation number 320.\n",
      "Running Monte Carlo simulation number 330.\n",
      "Running Monte Carlo simulation number 340.\n",
      "Running Monte Carlo simulation number 350.\n",
      "Running Monte Carlo simulation number 360.\n",
      "Running Monte Carlo simulation number 370.\n",
      "Running Monte Carlo simulation number 380.\n",
      "Running Monte Carlo simulation number 390.\n",
      "Running Monte Carlo simulation number 400.\n",
      "Running Monte Carlo simulation number 410.\n",
      "Running Monte Carlo simulation number 420.\n",
      "Running Monte Carlo simulation number 430.\n",
      "Running Monte Carlo simulation number 440.\n",
      "Running Monte Carlo simulation number 450.\n",
      "Running Monte Carlo simulation number 460.\n",
      "Running Monte Carlo simulation number 470.\n",
      "Running Monte Carlo simulation number 480.\n",
      "Running Monte Carlo simulation number 490.\n"
     ]
    },
    {
     "data": {
      "text/html": [
       "<div>\n",
       "<style scoped>\n",
       "    .dataframe tbody tr th:only-of-type {\n",
       "        vertical-align: middle;\n",
       "    }\n",
       "\n",
       "    .dataframe tbody tr th {\n",
       "        vertical-align: top;\n",
       "    }\n",
       "\n",
       "    .dataframe thead th {\n",
       "        text-align: right;\n",
       "    }\n",
       "</style>\n",
       "<table border=\"1\" class=\"dataframe\">\n",
       "  <thead>\n",
       "    <tr style=\"text-align: right;\">\n",
       "      <th></th>\n",
       "      <th>0</th>\n",
       "      <th>1</th>\n",
       "      <th>2</th>\n",
       "      <th>3</th>\n",
       "      <th>4</th>\n",
       "      <th>5</th>\n",
       "      <th>6</th>\n",
       "      <th>7</th>\n",
       "      <th>8</th>\n",
       "      <th>9</th>\n",
       "      <th>...</th>\n",
       "      <th>490</th>\n",
       "      <th>491</th>\n",
       "      <th>492</th>\n",
       "      <th>493</th>\n",
       "      <th>494</th>\n",
       "      <th>495</th>\n",
       "      <th>496</th>\n",
       "      <th>497</th>\n",
       "      <th>498</th>\n",
       "      <th>499</th>\n",
       "    </tr>\n",
       "  </thead>\n",
       "  <tbody>\n",
       "    <tr>\n",
       "      <th>0</th>\n",
       "      <td>1.000000</td>\n",
       "      <td>1.000000</td>\n",
       "      <td>1.000000</td>\n",
       "      <td>1.000000</td>\n",
       "      <td>1.000000</td>\n",
       "      <td>1.000000</td>\n",
       "      <td>1.000000</td>\n",
       "      <td>1.000000</td>\n",
       "      <td>1.000000</td>\n",
       "      <td>1.000000</td>\n",
       "      <td>...</td>\n",
       "      <td>1.000000</td>\n",
       "      <td>1.000000</td>\n",
       "      <td>1.000000</td>\n",
       "      <td>1.000000</td>\n",
       "      <td>1.000000</td>\n",
       "      <td>1.000000</td>\n",
       "      <td>1.000000</td>\n",
       "      <td>1.000000</td>\n",
       "      <td>1.000000</td>\n",
       "      <td>1.000000</td>\n",
       "    </tr>\n",
       "    <tr>\n",
       "      <th>1</th>\n",
       "      <td>0.986726</td>\n",
       "      <td>0.999281</td>\n",
       "      <td>1.022437</td>\n",
       "      <td>1.004409</td>\n",
       "      <td>0.998025</td>\n",
       "      <td>1.005122</td>\n",
       "      <td>1.002173</td>\n",
       "      <td>0.992678</td>\n",
       "      <td>1.030324</td>\n",
       "      <td>0.986158</td>\n",
       "      <td>...</td>\n",
       "      <td>1.001013</td>\n",
       "      <td>1.025390</td>\n",
       "      <td>0.994367</td>\n",
       "      <td>0.992802</td>\n",
       "      <td>1.005101</td>\n",
       "      <td>1.005882</td>\n",
       "      <td>1.000880</td>\n",
       "      <td>1.008389</td>\n",
       "      <td>0.984151</td>\n",
       "      <td>0.970211</td>\n",
       "    </tr>\n",
       "    <tr>\n",
       "      <th>2</th>\n",
       "      <td>0.989637</td>\n",
       "      <td>0.999888</td>\n",
       "      <td>1.041595</td>\n",
       "      <td>0.996930</td>\n",
       "      <td>1.015577</td>\n",
       "      <td>1.020052</td>\n",
       "      <td>0.984890</td>\n",
       "      <td>1.000579</td>\n",
       "      <td>1.042976</td>\n",
       "      <td>0.988593</td>\n",
       "      <td>...</td>\n",
       "      <td>1.008413</td>\n",
       "      <td>1.024705</td>\n",
       "      <td>1.004969</td>\n",
       "      <td>0.997900</td>\n",
       "      <td>1.007868</td>\n",
       "      <td>0.997534</td>\n",
       "      <td>1.005767</td>\n",
       "      <td>1.013438</td>\n",
       "      <td>0.968402</td>\n",
       "      <td>0.966609</td>\n",
       "    </tr>\n",
       "    <tr>\n",
       "      <th>3</th>\n",
       "      <td>1.001613</td>\n",
       "      <td>1.022299</td>\n",
       "      <td>1.031688</td>\n",
       "      <td>0.994770</td>\n",
       "      <td>1.016107</td>\n",
       "      <td>1.026174</td>\n",
       "      <td>0.997263</td>\n",
       "      <td>1.003000</td>\n",
       "      <td>1.048133</td>\n",
       "      <td>0.994164</td>\n",
       "      <td>...</td>\n",
       "      <td>1.023746</td>\n",
       "      <td>1.034931</td>\n",
       "      <td>0.991928</td>\n",
       "      <td>0.999169</td>\n",
       "      <td>0.991686</td>\n",
       "      <td>1.000033</td>\n",
       "      <td>1.005784</td>\n",
       "      <td>1.012463</td>\n",
       "      <td>0.973823</td>\n",
       "      <td>0.987660</td>\n",
       "    </tr>\n",
       "    <tr>\n",
       "      <th>4</th>\n",
       "      <td>0.989708</td>\n",
       "      <td>1.014723</td>\n",
       "      <td>1.025896</td>\n",
       "      <td>0.994567</td>\n",
       "      <td>1.030104</td>\n",
       "      <td>1.027550</td>\n",
       "      <td>1.009158</td>\n",
       "      <td>1.002543</td>\n",
       "      <td>1.059938</td>\n",
       "      <td>0.989381</td>\n",
       "      <td>...</td>\n",
       "      <td>1.030055</td>\n",
       "      <td>1.042634</td>\n",
       "      <td>0.995245</td>\n",
       "      <td>0.994104</td>\n",
       "      <td>0.977505</td>\n",
       "      <td>1.002413</td>\n",
       "      <td>1.018965</td>\n",
       "      <td>1.005949</td>\n",
       "      <td>0.968343</td>\n",
       "      <td>0.981984</td>\n",
       "    </tr>\n",
       "    <tr>\n",
       "      <th>...</th>\n",
       "      <td>...</td>\n",
       "      <td>...</td>\n",
       "      <td>...</td>\n",
       "      <td>...</td>\n",
       "      <td>...</td>\n",
       "      <td>...</td>\n",
       "      <td>...</td>\n",
       "      <td>...</td>\n",
       "      <td>...</td>\n",
       "      <td>...</td>\n",
       "      <td>...</td>\n",
       "      <td>...</td>\n",
       "      <td>...</td>\n",
       "      <td>...</td>\n",
       "      <td>...</td>\n",
       "      <td>...</td>\n",
       "      <td>...</td>\n",
       "      <td>...</td>\n",
       "      <td>...</td>\n",
       "      <td>...</td>\n",
       "      <td>...</td>\n",
       "    </tr>\n",
       "    <tr>\n",
       "      <th>2516</th>\n",
       "      <td>5.866116</td>\n",
       "      <td>7.971153</td>\n",
       "      <td>5.637555</td>\n",
       "      <td>5.674915</td>\n",
       "      <td>5.103917</td>\n",
       "      <td>9.146502</td>\n",
       "      <td>6.103380</td>\n",
       "      <td>8.878684</td>\n",
       "      <td>7.086810</td>\n",
       "      <td>2.555297</td>\n",
       "      <td>...</td>\n",
       "      <td>9.608034</td>\n",
       "      <td>10.781941</td>\n",
       "      <td>10.758566</td>\n",
       "      <td>8.004096</td>\n",
       "      <td>8.836859</td>\n",
       "      <td>3.010487</td>\n",
       "      <td>7.869380</td>\n",
       "      <td>4.155981</td>\n",
       "      <td>5.778512</td>\n",
       "      <td>4.020525</td>\n",
       "    </tr>\n",
       "    <tr>\n",
       "      <th>2517</th>\n",
       "      <td>5.772861</td>\n",
       "      <td>7.902174</td>\n",
       "      <td>5.595469</td>\n",
       "      <td>5.729621</td>\n",
       "      <td>5.155067</td>\n",
       "      <td>9.142923</td>\n",
       "      <td>6.121023</td>\n",
       "      <td>8.710765</td>\n",
       "      <td>7.088298</td>\n",
       "      <td>2.576077</td>\n",
       "      <td>...</td>\n",
       "      <td>9.450257</td>\n",
       "      <td>10.775916</td>\n",
       "      <td>10.487041</td>\n",
       "      <td>7.785050</td>\n",
       "      <td>8.840556</td>\n",
       "      <td>3.014811</td>\n",
       "      <td>7.820734</td>\n",
       "      <td>4.085464</td>\n",
       "      <td>5.838809</td>\n",
       "      <td>4.044669</td>\n",
       "    </tr>\n",
       "    <tr>\n",
       "      <th>2518</th>\n",
       "      <td>5.806054</td>\n",
       "      <td>7.853519</td>\n",
       "      <td>5.519129</td>\n",
       "      <td>5.672275</td>\n",
       "      <td>5.037662</td>\n",
       "      <td>9.197549</td>\n",
       "      <td>6.184574</td>\n",
       "      <td>8.562440</td>\n",
       "      <td>6.996307</td>\n",
       "      <td>2.573703</td>\n",
       "      <td>...</td>\n",
       "      <td>9.453409</td>\n",
       "      <td>10.970254</td>\n",
       "      <td>10.739636</td>\n",
       "      <td>7.739466</td>\n",
       "      <td>8.914686</td>\n",
       "      <td>3.010225</td>\n",
       "      <td>7.932748</td>\n",
       "      <td>4.092234</td>\n",
       "      <td>5.798438</td>\n",
       "      <td>4.061118</td>\n",
       "    </tr>\n",
       "    <tr>\n",
       "      <th>2519</th>\n",
       "      <td>5.851157</td>\n",
       "      <td>8.102898</td>\n",
       "      <td>5.539190</td>\n",
       "      <td>5.673827</td>\n",
       "      <td>5.048695</td>\n",
       "      <td>9.223267</td>\n",
       "      <td>6.222163</td>\n",
       "      <td>8.590491</td>\n",
       "      <td>7.004589</td>\n",
       "      <td>2.551760</td>\n",
       "      <td>...</td>\n",
       "      <td>9.311126</td>\n",
       "      <td>11.042199</td>\n",
       "      <td>10.631486</td>\n",
       "      <td>7.947013</td>\n",
       "      <td>8.874927</td>\n",
       "      <td>2.977923</td>\n",
       "      <td>7.955763</td>\n",
       "      <td>4.182901</td>\n",
       "      <td>5.814492</td>\n",
       "      <td>4.109860</td>\n",
       "    </tr>\n",
       "    <tr>\n",
       "      <th>2520</th>\n",
       "      <td>5.903246</td>\n",
       "      <td>8.090261</td>\n",
       "      <td>5.594921</td>\n",
       "      <td>5.629477</td>\n",
       "      <td>4.996553</td>\n",
       "      <td>9.123650</td>\n",
       "      <td>6.168147</td>\n",
       "      <td>8.509734</td>\n",
       "      <td>6.782618</td>\n",
       "      <td>2.547194</td>\n",
       "      <td>...</td>\n",
       "      <td>9.218265</td>\n",
       "      <td>10.876506</td>\n",
       "      <td>10.506531</td>\n",
       "      <td>7.914744</td>\n",
       "      <td>8.856579</td>\n",
       "      <td>3.014324</td>\n",
       "      <td>7.900844</td>\n",
       "      <td>4.214691</td>\n",
       "      <td>5.846514</td>\n",
       "      <td>4.146038</td>\n",
       "    </tr>\n",
       "  </tbody>\n",
       "</table>\n",
       "<p>2521 rows × 500 columns</p>\n",
       "</div>"
      ],
      "text/plain": [
       "           0         1         2         3         4         5         6    \\\n",
       "0     1.000000  1.000000  1.000000  1.000000  1.000000  1.000000  1.000000   \n",
       "1     0.986726  0.999281  1.022437  1.004409  0.998025  1.005122  1.002173   \n",
       "2     0.989637  0.999888  1.041595  0.996930  1.015577  1.020052  0.984890   \n",
       "3     1.001613  1.022299  1.031688  0.994770  1.016107  1.026174  0.997263   \n",
       "4     0.989708  1.014723  1.025896  0.994567  1.030104  1.027550  1.009158   \n",
       "...        ...       ...       ...       ...       ...       ...       ...   \n",
       "2516  5.866116  7.971153  5.637555  5.674915  5.103917  9.146502  6.103380   \n",
       "2517  5.772861  7.902174  5.595469  5.729621  5.155067  9.142923  6.121023   \n",
       "2518  5.806054  7.853519  5.519129  5.672275  5.037662  9.197549  6.184574   \n",
       "2519  5.851157  8.102898  5.539190  5.673827  5.048695  9.223267  6.222163   \n",
       "2520  5.903246  8.090261  5.594921  5.629477  4.996553  9.123650  6.168147   \n",
       "\n",
       "           7         8         9    ...       490        491        492  \\\n",
       "0     1.000000  1.000000  1.000000  ...  1.000000   1.000000   1.000000   \n",
       "1     0.992678  1.030324  0.986158  ...  1.001013   1.025390   0.994367   \n",
       "2     1.000579  1.042976  0.988593  ...  1.008413   1.024705   1.004969   \n",
       "3     1.003000  1.048133  0.994164  ...  1.023746   1.034931   0.991928   \n",
       "4     1.002543  1.059938  0.989381  ...  1.030055   1.042634   0.995245   \n",
       "...        ...       ...       ...  ...       ...        ...        ...   \n",
       "2516  8.878684  7.086810  2.555297  ...  9.608034  10.781941  10.758566   \n",
       "2517  8.710765  7.088298  2.576077  ...  9.450257  10.775916  10.487041   \n",
       "2518  8.562440  6.996307  2.573703  ...  9.453409  10.970254  10.739636   \n",
       "2519  8.590491  7.004589  2.551760  ...  9.311126  11.042199  10.631486   \n",
       "2520  8.509734  6.782618  2.547194  ...  9.218265  10.876506  10.506531   \n",
       "\n",
       "           493       494       495       496       497       498       499  \n",
       "0     1.000000  1.000000  1.000000  1.000000  1.000000  1.000000  1.000000  \n",
       "1     0.992802  1.005101  1.005882  1.000880  1.008389  0.984151  0.970211  \n",
       "2     0.997900  1.007868  0.997534  1.005767  1.013438  0.968402  0.966609  \n",
       "3     0.999169  0.991686  1.000033  1.005784  1.012463  0.973823  0.987660  \n",
       "4     0.994104  0.977505  1.002413  1.018965  1.005949  0.968343  0.981984  \n",
       "...        ...       ...       ...       ...       ...       ...       ...  \n",
       "2516  8.004096  8.836859  3.010487  7.869380  4.155981  5.778512  4.020525  \n",
       "2517  7.785050  8.840556  3.014811  7.820734  4.085464  5.838809  4.044669  \n",
       "2518  7.739466  8.914686  3.010225  7.932748  4.092234  5.798438  4.061118  \n",
       "2519  7.947013  8.874927  2.977923  7.955763  4.182901  5.814492  4.109860  \n",
       "2520  7.914744  8.856579  3.014324  7.900844  4.214691  5.846514  4.146038  \n",
       "\n",
       "[2521 rows x 500 columns]"
      ]
     },
     "execution_count": 91,
     "metadata": {},
     "output_type": "execute_result"
    }
   ],
   "source": [
    "# Run the Monte Carlo simulation to forecast 10 years cumulative returns\n",
    "MC_ten_year.calc_cumulative_return()\n"
   ]
  },
  {
   "cell_type": "code",
   "execution_count": 92,
   "metadata": {},
   "outputs": [
    {
     "data": {
      "image/png": "[encoded data removed]",
      "text/plain": [
       "<Figure size 432x288 with 1 Axes>"
      ]
     },
     "metadata": {
      "needs_background": "light"
     },
     "output_type": "display_data"
    }
   ],
   "source": [
    "# Visualize the 10-year Monte Carlo simulation by creating an\n",
    "# overlay line plot\n",
    "MC_ten_year.plot_simulation();\n"
   ]
  },
  {
   "cell_type": "code",
   "execution_count": 93,
   "metadata": {},
   "outputs": [
    {
     "data": {
      "image/png": "[encoded data removed]",
      "text/plain": [
       "<Figure size 432x288 with 1 Axes>"
      ]
     },
     "metadata": {
      "needs_background": "light"
     },
     "output_type": "display_data"
    }
   ],
   "source": [
    "# Visualize the probability distribution of the 10-year Monte Carlo simulation \n",
    "# by plotting a histogram\n",
    "MC_ten_year.plot_distribution();\n"
   ]
  },
  {
   "cell_type": "code",
   "execution_count": 94,
   "metadata": {},
   "outputs": [
    {
     "name": "stdout",
     "output_type": "stream",
     "text": [
      "count           500.000000\n",
      "mean              7.532454\n",
      "std               4.608500\n",
      "min               1.090858\n",
      "25%               4.552722\n",
      "50%               6.608403\n",
      "75%               8.981234\n",
      "max              38.351908\n",
      "95% CI Lower      2.165628\n",
      "95% CI Upper     17.879387\n",
      "Name: 2520, dtype: float64\n"
     ]
    }
   ],
   "source": [
    "# Generate summary statistics from the 10-year Monte Carlo simulation results\n",
    "# Save the results as a variable\n",
    "MC_summary_statistics_10 = MC_ten_year.summarize_cumulative_return()\n",
    "\n",
    "\n",
    "# Review the 10-year Monte Carlo summary statistics\n",
    "print(MC_summary_statistics_10)"
   ]
  },
  {
   "cell_type": "markdown",
   "metadata": {},
   "source": [
    "### Answer the following questions:"
   ]
  },
  {
   "cell_type": "markdown",
   "metadata": {},
   "source": [
    "#### Question: Using the current value of only the stock and bond portion of the member's portfolio and the summary statistics that you generated from the new Monte Carlo simulation, what are the lower and upper bounds for the expected value of the portfolio (with the new weights) with a 95% confidence interval?"
   ]
  },
  {
   "cell_type": "code",
   "execution_count": 95,
   "metadata": {},
   "outputs": [
    {
     "name": "stdout",
     "output_type": "stream",
     "text": [
      "The current balance of stocks and bonds is $60,689.50\n"
     ]
    }
   ],
   "source": [
    "# Print the current balance of the stock and bond portion of the members portfolio\n",
    "print(f\"The current balance of stocks and bonds is ${total_stocks_bonds:,.2f}\")\n"
   ]
  },
  {
   "cell_type": "code",
   "execution_count": 96,
   "metadata": {},
   "outputs": [
    {
     "name": "stdout",
     "output_type": "stream",
     "text": [
      "There is a 95% chance that your current balance of $60,689.50 over the next 10 years will end within the range of $131,430.89 and $1,085,091.07.\n"
     ]
    }
   ],
   "source": [
    "# Use the lower and upper `95%` confidence intervals to calculate the range of the possible outcomes for the current stock/bond portfolio\n",
    "ci_lower_ten_cumulative_return = MC_summary_statistics_10[8] * total_stocks_bonds\n",
    "ci_upper_ten_cumulative_return = MC_summary_statistics_10[9] * total_stocks_bonds\n",
    "\n",
    "# Print the result of your calculations\n",
    "print(f\"There is a 95% chance that your current balance of ${total_stocks_bonds:,.2f}\"\n",
    "      f\" over the next 10 years will end within the range of\"\n",
    "      f\" ${ci_lower_ten_cumulative_return:,.2f} and ${ci_upper_ten_cumulative_return:,.2f}.\")\n"
   ]
  },
  {
   "cell_type": "markdown",
   "metadata": {},
   "source": [
    "#### Question: Will weighting the portfolio more heavily to stocks allow the credit union members to retire after only 10 years?"
   ]
  },
  {
   "cell_type": "markdown",
   "metadata": {},
   "source": [
    "##### Answer: NO. The 10-year scenario would not accumulate enough wealth to retire."
   ]
  },
  {
   "cell_type": "code",
   "execution_count": null,
   "metadata": {},
   "outputs": [],
   "source": []
  }
 ],
 "metadata": {
  "kernelspec": {
   "display_name": "dev",
   "language": "python",
   "name": "dev"
  },
  "language_info": {
   "codemirror_mode": {
    "name": "ipython",
    "version": 3
   },
   "file_extension": ".py",
   "mimetype": "text/x-python",
   "name": "python",
   "nbconvert_exporter": "python",
   "pygments_lexer": "ipython3",
   "version": "3.7.10"
  }
 },
 "nbformat": 4,
 "nbformat_minor": 4
}
