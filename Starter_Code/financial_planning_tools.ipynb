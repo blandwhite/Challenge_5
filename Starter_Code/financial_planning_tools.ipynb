{
 "cells": [
  {
   "cell_type": "markdown",
   "metadata": {},
   "source": [
    "# Financial Planning with APIs and Simulations\n",
    "\n",
    "In this Challenge, you’ll create two financial analysis tools by using a single Jupyter notebook:\n",
    "\n",
    "Part 1: A financial planner for emergencies. The members will be able to use this tool to visualize their current savings. The members can then determine if they have enough reserves for an emergency fund.\n",
    "\n",
    "Part 2: A financial planner for retirement. This tool will forecast the performance of their retirement portfolio in 30 years. To do this, the tool will make an Alpaca API call via the Alpaca SDK to get historical price data for use in Monte Carlo simulations.\n",
    "\n",
    "You’ll use the information from the Monte Carlo simulation to answer questions about the portfolio in your Jupyter notebook.\n",
    "\n"
   ]
  },
  {
   "cell_type": "code",
   "execution_count": 1,
   "metadata": {},
   "outputs": [],
   "source": [
    "# Import the required libraries and dependencies\n",
    "import os\n",
    "import requests\n",
    "import json\n",
    "import pandas as pd\n",
    "from dotenv import load_dotenv\n",
    "import alpaca_trade_api as tradeapi\n",
    "from MCForecastTools import MCSimulation\n",
    "\n",
    "%matplotlib inline"
   ]
  },
  {
   "cell_type": "code",
   "execution_count": 2,
   "metadata": {},
   "outputs": [
    {
     "data": {
      "text/plain": [
       "True"
      ]
     },
     "execution_count": 2,
     "metadata": {},
     "output_type": "execute_result"
    }
   ],
   "source": [
    "# Load the environment variables from the .env file\n",
    "#by calling the load_dotenv function\n",
    "load_dotenv()"
   ]
  },
  {
   "cell_type": "markdown",
   "metadata": {},
   "source": [
    "## Part 1: Create a Financial Planner for Emergencies"
   ]
  },
  {
   "cell_type": "markdown",
   "metadata": {},
   "source": [
    "### Evaluate the Cryptocurrency Wallet by Using the Requests Library\n",
    "\n",
    "In this section, you’ll determine the current value of a member’s cryptocurrency wallet. You’ll collect the current prices for the Bitcoin and Ethereum cryptocurrencies by using the Python Requests library. For the prototype, you’ll assume that the member holds the 1.2 Bitcoins (BTC) and 5.3 Ethereum coins (ETH). To do all this, complete the following steps:\n",
    "\n",
    "1. Create a variable named `monthly_income`, and set its value to `12000`.\n",
    "\n",
    "2. Use the Requests library to get the current price (in US dollars) of Bitcoin (BTC) and Ethereum (ETH) by using the API endpoints that the starter code supplies.\n",
    "\n",
    "3. Navigate the JSON response object to access the current price of each coin, and store each in a variable.\n",
    "\n",
    "    > **Hint** Note the specific identifier for each cryptocurrency in the API JSON response. The Bitcoin identifier is `1`, and the Ethereum identifier is `1027`.\n",
    "\n",
    "4. Calculate the value, in US dollars, of the current amount of each cryptocurrency and of the entire cryptocurrency wallet.\n",
    "\n"
   ]
  },
  {
   "cell_type": "code",
   "execution_count": 3,
   "metadata": {},
   "outputs": [],
   "source": [
    "# The current number of coins for each cryptocurrency asset held in the portfolio.\n",
    "btc_coins = 1.2\n",
    "eth_coins = 5.3"
   ]
  },
  {
   "cell_type": "markdown",
   "metadata": {},
   "source": [
    "#### Step 1: Create a variable named `monthly_income`, and set its value to `12000`."
   ]
  },
  {
   "cell_type": "code",
   "execution_count": 4,
   "metadata": {},
   "outputs": [],
   "source": [
    "# The monthly amount for the member's household income\n",
    "monthly_income = 12000\n"
   ]
  },
  {
   "cell_type": "markdown",
   "metadata": {},
   "source": [
    "#### Review the endpoint URLs for the API calls to Free Crypto API in order to get the current pricing information for both BTC and ETH."
   ]
  },
  {
   "cell_type": "code",
   "execution_count": 5,
   "metadata": {},
   "outputs": [],
   "source": [
    "# The Free Crypto API Call endpoint URLs for the held cryptocurrency assets\n",
    "btc_url = \"https://api.alternative.me/v2/ticker/Bitcoin/?convert=USD\"\n",
    "eth_url = \"https://api.alternative.me/v2/ticker/Ethereum/?convert=USD\""
   ]
  },
  {
   "cell_type": "markdown",
   "metadata": {},
   "source": [
    "#### Step 2. Use the Requests library to get the current price (in US dollars) of Bitcoin (BTC) and Ethereum (ETH) by using the API endpoints that the starter code supplied."
   ]
  },
  {
   "cell_type": "code",
   "execution_count": 6,
   "metadata": {},
   "outputs": [
    {
     "name": "stdout",
     "output_type": "stream",
     "text": [
      "{\n",
      "    \"data\": {\n",
      "        \"1\": {\n",
      "            \"circulating_supply\": 18913668,\n",
      "            \"id\": 1,\n",
      "            \"last_updated\": 1640737528,\n",
      "            \"max_supply\": 21000000,\n",
      "            \"name\": \"Bitcoin\",\n",
      "            \"quotes\": {\n",
      "                \"USD\": {\n",
      "                    \"market_cap\": 906431355288,\n",
      "                    \"percent_change_1h\": 0.183772479888182,\n",
      "                    \"percent_change_24h\": -4.69326142741081,\n",
      "                    \"percent_change_7d\": -2.50029125947141,\n",
      "                    \"percentage_change_1h\": 0.183772479888182,\n",
      "                    \"percentage_change_24h\": -4.69326142741081,\n",
      "                    \"percentage_change_7d\": -2.50029125947141,\n",
      "                    \"price\": 47916.0,\n",
      "                    \"volume_24h\": 29308870643\n",
      "                }\n",
      "            },\n",
      "            \"rank\": 1,\n",
      "            \"symbol\": \"BTC\",\n",
      "            \"total_supply\": 18913668,\n",
      "            \"website_slug\": \"bitcoin\"\n",
      "        }\n",
      "    },\n",
      "    \"metadata\": {\n",
      "        \"error\": null,\n",
      "        \"num_cryptocurrencies\": 3105,\n",
      "        \"timestamp\": 1640737528\n",
      "    }\n",
      "}\n"
     ]
    }
   ],
   "source": [
    "# Using the Python requests library, make an API call to access the current price of BTC\n",
    "btc_response = requests.get(btc_url).json()\n",
    "\n",
    "# Use the json.dumps function to review the response data from the API call\n",
    "# Use the indent and sort_keys parameters to make the response object readable\n",
    "print(json.dumps(btc_response, indent=4, sort_keys=True))\n"
   ]
  },
  {
   "cell_type": "code",
   "execution_count": 7,
   "metadata": {},
   "outputs": [
    {
     "name": "stdout",
     "output_type": "stream",
     "text": [
      "{\n",
      "    \"data\": {\n",
      "        \"1027\": {\n",
      "            \"circulating_supply\": 118932029,\n",
      "            \"id\": 1027,\n",
      "            \"last_updated\": 1640737694,\n",
      "            \"max_supply\": 0,\n",
      "            \"name\": \"Ethereum\",\n",
      "            \"quotes\": {\n",
      "                \"USD\": {\n",
      "                    \"market_cap\": 454616621683,\n",
      "                    \"percent_change_1h\": -0.0620222377867192,\n",
      "                    \"percent_change_24h\": -4.83839334750345,\n",
      "                    \"percent_change_7d\": -5.35138493165528,\n",
      "                    \"percentage_change_1h\": -0.0620222377867192,\n",
      "                    \"percentage_change_24h\": -4.83839334750345,\n",
      "                    \"percentage_change_7d\": -5.35138493165528,\n",
      "                    \"price\": 3820.54,\n",
      "                    \"volume_24h\": 17906263570\n",
      "                }\n",
      "            },\n",
      "            \"rank\": 2,\n",
      "            \"symbol\": \"ETH\",\n",
      "            \"total_supply\": 118932029,\n",
      "            \"website_slug\": \"ethereum\"\n",
      "        }\n",
      "    },\n",
      "    \"metadata\": {\n",
      "        \"error\": null,\n",
      "        \"num_cryptocurrencies\": 3105,\n",
      "        \"timestamp\": 1640737694\n",
      "    }\n",
      "}\n"
     ]
    }
   ],
   "source": [
    "# Using the Python requests library, make an API call to access the current price ETH\n",
    "eth_response = requests.get(eth_url).json()\n",
    "\n",
    "# Use the json.dumps function to review the response data from the API call\n",
    "# Use the indent and sort_keys parameters to make the response object readable\n",
    "print(json.dumps(eth_response, indent=4, sort_keys=True))\n"
   ]
  },
  {
   "cell_type": "markdown",
   "metadata": {},
   "source": [
    "#### Step 3: Navigate the JSON response object to access the current price of each coin, and store each in a variable."
   ]
  },
  {
   "cell_type": "code",
   "execution_count": 8,
   "metadata": {},
   "outputs": [
    {
     "name": "stdout",
     "output_type": "stream",
     "text": [
      "The current price of BTC is $47916.00\n"
     ]
    }
   ],
   "source": [
    "# Navigate the BTC response object to access the current price of BTC\n",
    "btc_price = btc_response['data']['1']['quotes']['USD']['price']\n",
    "\n",
    "# Print the current price of BTC\n",
    "print(f'The current price of BTC is ${btc_price:.2f}')\n"
   ]
  },
  {
   "cell_type": "code",
   "execution_count": 9,
   "metadata": {},
   "outputs": [
    {
     "name": "stdout",
     "output_type": "stream",
     "text": [
      "The current price of ETH is $3820.54\n"
     ]
    }
   ],
   "source": [
    "# Navigate the BTC response object to access the current price of ETH\n",
    "eth_price = eth_response['data']['1027']['quotes']['USD']['price']\n",
    "\n",
    "# Print the current price of ETH\n",
    "print(f\"The current price of ETH is ${eth_price:.2f}\")\n"
   ]
  },
  {
   "cell_type": "markdown",
   "metadata": {},
   "source": [
    "### Step 4: Calculate the value, in US dollars, of the current amount of each cryptocurrency and of the entire cryptocurrency wallet."
   ]
  },
  {
   "cell_type": "code",
   "execution_count": 10,
   "metadata": {},
   "outputs": [
    {
     "name": "stdout",
     "output_type": "stream",
     "text": [
      "The current value of your holding in BTC is $57499.20\n"
     ]
    }
   ],
   "source": [
    "# Compute the current value of the BTC holding \n",
    "btc_value = btc_price * btc_coins\n",
    "\n",
    "# Print current value of your holding in BTC\n",
    "print(f'The current value of your holding in BTC is ${btc_value:.2f}')\n"
   ]
  },
  {
   "cell_type": "code",
   "execution_count": 11,
   "metadata": {},
   "outputs": [
    {
     "name": "stdout",
     "output_type": "stream",
     "text": [
      "The current value of your holding in ETH is $20248.86\n"
     ]
    }
   ],
   "source": [
    "# Compute the current value of the ETH holding \n",
    "eth_value = eth_price * eth_coins\n",
    "\n",
    "# Print current value of your holding in ETH\n",
    "print(f'The current value of your holding in ETH is ${eth_value:.2f}')\n"
   ]
  },
  {
   "cell_type": "code",
   "execution_count": 12,
   "metadata": {},
   "outputs": [
    {
     "name": "stdout",
     "output_type": "stream",
     "text": [
      "Your current cryptocurrency wallet balance is $77748.06\n"
     ]
    }
   ],
   "source": [
    "# Compute the total value of the cryptocurrency wallet\n",
    "# Add the value of the BTC holding to the value of the ETH holding\n",
    "total_crypto_wallet = btc_value + eth_value\n",
    "\n",
    "# Print current cryptocurrency wallet balance\n",
    "print(f'Your current cryptocurrency wallet balance is ${total_crypto_wallet:.2f}')\n"
   ]
  },
  {
   "cell_type": "markdown",
   "metadata": {},
   "source": [
    "### Evaluate the Stock and Bond Holdings by Using the Alpaca SDK\n",
    "\n",
    "In this section, you’ll determine the current value of a member’s stock and bond holdings. You’ll make an API call to Alpaca via the Alpaca SDK to get the current closing prices of the SPDR S&P 500 ETF Trust (ticker: SPY) and of the iShares Core US Aggregate Bond ETF (ticker: AGG). For the prototype, assume that the member holds 110 shares of SPY, which represents the stock portion of their portfolio, and 200 shares of AGG, which represents the bond portion. To do all this, complete the following steps:\n",
    "\n",
    "1. In the `Starter_Code` folder, create an environment file (`.env`) to store the values of your Alpaca API key and Alpaca secret key.\n",
    "\n",
    "2. Set the variables for the Alpaca API and secret keys. Using the Alpaca SDK, create the Alpaca `tradeapi.REST` object. In this object, include the parameters for the Alpaca API key, the secret key, and the version number.\n",
    "\n",
    "3. Set the following parameters for the Alpaca API call:\n",
    "\n",
    "    - `tickers`: Use the tickers for the member’s stock and bond holdings.\n",
    "\n",
    "    - `timeframe`: Use a time frame of one day.\n",
    "\n",
    "    - `start_date` and `end_date`: Use the same date for these parameters, and format them with the date of the previous weekday (or `2020-08-07`). This is because you want the one closing price for the most-recent trading day.\n",
    "\n",
    "4. Get the current closing prices for `SPY` and `AGG` by using the Alpaca `get_barset` function. Format the response as a Pandas DataFrame by including the `df` property at the end of the `get_barset` function.\n",
    "\n",
    "5. Navigating the Alpaca response DataFrame, select the `SPY` and `AGG` closing prices, and store them as variables.\n",
    "\n",
    "6. Calculate the value, in US dollars, of the current amount of shares in each of the stock and bond portions of the portfolio, and print the results.\n"
   ]
  },
  {
   "cell_type": "markdown",
   "metadata": {},
   "source": [
    "#### Review the total number of shares held in both (SPY) and (AGG)."
   ]
  },
  {
   "cell_type": "code",
   "execution_count": 13,
   "metadata": {},
   "outputs": [],
   "source": [
    "# Current amount of shares held in both the stock (SPY) and bond (AGG) portion of the portfolio.\n",
    "spy_shares = 110\n",
    "agg_shares = 200\n"
   ]
  },
  {
   "cell_type": "markdown",
   "metadata": {},
   "source": [
    "#### Step 1: In the `Starter_Code` folder, create an environment file (`.env`) to store the values of your Alpaca API key and Alpaca secret key."
   ]
  },
  {
   "cell_type": "markdown",
   "metadata": {},
   "source": [
    "#### Step 2: Set the variables for the Alpaca API and secret keys. Using the Alpaca SDK, create the Alpaca `tradeapi.REST` object. In this object, include the parameters for the Alpaca API key, the secret key, and the version number."
   ]
  },
  {
   "cell_type": "code",
   "execution_count": 14,
   "metadata": {},
   "outputs": [],
   "source": [
    "# Set the variables for the Alpaca API and secret keys\n",
    "alpaca_api_key = os.getenv('ALPACA_API_KEY')\n",
    "alpaca_secret_key = os.getenv('ALPACA_SECRET_KEY')\n",
    "\n",
    "# Create the Alpaca tradeapi.REST object\n",
    "alpaca = tradeapi.REST(\n",
    "    alpaca_api_key,\n",
    "    alpaca_secret_key,\n",
    "    api_version='v2'\n",
    ")\n"
   ]
  },
  {
   "cell_type": "markdown",
   "metadata": {},
   "source": [
    "#### Step 3: Set the following parameters for the Alpaca API call:\n",
    "\n",
    "- `tickers`: Use the tickers for the member’s stock and bond holdings.\n",
    "\n",
    "- `timeframe`: Use a time frame of one day.\n",
    "\n",
    "- `start_date` and `end_date`: Use the same date for these parameters, and format them with the date of the previous weekday (or `2020-08-07`). This is because you want the one closing price for the most-recent trading day.\n"
   ]
  },
  {
   "cell_type": "code",
   "execution_count": 44,
   "metadata": {},
   "outputs": [],
   "source": [
    "# Set the tickers for both the bond and stock portion of the portfolio\n",
    "tickers = ['SPY', 'AGG']\n",
    "\n",
    "# Set timeframe to 1D \n",
    "timeframe = '1D'\n",
    "\n",
    "# Format current date as ISO format\n",
    "# Set both the start and end date at the date of your prior weekday \n",
    "# This will give you the closing price of the previous trading day\n",
    "# Alternatively you can use a start and end date of 2020-08-07\n",
    "start_date = pd.Timestamp('2021-12-27', tz='America/New_York').isoformat()\n",
    "end_date = pd.Timestamp('2021-12-27', tz='America/New_York').isoformat()\n"
   ]
  },
  {
   "cell_type": "markdown",
   "metadata": {},
   "source": [
    "#### Step 4: Get the current closing prices for `SPY` and `AGG` by using the Alpaca `get_barset` function. Format the response as a Pandas DataFrame by including the `df` property at the end of the `get_barset` function."
   ]
  },
  {
   "cell_type": "code",
   "execution_count": 45,
   "metadata": {},
   "outputs": [
    {
     "data": {
      "text/html": [
       "<div>\n",
       "<style scoped>\n",
       "    .dataframe tbody tr th:only-of-type {\n",
       "        vertical-align: middle;\n",
       "    }\n",
       "\n",
       "    .dataframe tbody tr th {\n",
       "        vertical-align: top;\n",
       "    }\n",
       "\n",
       "    .dataframe thead tr th {\n",
       "        text-align: left;\n",
       "    }\n",
       "\n",
       "    .dataframe thead tr:last-of-type th {\n",
       "        text-align: right;\n",
       "    }\n",
       "</style>\n",
       "<table border=\"1\" class=\"dataframe\">\n",
       "  <thead>\n",
       "    <tr>\n",
       "      <th></th>\n",
       "      <th colspan=\"5\" halign=\"left\">AGG</th>\n",
       "      <th colspan=\"5\" halign=\"left\">SPY</th>\n",
       "    </tr>\n",
       "    <tr>\n",
       "      <th></th>\n",
       "      <th>open</th>\n",
       "      <th>high</th>\n",
       "      <th>low</th>\n",
       "      <th>close</th>\n",
       "      <th>volume</th>\n",
       "      <th>open</th>\n",
       "      <th>high</th>\n",
       "      <th>low</th>\n",
       "      <th>close</th>\n",
       "      <th>volume</th>\n",
       "    </tr>\n",
       "    <tr>\n",
       "      <th>time</th>\n",
       "      <th></th>\n",
       "      <th></th>\n",
       "      <th></th>\n",
       "      <th></th>\n",
       "      <th></th>\n",
       "      <th></th>\n",
       "      <th></th>\n",
       "      <th></th>\n",
       "      <th></th>\n",
       "      <th></th>\n",
       "    </tr>\n",
       "  </thead>\n",
       "  <tbody>\n",
       "    <tr>\n",
       "      <th>2021-12-27 00:00:00-05:00</th>\n",
       "      <td>114.15</td>\n",
       "      <td>114.3</td>\n",
       "      <td>114.13</td>\n",
       "      <td>114.27</td>\n",
       "      <td>5069840</td>\n",
       "      <td>472.03</td>\n",
       "      <td>477.31</td>\n",
       "      <td>472.01</td>\n",
       "      <td>477.27</td>\n",
       "      <td>46260198</td>\n",
       "    </tr>\n",
       "  </tbody>\n",
       "</table>\n",
       "</div>"
      ],
      "text/plain": [
       "                              AGG                                     SPY  \\\n",
       "                             open   high     low   close   volume    open   \n",
       "time                                                                        \n",
       "2021-12-27 00:00:00-05:00  114.15  114.3  114.13  114.27  5069840  472.03   \n",
       "\n",
       "                                                             \n",
       "                             high     low   close    volume  \n",
       "time                                                         \n",
       "2021-12-27 00:00:00-05:00  477.31  472.01  477.27  46260198  "
      ]
     },
     "execution_count": 45,
     "metadata": {},
     "output_type": "execute_result"
    }
   ],
   "source": [
    "# Use the Alpaca get_barset function to get current closing prices the portfolio\n",
    "# Be sure to set the `df` property after the function to format the response object as a DataFrame\n",
    "df_portfolio = alpaca.get_barset(\n",
    "    tickers,\n",
    "    timeframe,\n",
    "    start=start_date,\n",
    "    end=end_date\n",
    ").df\n",
    "\n",
    "# Review the first 5 rows of the Alpaca DataFrame\n",
    "df_portfolio.head()\n"
   ]
  },
  {
   "cell_type": "markdown",
   "metadata": {},
   "source": [
    "#### Step 5: Navigating the Alpaca response DataFrame, select the `SPY` and `AGG` closing prices, and store them as variables."
   ]
  },
  {
   "cell_type": "code",
   "execution_count": 46,
   "metadata": {},
   "outputs": [
    {
     "name": "stdout",
     "output_type": "stream",
     "text": [
      "114.27\n"
     ]
    }
   ],
   "source": [
    "# Access the closing price for AGG from the Alpaca DataFrame\n",
    "# Converting the value to a floating point number\n",
    "agg_close_price = float(df_portfolio['AGG']['close'])\n",
    "\n",
    "# Print the AGG closing price\n",
    "print(agg_close_price)\n"
   ]
  },
  {
   "cell_type": "code",
   "execution_count": 47,
   "metadata": {},
   "outputs": [
    {
     "name": "stdout",
     "output_type": "stream",
     "text": [
      "477.27\n"
     ]
    }
   ],
   "source": [
    "# Access the closing price for SPY from the Alpaca DataFrame\n",
    "# Converting the value to a floating point number\n",
    "spy_close_price = float(df_portfolio['SPY']['close'])\n",
    "\n",
    "# Print the SPY closing price\n",
    "print(spy_close_price)\n"
   ]
  },
  {
   "cell_type": "markdown",
   "metadata": {},
   "source": [
    "#### Step 6: Calculate the value, in US dollars, of the current amount of shares in each of the stock and bond portions of the portfolio, and print the results."
   ]
  },
  {
   "cell_type": "code",
   "execution_count": 48,
   "metadata": {},
   "outputs": [
    {
     "name": "stdout",
     "output_type": "stream",
     "text": [
      "The current value of the bond portfolio is $22854.00\n"
     ]
    }
   ],
   "source": [
    "# Calculate the current value of the bond portion of the portfolio\n",
    "agg_value = agg_close_price * agg_shares\n",
    "\n",
    "# Print the current value of the bond portfolio\n",
    "print(f'The current value of the bond portfolio is ${agg_value:.2f}')\n"
   ]
  },
  {
   "cell_type": "code",
   "execution_count": 49,
   "metadata": {},
   "outputs": [
    {
     "name": "stdout",
     "output_type": "stream",
     "text": [
      "The current value of the stock portfolio is $52499.70\n"
     ]
    }
   ],
   "source": [
    "# Calculate the current value of the stock portion of the portfolio\n",
    "spy_value = spy_close_price * spy_shares\n",
    "\n",
    "# Print the current value of the stock portfolio\n",
    "print(f'The current value of the stock portfolio is ${spy_value:.2f}')\n"
   ]
  },
  {
   "cell_type": "code",
   "execution_count": 50,
   "metadata": {},
   "outputs": [
    {
     "name": "stdout",
     "output_type": "stream",
     "text": [
      "The current balance of the stock and bond portion of the portfolio is $75353.70\n"
     ]
    }
   ],
   "source": [
    "# Calculate the total value of the stock and bond portion of the portfolio\n",
    "total_stocks_bonds = agg_value + spy_value\n",
    "\n",
    "# Print the current balance of the stock and bond portion of the portfolio\n",
    "print(f'The current balance of the stock and bond portion of the portfolio is ${total_stocks_bonds:.2f}')\n"
   ]
  },
  {
   "cell_type": "code",
   "execution_count": 51,
   "metadata": {},
   "outputs": [
    {
     "name": "stdout",
     "output_type": "stream",
     "text": [
      "Your total savings portfolio balance is $153101.76\n"
     ]
    }
   ],
   "source": [
    "# Calculate the total value of the member's entire savings portfolio\n",
    "# Add the value of the cryptocurrency walled to the value of the total stocks and bonds\n",
    "total_portfolio = total_crypto_wallet + total_stocks_bonds\n",
    "\n",
    "# Print current total value of the member's entire savings portfolio\n",
    "print(f'Your total savings portfolio balance is ${total_portfolio:.2f}')\n"
   ]
  },
  {
   "cell_type": "markdown",
   "metadata": {},
   "source": [
    "### Evaluate the Emergency Fund\n",
    "\n",
    "In this section, you’ll use the valuations for the cryptocurrency wallet and for the stock and bond portions of the portfolio to determine if the credit union member has enough savings to build an emergency fund into their financial plan. To do this, complete the following steps:\n",
    "\n",
    "1. Create a Python list named `savings_data` that has two elements. The first element contains the total value of the cryptocurrency wallet. The second element contains the total value of the stock and bond portions of the portfolio.\n",
    "\n",
    "2. Use the `savings_data` list to create a Pandas DataFrame named `savings_df`, and then display this DataFrame. The function to create the DataFrame should take the following three parameters:\n",
    "\n",
    "    - `savings_data`: Use the list that you just created.\n",
    "\n",
    "    - `columns`: Set this parameter equal to a Python list with a single value called `amount`.\n",
    "\n",
    "    - `index`: Set this parameter equal to a Python list with the values of `crypto` and `stock/bond`.\n",
    "\n",
    "3. Use the `savings_df` DataFrame to plot a pie chart that visualizes the composition of the member’s portfolio. The y-axis of the pie chart uses `amount`. Be sure to add a title.\n",
    "\n",
    "4. Using Python, determine if the current portfolio has enough to create an emergency fund as part of the member’s financial plan. Ideally, an emergency fund should equal to three times the member’s monthly income. To do this, implement the following steps:\n",
    "\n",
    "    1. Create a variable named `emergency_fund_value`, and set it equal to three times the value of the member’s `monthly_income` of $12000. (You set this earlier in Part 1).\n",
    "\n",
    "    2. Create a series of three if statements to determine if the member’s total portfolio is large enough to fund the emergency portfolio:\n",
    "\n",
    "        1. If the total portfolio value is greater than the emergency fund value, display a message congratulating the member for having enough money in this fund.\n",
    "\n",
    "        2. Else if the total portfolio value is equal to the emergency fund value, display a message congratulating the member on reaching this important financial goal.\n",
    "\n",
    "        3. Else the total portfolio is less than the emergency fund value, so display a message showing how many dollars away the member is from reaching the goal. (Subtract the total portfolio value from the emergency fund value.)\n"
   ]
  },
  {
   "cell_type": "markdown",
   "metadata": {},
   "source": [
    "#### Step 1: Create a Python list named `savings_data` that has two elements. The first element contains the total value of the cryptocurrency wallet. The second element contains the total value of the stock and bond portions of the portfolio."
   ]
  },
  {
   "cell_type": "code",
   "execution_count": 52,
   "metadata": {},
   "outputs": [
    {
     "data": {
      "text/plain": [
       "[77748.06199999999, 75353.7]"
      ]
     },
     "execution_count": 52,
     "metadata": {},
     "output_type": "execute_result"
    }
   ],
   "source": [
    "# Consolidate financial assets data into a Python list\n",
    "savings_data = [total_crypto_wallet, total_stocks_bonds]\n",
    "\n",
    "# Review the Python list savings_data\n",
    "savings_data\n",
    "    "
   ]
  },
  {
   "cell_type": "markdown",
   "metadata": {},
   "source": [
    "#### Step 2: Use the `savings_data` list to create a Pandas DataFrame named `savings_df`, and then display this DataFrame. The function to create the DataFrame should take the following three parameters:\n",
    "\n",
    "- `savings_data`: Use the list that you just created.\n",
    "\n",
    "- `columns`: Set this parameter equal to a Python list with a single value called `amount`.\n",
    "\n",
    "- `index`: Set this parameter equal to a Python list with the values of `crypto` and `stock/bond`.\n"
   ]
  },
  {
   "cell_type": "code",
   "execution_count": 53,
   "metadata": {},
   "outputs": [
    {
     "data": {
      "text/html": [
       "<div>\n",
       "<style scoped>\n",
       "    .dataframe tbody tr th:only-of-type {\n",
       "        vertical-align: middle;\n",
       "    }\n",
       "\n",
       "    .dataframe tbody tr th {\n",
       "        vertical-align: top;\n",
       "    }\n",
       "\n",
       "    .dataframe thead th {\n",
       "        text-align: right;\n",
       "    }\n",
       "</style>\n",
       "<table border=\"1\" class=\"dataframe\">\n",
       "  <thead>\n",
       "    <tr style=\"text-align: right;\">\n",
       "      <th></th>\n",
       "      <th>amount</th>\n",
       "    </tr>\n",
       "  </thead>\n",
       "  <tbody>\n",
       "    <tr>\n",
       "      <th>crypto</th>\n",
       "      <td>77748.062</td>\n",
       "    </tr>\n",
       "    <tr>\n",
       "      <th>stock/bond</th>\n",
       "      <td>75353.700</td>\n",
       "    </tr>\n",
       "  </tbody>\n",
       "</table>\n",
       "</div>"
      ],
      "text/plain": [
       "               amount\n",
       "crypto      77748.062\n",
       "stock/bond  75353.700"
      ]
     },
     "execution_count": 53,
     "metadata": {},
     "output_type": "execute_result"
    }
   ],
   "source": [
    "# Create a Pandas DataFrame called savings_df \n",
    "savings_df = pd.DataFrame(savings_data, columns=['amount'], index=['crypto', 'stock/bond'])\n",
    "\n",
    "# Display the savings_df DataFrame\n",
    "savings_df\n"
   ]
  },
  {
   "cell_type": "markdown",
   "metadata": {},
   "source": [
    "#### Step 3: Use the `savings_df` DataFrame to plot a pie chart that visualizes the composition of the member’s portfolio. The y-axis of the pie chart uses `amount`. Be sure to add a title."
   ]
  },
  {
   "cell_type": "code",
   "execution_count": 54,
   "metadata": {},
   "outputs": [
    {
     "data": {
      "image/png": "[encoded data removed]",
      "text/plain": [
       "<Figure size 432x288 with 1 Axes>"
      ]
     },
     "metadata": {},
     "output_type": "display_data"
    }
   ],
   "source": [
    "# Plot the total value of the member's portfolio (crypto and stock/bond) in a pie chart\n",
    "savings_df.plot.pie(y='amount', title='Portfolio Composition', shadow=True, autopct='%1.1f%%');\n"
   ]
  },
  {
   "cell_type": "markdown",
   "metadata": {},
   "source": [
    "#### Step 4: Using Python, determine if the current portfolio has enough to create an emergency fund as part of the member’s financial plan. Ideally, an emergency fund should equal to three times the member’s monthly income. To do this, implement the following steps:\n",
    "\n",
    "Step 1. Create a variable named `emergency_fund_value`, and set it equal to three times the value of the member’s `monthly_income` of 12000. (You set this earlier in Part 1).\n",
    "\n",
    "Step 2. Create a series of three if statements to determine if the member’s total portfolio is large enough to fund the emergency portfolio:\n",
    "\n",
    "* If the total portfolio value is greater than the emergency fund value, display a message congratulating the member for having enough money in this fund.\n",
    "\n",
    "* Else if the total portfolio value is equal to the emergency fund value, display a message congratulating the member on reaching this important financial goal.\n",
    "\n",
    "* Else the total portfolio is less than the emergency fund value, so display a message showing how many dollars away the member is from reaching the goal. (Subtract the total portfolio value from the emergency fund value.)\n"
   ]
  },
  {
   "cell_type": "markdown",
   "metadata": {},
   "source": [
    "##### Step 4-1: Create a variable named `emergency_fund_value`, and set it equal to three times the value of the member’s `monthly_income` of 12000. (You set this earlier in Part 1)."
   ]
  },
  {
   "cell_type": "code",
   "execution_count": 55,
   "metadata": {},
   "outputs": [],
   "source": [
    "# Create a variable named emergency_fund_value\n",
    "emergency_fund_value = 3 * monthly_income\n"
   ]
  },
  {
   "cell_type": "markdown",
   "metadata": {},
   "source": [
    "##### Step 4-2: Create a series of three if statements to determine if the member’s total portfolio is large enough to fund the emergency portfolio:\n",
    "\n",
    "* If the total portfolio value is greater than the emergency fund value, display a message congratulating the member for having enough money in this fund.\n",
    "\n",
    "* Else if the total portfolio value is equal to the emergency fund value, display a message congratulating the member on reaching this important financial goal.\n",
    "\n",
    "* Else the total portfolio is less than the emergency fund value, so display a message showing how many dollars away the member is from reaching the goal. (Subtract the total portfolio value from the emergency fund value.)"
   ]
  },
  {
   "cell_type": "code",
   "execution_count": 56,
   "metadata": {},
   "outputs": [
    {
     "name": "stdout",
     "output_type": "stream",
     "text": [
      "Congratulations! You have more than 3 months' worth of income in your emergency fund.\n"
     ]
    }
   ],
   "source": [
    "# Evaluate the possibility of creating an emergency fund with 3 conditions:\n",
    "if total_portfolio > emergency_fund_value:\n",
    "    print(\"Congratulations! You have more than 3 months' worth of income in your emergency fund.\")\n",
    "    \n",
    "    #rounding in the elif since total portfolio could go beyond 2 decimals\n",
    "elif round(total_portfolio,2) == round(emergency_fund_value,2):\n",
    "    print(\"Congratulations! You have saved 3 months' worth of income in your emergency fund.\")\n",
    "else:\n",
    "    print(f\"You are ${emergency_fund_value - total_portfolio:.2f} away from reaching your emergency fund goal.\")\n"
   ]
  },
  {
   "cell_type": "markdown",
   "metadata": {},
   "source": [
    "## Part 2: Create a Financial Planner for Retirement"
   ]
  },
  {
   "cell_type": "markdown",
   "metadata": {},
   "source": [
    "### Create the Monte Carlo Simulation\n",
    "\n",
    "In this section, you’ll use the MCForecastTools library to create a Monte Carlo simulation for the member’s savings portfolio. To do this, complete the following steps:\n",
    "\n",
    "1. Make an API call via the Alpaca SDK to get 3 years of historical closing prices for a traditional 60/40 portfolio split: 60% stocks (SPY) and 40% bonds (AGG).\n",
    "\n",
    "2. Run a Monte Carlo simulation of 500 samples and 30 years for the 60/40 portfolio, and then plot the results.The following image shows the overlay line plot resulting from a simulation with these characteristics. However, because a random number generator is used to run each live Monte Carlo simulation, your image will differ slightly from this exact image:\n",
    "\n",
    "![A screenshot depicts the resulting plot.](Images/5-4-monte-carlo-line-plot.png)\n",
    "\n",
    "3. Plot the probability distribution of the Monte Carlo simulation. Plot the probability distribution of the Monte Carlo simulation. The following image shows the histogram plot resulting from a simulation with these characteristics. However, because a random number generator is used to run each live Monte Carlo simulation, your image will differ slightly from this exact image:\n",
    "\n",
    "![A screenshot depicts the histogram plot.](Images/5-4-monte-carlo-histogram.png)\n",
    "\n",
    "4. Generate the summary statistics for the Monte Carlo simulation.\n",
    "\n"
   ]
  },
  {
   "cell_type": "markdown",
   "metadata": {},
   "source": [
    "#### Step 1: Make an API call via the Alpaca SDK to get 3 years of historical closing prices for a traditional 60/40 portfolio split: 60% stocks (SPY) and 40% bonds (AGG)."
   ]
  },
  {
   "cell_type": "code",
   "execution_count": 28,
   "metadata": {},
   "outputs": [],
   "source": [
    "# Set start and end dates of 3 years back from your current date\n",
    "# Alternatively, you can use an end date of 2020-08-07 and work 3 years back from that date \n",
    "start_date = pd.Timestamp('2018-12-27', tz='America/New_York').isoformat()\n",
    "end_date = pd.Timestamp('2021-12-27', tz='America/New_York').isoformat()\n",
    "\n",
    "# Set number of rows to 1000 to retrieve the maximum amount of rows\n",
    "limit_rows = 1000"
   ]
  },
  {
   "cell_type": "code",
   "execution_count": 29,
   "metadata": {},
   "outputs": [
    {
     "data": {
      "text/html": [
       "<div>\n",
       "<style scoped>\n",
       "    .dataframe tbody tr th:only-of-type {\n",
       "        vertical-align: middle;\n",
       "    }\n",
       "\n",
       "    .dataframe tbody tr th {\n",
       "        vertical-align: top;\n",
       "    }\n",
       "\n",
       "    .dataframe thead tr th {\n",
       "        text-align: left;\n",
       "    }\n",
       "\n",
       "    .dataframe thead tr:last-of-type th {\n",
       "        text-align: right;\n",
       "    }\n",
       "</style>\n",
       "<table border=\"1\" class=\"dataframe\">\n",
       "  <thead>\n",
       "    <tr>\n",
       "      <th></th>\n",
       "      <th colspan=\"5\" halign=\"left\">AGG</th>\n",
       "      <th colspan=\"5\" halign=\"left\">SPY</th>\n",
       "    </tr>\n",
       "    <tr>\n",
       "      <th></th>\n",
       "      <th>open</th>\n",
       "      <th>high</th>\n",
       "      <th>low</th>\n",
       "      <th>close</th>\n",
       "      <th>volume</th>\n",
       "      <th>open</th>\n",
       "      <th>high</th>\n",
       "      <th>low</th>\n",
       "      <th>close</th>\n",
       "      <th>volume</th>\n",
       "    </tr>\n",
       "    <tr>\n",
       "      <th>time</th>\n",
       "      <th></th>\n",
       "      <th></th>\n",
       "      <th></th>\n",
       "      <th></th>\n",
       "      <th></th>\n",
       "      <th></th>\n",
       "      <th></th>\n",
       "      <th></th>\n",
       "      <th></th>\n",
       "      <th></th>\n",
       "    </tr>\n",
       "  </thead>\n",
       "  <tbody>\n",
       "    <tr>\n",
       "      <th>2018-12-27 00:00:00-05:00</th>\n",
       "      <td>105.95</td>\n",
       "      <td>106.060</td>\n",
       "      <td>105.7700</td>\n",
       "      <td>105.790</td>\n",
       "      <td>8931609.0</td>\n",
       "      <td>242.57</td>\n",
       "      <td>248.01</td>\n",
       "      <td>238.96</td>\n",
       "      <td>248.0100</td>\n",
       "      <td>159105665</td>\n",
       "    </tr>\n",
       "    <tr>\n",
       "      <th>2018-12-28 00:00:00-05:00</th>\n",
       "      <td>105.97</td>\n",
       "      <td>106.210</td>\n",
       "      <td>105.9400</td>\n",
       "      <td>106.205</td>\n",
       "      <td>6588564.0</td>\n",
       "      <td>249.58</td>\n",
       "      <td>251.40</td>\n",
       "      <td>246.45</td>\n",
       "      <td>247.6899</td>\n",
       "      <td>132250127</td>\n",
       "    </tr>\n",
       "    <tr>\n",
       "      <th>2018-12-31 00:00:00-05:00</th>\n",
       "      <td>106.12</td>\n",
       "      <td>106.510</td>\n",
       "      <td>105.6200</td>\n",
       "      <td>106.495</td>\n",
       "      <td>8349838.0</td>\n",
       "      <td>249.56</td>\n",
       "      <td>250.16</td>\n",
       "      <td>247.47</td>\n",
       "      <td>248.5500</td>\n",
       "      <td>100767777</td>\n",
       "    </tr>\n",
       "    <tr>\n",
       "      <th>2019-01-02 00:00:00-05:00</th>\n",
       "      <td>106.55</td>\n",
       "      <td>106.610</td>\n",
       "      <td>106.4701</td>\n",
       "      <td>106.585</td>\n",
       "      <td>10164756.0</td>\n",
       "      <td>245.98</td>\n",
       "      <td>251.21</td>\n",
       "      <td>245.95</td>\n",
       "      <td>249.8900</td>\n",
       "      <td>107236613</td>\n",
       "    </tr>\n",
       "    <tr>\n",
       "      <th>2019-01-03 00:00:00-05:00</th>\n",
       "      <td>106.57</td>\n",
       "      <td>107.075</td>\n",
       "      <td>106.5700</td>\n",
       "      <td>107.020</td>\n",
       "      <td>6260265.0</td>\n",
       "      <td>248.23</td>\n",
       "      <td>248.57</td>\n",
       "      <td>244.03</td>\n",
       "      <td>244.4600</td>\n",
       "      <td>113782919</td>\n",
       "    </tr>\n",
       "  </tbody>\n",
       "</table>\n",
       "</div>"
      ],
      "text/plain": [
       "                              AGG                                          \\\n",
       "                             open     high       low    close      volume   \n",
       "time                                                                        \n",
       "2018-12-27 00:00:00-05:00  105.95  106.060  105.7700  105.790   8931609.0   \n",
       "2018-12-28 00:00:00-05:00  105.97  106.210  105.9400  106.205   6588564.0   \n",
       "2018-12-31 00:00:00-05:00  106.12  106.510  105.6200  106.495   8349838.0   \n",
       "2019-01-02 00:00:00-05:00  106.55  106.610  106.4701  106.585  10164756.0   \n",
       "2019-01-03 00:00:00-05:00  106.57  107.075  106.5700  107.020   6260265.0   \n",
       "\n",
       "                              SPY                                       \n",
       "                             open    high     low     close     volume  \n",
       "time                                                                    \n",
       "2018-12-27 00:00:00-05:00  242.57  248.01  238.96  248.0100  159105665  \n",
       "2018-12-28 00:00:00-05:00  249.58  251.40  246.45  247.6899  132250127  \n",
       "2018-12-31 00:00:00-05:00  249.56  250.16  247.47  248.5500  100767777  \n",
       "2019-01-02 00:00:00-05:00  245.98  251.21  245.95  249.8900  107236613  \n",
       "2019-01-03 00:00:00-05:00  248.23  248.57  244.03  244.4600  113782919  "
      ]
     },
     "metadata": {},
     "output_type": "display_data"
    },
    {
     "data": {
      "text/html": [
       "<div>\n",
       "<style scoped>\n",
       "    .dataframe tbody tr th:only-of-type {\n",
       "        vertical-align: middle;\n",
       "    }\n",
       "\n",
       "    .dataframe tbody tr th {\n",
       "        vertical-align: top;\n",
       "    }\n",
       "\n",
       "    .dataframe thead tr th {\n",
       "        text-align: left;\n",
       "    }\n",
       "\n",
       "    .dataframe thead tr:last-of-type th {\n",
       "        text-align: right;\n",
       "    }\n",
       "</style>\n",
       "<table border=\"1\" class=\"dataframe\">\n",
       "  <thead>\n",
       "    <tr>\n",
       "      <th></th>\n",
       "      <th colspan=\"5\" halign=\"left\">AGG</th>\n",
       "      <th colspan=\"5\" halign=\"left\">SPY</th>\n",
       "    </tr>\n",
       "    <tr>\n",
       "      <th></th>\n",
       "      <th>open</th>\n",
       "      <th>high</th>\n",
       "      <th>low</th>\n",
       "      <th>close</th>\n",
       "      <th>volume</th>\n",
       "      <th>open</th>\n",
       "      <th>high</th>\n",
       "      <th>low</th>\n",
       "      <th>close</th>\n",
       "      <th>volume</th>\n",
       "    </tr>\n",
       "    <tr>\n",
       "      <th>time</th>\n",
       "      <th></th>\n",
       "      <th></th>\n",
       "      <th></th>\n",
       "      <th></th>\n",
       "      <th></th>\n",
       "      <th></th>\n",
       "      <th></th>\n",
       "      <th></th>\n",
       "      <th></th>\n",
       "      <th></th>\n",
       "    </tr>\n",
       "  </thead>\n",
       "  <tbody>\n",
       "    <tr>\n",
       "      <th>2021-12-20 00:00:00-05:00</th>\n",
       "      <td>114.57</td>\n",
       "      <td>114.610</td>\n",
       "      <td>114.32</td>\n",
       "      <td>114.35</td>\n",
       "      <td>6967287.0</td>\n",
       "      <td>454.44</td>\n",
       "      <td>455.40</td>\n",
       "      <td>451.14</td>\n",
       "      <td>454.990</td>\n",
       "      <td>85447438</td>\n",
       "    </tr>\n",
       "    <tr>\n",
       "      <th>2021-12-21 00:00:00-05:00</th>\n",
       "      <td>114.07</td>\n",
       "      <td>114.275</td>\n",
       "      <td>113.97</td>\n",
       "      <td>114.23</td>\n",
       "      <td>12469324.0</td>\n",
       "      <td>458.57</td>\n",
       "      <td>463.21</td>\n",
       "      <td>456.31</td>\n",
       "      <td>463.035</td>\n",
       "      <td>62360339</td>\n",
       "    </tr>\n",
       "    <tr>\n",
       "      <th>2021-12-22 00:00:00-05:00</th>\n",
       "      <td>114.33</td>\n",
       "      <td>114.350</td>\n",
       "      <td>114.17</td>\n",
       "      <td>114.34</td>\n",
       "      <td>5736004.0</td>\n",
       "      <td>462.79</td>\n",
       "      <td>467.81</td>\n",
       "      <td>462.58</td>\n",
       "      <td>467.690</td>\n",
       "      <td>50038091</td>\n",
       "    </tr>\n",
       "    <tr>\n",
       "      <th>2021-12-23 00:00:00-05:00</th>\n",
       "      <td>114.29</td>\n",
       "      <td>114.310</td>\n",
       "      <td>114.07</td>\n",
       "      <td>114.19</td>\n",
       "      <td>5304915.0</td>\n",
       "      <td>468.75</td>\n",
       "      <td>472.19</td>\n",
       "      <td>468.64</td>\n",
       "      <td>470.580</td>\n",
       "      <td>47149529</td>\n",
       "    </tr>\n",
       "    <tr>\n",
       "      <th>2021-12-27 00:00:00-05:00</th>\n",
       "      <td>114.15</td>\n",
       "      <td>114.300</td>\n",
       "      <td>114.13</td>\n",
       "      <td>114.27</td>\n",
       "      <td>5069840.0</td>\n",
       "      <td>472.03</td>\n",
       "      <td>477.31</td>\n",
       "      <td>472.01</td>\n",
       "      <td>477.270</td>\n",
       "      <td>46260198</td>\n",
       "    </tr>\n",
       "  </tbody>\n",
       "</table>\n",
       "</div>"
      ],
      "text/plain": [
       "                              AGG                                       \\\n",
       "                             open     high     low   close      volume   \n",
       "time                                                                     \n",
       "2021-12-20 00:00:00-05:00  114.57  114.610  114.32  114.35   6967287.0   \n",
       "2021-12-21 00:00:00-05:00  114.07  114.275  113.97  114.23  12469324.0   \n",
       "2021-12-22 00:00:00-05:00  114.33  114.350  114.17  114.34   5736004.0   \n",
       "2021-12-23 00:00:00-05:00  114.29  114.310  114.07  114.19   5304915.0   \n",
       "2021-12-27 00:00:00-05:00  114.15  114.300  114.13  114.27   5069840.0   \n",
       "\n",
       "                              SPY                                     \n",
       "                             open    high     low    close    volume  \n",
       "time                                                                  \n",
       "2021-12-20 00:00:00-05:00  454.44  455.40  451.14  454.990  85447438  \n",
       "2021-12-21 00:00:00-05:00  458.57  463.21  456.31  463.035  62360339  \n",
       "2021-12-22 00:00:00-05:00  462.79  467.81  462.58  467.690  50038091  \n",
       "2021-12-23 00:00:00-05:00  468.75  472.19  468.64  470.580  47149529  \n",
       "2021-12-27 00:00:00-05:00  472.03  477.31  472.01  477.270  46260198  "
      ]
     },
     "execution_count": 29,
     "metadata": {},
     "output_type": "execute_result"
    }
   ],
   "source": [
    "# Use the Alpaca get_barset function to make the API call to get the 3 years worth of pricing data\n",
    "# The tickers and timeframe parameters should have been set in Part 1 of this activity \n",
    "# The start and end dates should be updated with the information set above\n",
    "# Remember to add the df property to the end of the call so the response is returned as a DataFrame\n",
    "prices_df = alpaca.get_barset(\n",
    "    tickers,\n",
    "    timeframe,\n",
    "    start=start_date,\n",
    "    end=end_date,\n",
    "    limit=limit_rows\n",
    ").df\n",
    "\n",
    "\n",
    "# Display both the first and last five rows of the DataFrame\n",
    "display(prices_df.head())\n",
    "prices_df.tail()\n"
   ]
  },
  {
   "cell_type": "markdown",
   "metadata": {},
   "source": [
    "#### Step 2: Run a Monte Carlo simulation of 500 samples and 30 years for the 60/40 portfolio, and then plot the results."
   ]
  },
  {
   "cell_type": "code",
   "execution_count": 30,
   "metadata": {},
   "outputs": [
    {
     "data": {
      "text/html": [
       "<div>\n",
       "<style scoped>\n",
       "    .dataframe tbody tr th:only-of-type {\n",
       "        vertical-align: middle;\n",
       "    }\n",
       "\n",
       "    .dataframe tbody tr th {\n",
       "        vertical-align: top;\n",
       "    }\n",
       "\n",
       "    .dataframe thead tr th {\n",
       "        text-align: left;\n",
       "    }\n",
       "\n",
       "    .dataframe thead tr:last-of-type th {\n",
       "        text-align: right;\n",
       "    }\n",
       "</style>\n",
       "<table border=\"1\" class=\"dataframe\">\n",
       "  <thead>\n",
       "    <tr>\n",
       "      <th></th>\n",
       "      <th colspan=\"6\" halign=\"left\">AGG</th>\n",
       "      <th colspan=\"6\" halign=\"left\">SPY</th>\n",
       "    </tr>\n",
       "    <tr>\n",
       "      <th></th>\n",
       "      <th>open</th>\n",
       "      <th>high</th>\n",
       "      <th>low</th>\n",
       "      <th>close</th>\n",
       "      <th>volume</th>\n",
       "      <th>daily_return</th>\n",
       "      <th>open</th>\n",
       "      <th>high</th>\n",
       "      <th>low</th>\n",
       "      <th>close</th>\n",
       "      <th>volume</th>\n",
       "      <th>daily_return</th>\n",
       "    </tr>\n",
       "    <tr>\n",
       "      <th>time</th>\n",
       "      <th></th>\n",
       "      <th></th>\n",
       "      <th></th>\n",
       "      <th></th>\n",
       "      <th></th>\n",
       "      <th></th>\n",
       "      <th></th>\n",
       "      <th></th>\n",
       "      <th></th>\n",
       "      <th></th>\n",
       "      <th></th>\n",
       "      <th></th>\n",
       "    </tr>\n",
       "  </thead>\n",
       "  <tbody>\n",
       "    <tr>\n",
       "      <th>2018-12-27 00:00:00-05:00</th>\n",
       "      <td>105.95</td>\n",
       "      <td>106.060</td>\n",
       "      <td>105.7700</td>\n",
       "      <td>105.790</td>\n",
       "      <td>8931609.0</td>\n",
       "      <td>NaN</td>\n",
       "      <td>242.57</td>\n",
       "      <td>248.01</td>\n",
       "      <td>238.96</td>\n",
       "      <td>248.0100</td>\n",
       "      <td>159105665</td>\n",
       "      <td>NaN</td>\n",
       "    </tr>\n",
       "    <tr>\n",
       "      <th>2018-12-28 00:00:00-05:00</th>\n",
       "      <td>105.97</td>\n",
       "      <td>106.210</td>\n",
       "      <td>105.9400</td>\n",
       "      <td>106.205</td>\n",
       "      <td>6588564.0</td>\n",
       "      <td>0.003923</td>\n",
       "      <td>249.58</td>\n",
       "      <td>251.40</td>\n",
       "      <td>246.45</td>\n",
       "      <td>247.6899</td>\n",
       "      <td>132250127</td>\n",
       "      <td>-0.001291</td>\n",
       "    </tr>\n",
       "    <tr>\n",
       "      <th>2018-12-31 00:00:00-05:00</th>\n",
       "      <td>106.12</td>\n",
       "      <td>106.510</td>\n",
       "      <td>105.6200</td>\n",
       "      <td>106.495</td>\n",
       "      <td>8349838.0</td>\n",
       "      <td>0.002731</td>\n",
       "      <td>249.56</td>\n",
       "      <td>250.16</td>\n",
       "      <td>247.47</td>\n",
       "      <td>248.5500</td>\n",
       "      <td>100767777</td>\n",
       "      <td>0.003472</td>\n",
       "    </tr>\n",
       "    <tr>\n",
       "      <th>2019-01-02 00:00:00-05:00</th>\n",
       "      <td>106.55</td>\n",
       "      <td>106.610</td>\n",
       "      <td>106.4701</td>\n",
       "      <td>106.585</td>\n",
       "      <td>10164756.0</td>\n",
       "      <td>0.000845</td>\n",
       "      <td>245.98</td>\n",
       "      <td>251.21</td>\n",
       "      <td>245.95</td>\n",
       "      <td>249.8900</td>\n",
       "      <td>107236613</td>\n",
       "      <td>0.005391</td>\n",
       "    </tr>\n",
       "    <tr>\n",
       "      <th>2019-01-03 00:00:00-05:00</th>\n",
       "      <td>106.57</td>\n",
       "      <td>107.075</td>\n",
       "      <td>106.5700</td>\n",
       "      <td>107.020</td>\n",
       "      <td>6260265.0</td>\n",
       "      <td>0.004081</td>\n",
       "      <td>248.23</td>\n",
       "      <td>248.57</td>\n",
       "      <td>244.03</td>\n",
       "      <td>244.4600</td>\n",
       "      <td>113782919</td>\n",
       "      <td>-0.021730</td>\n",
       "    </tr>\n",
       "  </tbody>\n",
       "</table>\n",
       "</div>"
      ],
      "text/plain": [
       "                              AGG                                          \\\n",
       "                             open     high       low    close      volume   \n",
       "time                                                                        \n",
       "2018-12-27 00:00:00-05:00  105.95  106.060  105.7700  105.790   8931609.0   \n",
       "2018-12-28 00:00:00-05:00  105.97  106.210  105.9400  106.205   6588564.0   \n",
       "2018-12-31 00:00:00-05:00  106.12  106.510  105.6200  106.495   8349838.0   \n",
       "2019-01-02 00:00:00-05:00  106.55  106.610  106.4701  106.585  10164756.0   \n",
       "2019-01-03 00:00:00-05:00  106.57  107.075  106.5700  107.020   6260265.0   \n",
       "\n",
       "                                           SPY                            \\\n",
       "                          daily_return    open    high     low     close   \n",
       "time                                                                       \n",
       "2018-12-27 00:00:00-05:00          NaN  242.57  248.01  238.96  248.0100   \n",
       "2018-12-28 00:00:00-05:00     0.003923  249.58  251.40  246.45  247.6899   \n",
       "2018-12-31 00:00:00-05:00     0.002731  249.56  250.16  247.47  248.5500   \n",
       "2019-01-02 00:00:00-05:00     0.000845  245.98  251.21  245.95  249.8900   \n",
       "2019-01-03 00:00:00-05:00     0.004081  248.23  248.57  244.03  244.4600   \n",
       "\n",
       "                                                   \n",
       "                              volume daily_return  \n",
       "time                                               \n",
       "2018-12-27 00:00:00-05:00  159105665          NaN  \n",
       "2018-12-28 00:00:00-05:00  132250127    -0.001291  \n",
       "2018-12-31 00:00:00-05:00  100767777     0.003472  \n",
       "2019-01-02 00:00:00-05:00  107236613     0.005391  \n",
       "2019-01-03 00:00:00-05:00  113782919    -0.021730  "
      ]
     },
     "execution_count": 30,
     "metadata": {},
     "output_type": "execute_result"
    }
   ],
   "source": [
    "# Configure the Monte Carlo simulation to forecast 30 years cumulative returns\n",
    "# The weights should be split 40% to AGG and 60% to SPY.\n",
    "# Run 500 samples.\n",
    "mc_thirtyyear = MCSimulation(\n",
    "    portfolio_data=prices_df,\n",
    "    weights = [.40,.60],\n",
    "    num_simulation=500,\n",
    "    num_trading_days=252*30\n",
    ")\n",
    "\n",
    "# Review the simulation input data\n",
    "mc_thirtyyear.portfolio_data.head()\n"
   ]
  },
  {
   "cell_type": "code",
   "execution_count": 31,
   "metadata": {},
   "outputs": [
    {
     "name": "stdout",
     "output_type": "stream",
     "text": [
      "Running Monte Carlo simulation number 0.\n",
      "Running Monte Carlo simulation number 10.\n",
      "Running Monte Carlo simulation number 20.\n",
      "Running Monte Carlo simulation number 30.\n",
      "Running Monte Carlo simulation number 40.\n",
      "Running Monte Carlo simulation number 50.\n",
      "Running Monte Carlo simulation number 60.\n",
      "Running Monte Carlo simulation number 70.\n",
      "Running Monte Carlo simulation number 80.\n",
      "Running Monte Carlo simulation number 90.\n",
      "Running Monte Carlo simulation number 100.\n",
      "Running Monte Carlo simulation number 110.\n",
      "Running Monte Carlo simulation number 120.\n",
      "Running Monte Carlo simulation number 130.\n",
      "Running Monte Carlo simulation number 140.\n",
      "Running Monte Carlo simulation number 150.\n",
      "Running Monte Carlo simulation number 160.\n",
      "Running Monte Carlo simulation number 170.\n",
      "Running Monte Carlo simulation number 180.\n",
      "Running Monte Carlo simulation number 190.\n",
      "Running Monte Carlo simulation number 200.\n",
      "Running Monte Carlo simulation number 210.\n",
      "Running Monte Carlo simulation number 220.\n",
      "Running Monte Carlo simulation number 230.\n",
      "Running Monte Carlo simulation number 240.\n",
      "Running Monte Carlo simulation number 250.\n",
      "Running Monte Carlo simulation number 260.\n",
      "Running Monte Carlo simulation number 270.\n",
      "Running Monte Carlo simulation number 280.\n",
      "Running Monte Carlo simulation number 290.\n",
      "Running Monte Carlo simulation number 300.\n",
      "Running Monte Carlo simulation number 310.\n",
      "Running Monte Carlo simulation number 320.\n",
      "Running Monte Carlo simulation number 330.\n",
      "Running Monte Carlo simulation number 340.\n",
      "Running Monte Carlo simulation number 350.\n",
      "Running Monte Carlo simulation number 360.\n",
      "Running Monte Carlo simulation number 370.\n",
      "Running Monte Carlo simulation number 380.\n",
      "Running Monte Carlo simulation number 390.\n",
      "Running Monte Carlo simulation number 400.\n",
      "Running Monte Carlo simulation number 410.\n",
      "Running Monte Carlo simulation number 420.\n",
      "Running Monte Carlo simulation number 430.\n",
      "Running Monte Carlo simulation number 440.\n",
      "Running Monte Carlo simulation number 450.\n",
      "Running Monte Carlo simulation number 460.\n",
      "Running Monte Carlo simulation number 470.\n",
      "Running Monte Carlo simulation number 480.\n",
      "Running Monte Carlo simulation number 490.\n"
     ]
    },
    {
     "data": {
      "text/html": [
       "<div>\n",
       "<style scoped>\n",
       "    .dataframe tbody tr th:only-of-type {\n",
       "        vertical-align: middle;\n",
       "    }\n",
       "\n",
       "    .dataframe tbody tr th {\n",
       "        vertical-align: top;\n",
       "    }\n",
       "\n",
       "    .dataframe thead th {\n",
       "        text-align: right;\n",
       "    }\n",
       "</style>\n",
       "<table border=\"1\" class=\"dataframe\">\n",
       "  <thead>\n",
       "    <tr style=\"text-align: right;\">\n",
       "      <th></th>\n",
       "      <th>0</th>\n",
       "      <th>1</th>\n",
       "      <th>2</th>\n",
       "      <th>3</th>\n",
       "      <th>4</th>\n",
       "      <th>5</th>\n",
       "      <th>6</th>\n",
       "      <th>7</th>\n",
       "      <th>8</th>\n",
       "      <th>9</th>\n",
       "      <th>...</th>\n",
       "      <th>490</th>\n",
       "      <th>491</th>\n",
       "      <th>492</th>\n",
       "      <th>493</th>\n",
       "      <th>494</th>\n",
       "      <th>495</th>\n",
       "      <th>496</th>\n",
       "      <th>497</th>\n",
       "      <th>498</th>\n",
       "      <th>499</th>\n",
       "    </tr>\n",
       "  </thead>\n",
       "  <tbody>\n",
       "    <tr>\n",
       "      <th>0</th>\n",
       "      <td>1.000000</td>\n",
       "      <td>1.000000</td>\n",
       "      <td>1.000000</td>\n",
       "      <td>1.000000</td>\n",
       "      <td>1.000000</td>\n",
       "      <td>1.000000</td>\n",
       "      <td>1.000000</td>\n",
       "      <td>1.000000</td>\n",
       "      <td>1.000000</td>\n",
       "      <td>1.000000</td>\n",
       "      <td>...</td>\n",
       "      <td>1.000000</td>\n",
       "      <td>1.000000</td>\n",
       "      <td>1.000000</td>\n",
       "      <td>1.000000</td>\n",
       "      <td>1.000000</td>\n",
       "      <td>1.000000</td>\n",
       "      <td>1.000000</td>\n",
       "      <td>1.000000</td>\n",
       "      <td>1.000000</td>\n",
       "      <td>1.000000</td>\n",
       "    </tr>\n",
       "    <tr>\n",
       "      <th>1</th>\n",
       "      <td>1.008034</td>\n",
       "      <td>1.004224</td>\n",
       "      <td>0.976563</td>\n",
       "      <td>1.012448</td>\n",
       "      <td>0.999539</td>\n",
       "      <td>1.013592</td>\n",
       "      <td>1.010321</td>\n",
       "      <td>1.006144</td>\n",
       "      <td>0.996625</td>\n",
       "      <td>0.995533</td>\n",
       "      <td>...</td>\n",
       "      <td>0.991919</td>\n",
       "      <td>1.000837</td>\n",
       "      <td>0.993967</td>\n",
       "      <td>1.004601</td>\n",
       "      <td>0.995758</td>\n",
       "      <td>1.020096</td>\n",
       "      <td>0.990699</td>\n",
       "      <td>1.006927</td>\n",
       "      <td>1.011215</td>\n",
       "      <td>0.990860</td>\n",
       "    </tr>\n",
       "    <tr>\n",
       "      <th>2</th>\n",
       "      <td>1.008428</td>\n",
       "      <td>0.998367</td>\n",
       "      <td>0.985149</td>\n",
       "      <td>0.996094</td>\n",
       "      <td>0.987893</td>\n",
       "      <td>1.005449</td>\n",
       "      <td>1.018740</td>\n",
       "      <td>1.010032</td>\n",
       "      <td>0.983565</td>\n",
       "      <td>1.004588</td>\n",
       "      <td>...</td>\n",
       "      <td>0.988124</td>\n",
       "      <td>0.999509</td>\n",
       "      <td>0.989349</td>\n",
       "      <td>1.002496</td>\n",
       "      <td>0.993714</td>\n",
       "      <td>1.030875</td>\n",
       "      <td>0.995914</td>\n",
       "      <td>1.004850</td>\n",
       "      <td>1.016977</td>\n",
       "      <td>1.006509</td>\n",
       "    </tr>\n",
       "    <tr>\n",
       "      <th>3</th>\n",
       "      <td>1.023127</td>\n",
       "      <td>1.002083</td>\n",
       "      <td>0.981206</td>\n",
       "      <td>0.996233</td>\n",
       "      <td>1.003525</td>\n",
       "      <td>0.998914</td>\n",
       "      <td>1.041282</td>\n",
       "      <td>1.009300</td>\n",
       "      <td>0.978696</td>\n",
       "      <td>0.993389</td>\n",
       "      <td>...</td>\n",
       "      <td>0.973990</td>\n",
       "      <td>0.998870</td>\n",
       "      <td>0.986680</td>\n",
       "      <td>0.988241</td>\n",
       "      <td>0.990532</td>\n",
       "      <td>1.036661</td>\n",
       "      <td>1.009317</td>\n",
       "      <td>1.003558</td>\n",
       "      <td>1.020105</td>\n",
       "      <td>1.005874</td>\n",
       "    </tr>\n",
       "    <tr>\n",
       "      <th>4</th>\n",
       "      <td>1.026581</td>\n",
       "      <td>1.001940</td>\n",
       "      <td>0.958618</td>\n",
       "      <td>1.006830</td>\n",
       "      <td>0.999671</td>\n",
       "      <td>0.987826</td>\n",
       "      <td>1.050979</td>\n",
       "      <td>1.005784</td>\n",
       "      <td>0.983238</td>\n",
       "      <td>0.977907</td>\n",
       "      <td>...</td>\n",
       "      <td>0.963281</td>\n",
       "      <td>0.990885</td>\n",
       "      <td>0.996075</td>\n",
       "      <td>0.986254</td>\n",
       "      <td>1.000321</td>\n",
       "      <td>1.028240</td>\n",
       "      <td>1.007453</td>\n",
       "      <td>1.003292</td>\n",
       "      <td>1.035488</td>\n",
       "      <td>1.014713</td>\n",
       "    </tr>\n",
       "    <tr>\n",
       "      <th>...</th>\n",
       "      <td>...</td>\n",
       "      <td>...</td>\n",
       "      <td>...</td>\n",
       "      <td>...</td>\n",
       "      <td>...</td>\n",
       "      <td>...</td>\n",
       "      <td>...</td>\n",
       "      <td>...</td>\n",
       "      <td>...</td>\n",
       "      <td>...</td>\n",
       "      <td>...</td>\n",
       "      <td>...</td>\n",
       "      <td>...</td>\n",
       "      <td>...</td>\n",
       "      <td>...</td>\n",
       "      <td>...</td>\n",
       "      <td>...</td>\n",
       "      <td>...</td>\n",
       "      <td>...</td>\n",
       "      <td>...</td>\n",
       "      <td>...</td>\n",
       "    </tr>\n",
       "    <tr>\n",
       "      <th>7556</th>\n",
       "      <td>50.077350</td>\n",
       "      <td>580.631076</td>\n",
       "      <td>53.486777</td>\n",
       "      <td>38.844722</td>\n",
       "      <td>141.078204</td>\n",
       "      <td>82.981979</td>\n",
       "      <td>59.394794</td>\n",
       "      <td>121.550717</td>\n",
       "      <td>22.305358</td>\n",
       "      <td>85.681183</td>\n",
       "      <td>...</td>\n",
       "      <td>180.843260</td>\n",
       "      <td>414.641244</td>\n",
       "      <td>76.429021</td>\n",
       "      <td>252.788162</td>\n",
       "      <td>62.885458</td>\n",
       "      <td>18.433418</td>\n",
       "      <td>51.859340</td>\n",
       "      <td>20.169284</td>\n",
       "      <td>60.532178</td>\n",
       "      <td>127.500983</td>\n",
       "    </tr>\n",
       "    <tr>\n",
       "      <th>7557</th>\n",
       "      <td>49.754731</td>\n",
       "      <td>576.000698</td>\n",
       "      <td>53.874499</td>\n",
       "      <td>39.356912</td>\n",
       "      <td>141.065479</td>\n",
       "      <td>84.330567</td>\n",
       "      <td>59.848566</td>\n",
       "      <td>120.441094</td>\n",
       "      <td>22.247310</td>\n",
       "      <td>86.233767</td>\n",
       "      <td>...</td>\n",
       "      <td>182.124417</td>\n",
       "      <td>416.137408</td>\n",
       "      <td>76.223149</td>\n",
       "      <td>251.849643</td>\n",
       "      <td>62.303130</td>\n",
       "      <td>18.524030</td>\n",
       "      <td>51.685937</td>\n",
       "      <td>20.060237</td>\n",
       "      <td>59.735737</td>\n",
       "      <td>127.400697</td>\n",
       "    </tr>\n",
       "    <tr>\n",
       "      <th>7558</th>\n",
       "      <td>49.565505</td>\n",
       "      <td>574.135069</td>\n",
       "      <td>54.010686</td>\n",
       "      <td>38.845093</td>\n",
       "      <td>140.764460</td>\n",
       "      <td>84.926540</td>\n",
       "      <td>60.126124</td>\n",
       "      <td>118.908701</td>\n",
       "      <td>22.261756</td>\n",
       "      <td>86.344461</td>\n",
       "      <td>...</td>\n",
       "      <td>180.893369</td>\n",
       "      <td>410.342253</td>\n",
       "      <td>76.968546</td>\n",
       "      <td>249.890723</td>\n",
       "      <td>63.253736</td>\n",
       "      <td>18.623979</td>\n",
       "      <td>51.279911</td>\n",
       "      <td>20.252669</td>\n",
       "      <td>59.769503</td>\n",
       "      <td>126.806170</td>\n",
       "    </tr>\n",
       "    <tr>\n",
       "      <th>7559</th>\n",
       "      <td>49.434060</td>\n",
       "      <td>580.669983</td>\n",
       "      <td>54.116182</td>\n",
       "      <td>38.689083</td>\n",
       "      <td>140.498904</td>\n",
       "      <td>85.588440</td>\n",
       "      <td>59.267894</td>\n",
       "      <td>119.483754</td>\n",
       "      <td>22.200696</td>\n",
       "      <td>84.959208</td>\n",
       "      <td>...</td>\n",
       "      <td>182.222782</td>\n",
       "      <td>414.281282</td>\n",
       "      <td>76.778140</td>\n",
       "      <td>252.425408</td>\n",
       "      <td>64.100058</td>\n",
       "      <td>18.319557</td>\n",
       "      <td>51.976737</td>\n",
       "      <td>20.143455</td>\n",
       "      <td>59.227158</td>\n",
       "      <td>127.368712</td>\n",
       "    </tr>\n",
       "    <tr>\n",
       "      <th>7560</th>\n",
       "      <td>49.466133</td>\n",
       "      <td>586.332464</td>\n",
       "      <td>54.699370</td>\n",
       "      <td>38.289368</td>\n",
       "      <td>142.522149</td>\n",
       "      <td>85.250659</td>\n",
       "      <td>59.325992</td>\n",
       "      <td>120.993024</td>\n",
       "      <td>22.181895</td>\n",
       "      <td>86.236748</td>\n",
       "      <td>...</td>\n",
       "      <td>180.639118</td>\n",
       "      <td>421.076711</td>\n",
       "      <td>76.872528</td>\n",
       "      <td>250.568569</td>\n",
       "      <td>63.782726</td>\n",
       "      <td>18.294166</td>\n",
       "      <td>52.207163</td>\n",
       "      <td>20.110109</td>\n",
       "      <td>59.639705</td>\n",
       "      <td>127.209351</td>\n",
       "    </tr>\n",
       "  </tbody>\n",
       "</table>\n",
       "<p>7561 rows × 500 columns</p>\n",
       "</div>"
      ],
      "text/plain": [
       "            0           1          2          3           4          5    \\\n",
       "0      1.000000    1.000000   1.000000   1.000000    1.000000   1.000000   \n",
       "1      1.008034    1.004224   0.976563   1.012448    0.999539   1.013592   \n",
       "2      1.008428    0.998367   0.985149   0.996094    0.987893   1.005449   \n",
       "3      1.023127    1.002083   0.981206   0.996233    1.003525   0.998914   \n",
       "4      1.026581    1.001940   0.958618   1.006830    0.999671   0.987826   \n",
       "...         ...         ...        ...        ...         ...        ...   \n",
       "7556  50.077350  580.631076  53.486777  38.844722  141.078204  82.981979   \n",
       "7557  49.754731  576.000698  53.874499  39.356912  141.065479  84.330567   \n",
       "7558  49.565505  574.135069  54.010686  38.845093  140.764460  84.926540   \n",
       "7559  49.434060  580.669983  54.116182  38.689083  140.498904  85.588440   \n",
       "7560  49.466133  586.332464  54.699370  38.289368  142.522149  85.250659   \n",
       "\n",
       "            6           7          8          9    ...         490  \\\n",
       "0      1.000000    1.000000   1.000000   1.000000  ...    1.000000   \n",
       "1      1.010321    1.006144   0.996625   0.995533  ...    0.991919   \n",
       "2      1.018740    1.010032   0.983565   1.004588  ...    0.988124   \n",
       "3      1.041282    1.009300   0.978696   0.993389  ...    0.973990   \n",
       "4      1.050979    1.005784   0.983238   0.977907  ...    0.963281   \n",
       "...         ...         ...        ...        ...  ...         ...   \n",
       "7556  59.394794  121.550717  22.305358  85.681183  ...  180.843260   \n",
       "7557  59.848566  120.441094  22.247310  86.233767  ...  182.124417   \n",
       "7558  60.126124  118.908701  22.261756  86.344461  ...  180.893369   \n",
       "7559  59.267894  119.483754  22.200696  84.959208  ...  182.222782   \n",
       "7560  59.325992  120.993024  22.181895  86.236748  ...  180.639118   \n",
       "\n",
       "             491        492         493        494        495        496  \\\n",
       "0       1.000000   1.000000    1.000000   1.000000   1.000000   1.000000   \n",
       "1       1.000837   0.993967    1.004601   0.995758   1.020096   0.990699   \n",
       "2       0.999509   0.989349    1.002496   0.993714   1.030875   0.995914   \n",
       "3       0.998870   0.986680    0.988241   0.990532   1.036661   1.009317   \n",
       "4       0.990885   0.996075    0.986254   1.000321   1.028240   1.007453   \n",
       "...          ...        ...         ...        ...        ...        ...   \n",
       "7556  414.641244  76.429021  252.788162  62.885458  18.433418  51.859340   \n",
       "7557  416.137408  76.223149  251.849643  62.303130  18.524030  51.685937   \n",
       "7558  410.342253  76.968546  249.890723  63.253736  18.623979  51.279911   \n",
       "7559  414.281282  76.778140  252.425408  64.100058  18.319557  51.976737   \n",
       "7560  421.076711  76.872528  250.568569  63.782726  18.294166  52.207163   \n",
       "\n",
       "            497        498         499  \n",
       "0      1.000000   1.000000    1.000000  \n",
       "1      1.006927   1.011215    0.990860  \n",
       "2      1.004850   1.016977    1.006509  \n",
       "3      1.003558   1.020105    1.005874  \n",
       "4      1.003292   1.035488    1.014713  \n",
       "...         ...        ...         ...  \n",
       "7556  20.169284  60.532178  127.500983  \n",
       "7557  20.060237  59.735737  127.400697  \n",
       "7558  20.252669  59.769503  126.806170  \n",
       "7559  20.143455  59.227158  127.368712  \n",
       "7560  20.110109  59.639705  127.209351  \n",
       "\n",
       "[7561 rows x 500 columns]"
      ]
     },
     "execution_count": 31,
     "metadata": {},
     "output_type": "execute_result"
    }
   ],
   "source": [
    "# Run the Monte Carlo simulation to forecast 30 years cumulative returns\n",
    "mc_thirtyyear.calc_cumulative_return()\n"
   ]
  },
  {
   "cell_type": "code",
   "execution_count": 32,
   "metadata": {},
   "outputs": [
    {
     "data": {
      "image/png": "[encoded data removed]",
      "text/plain": [
       "<Figure size 432x288 with 1 Axes>"
      ]
     },
     "metadata": {
      "needs_background": "light"
     },
     "output_type": "display_data"
    }
   ],
   "source": [
    "# Visualize the 30-year Monte Carlo simulation by creating an\n",
    "# overlay line plot\n",
    "mc_thirtyyear.plot_simulation();\n"
   ]
  },
  {
   "cell_type": "markdown",
   "metadata": {},
   "source": [
    "#### Step 3: Plot the probability distribution of the Monte Carlo simulation."
   ]
  },
  {
   "cell_type": "code",
   "execution_count": 33,
   "metadata": {},
   "outputs": [
    {
     "data": {
      "image/png": "[encoded data removed]",
      "text/plain": [
       "<Figure size 432x288 with 1 Axes>"
      ]
     },
     "metadata": {
      "needs_background": "light"
     },
     "output_type": "display_data"
    }
   ],
   "source": [
    "# Visualize the probability distribution of the 30-year Monte Carlo simulation \n",
    "# by plotting a histogram\n",
    "mc_thirtyyear.plot_distribution();"
   ]
  },
  {
   "cell_type": "markdown",
   "metadata": {},
   "source": [
    "#### Step 4: Generate the summary statistics for the Monte Carlo simulation."
   ]
  },
  {
   "cell_type": "code",
   "execution_count": 34,
   "metadata": {},
   "outputs": [
    {
     "data": {
      "text/plain": [
       "count           500.000000\n",
       "mean            117.579976\n",
       "std             101.552393\n",
       "min              11.090052\n",
       "25%              54.009593\n",
       "50%              86.316787\n",
       "75%             145.348036\n",
       "max             725.585257\n",
       "95% CI Lower     20.025630\n",
       "95% CI Upper    395.740235\n",
       "Name: 7560, dtype: float64"
      ]
     },
     "execution_count": 34,
     "metadata": {},
     "output_type": "execute_result"
    }
   ],
   "source": [
    "# Generate summary statistics from the 30-year Monte Carlo simulation results\n",
    "# Save the results as a variable\n",
    "MC_summary_statistics_30 = mc_thirtyyear.summarize_cumulative_return()\n",
    "\n",
    "\n",
    "# Review the 30-year Monte Carlo summary statistics\n",
    "MC_summary_statistics_30"
   ]
  },
  {
   "cell_type": "markdown",
   "metadata": {},
   "source": [
    "### Analyze the Retirement Portfolio Forecasts\n",
    "\n",
    "Using the current value of only the stock and bond portion of the member's portfolio and the summary statistics that you generated from the Monte Carlo simulation, answer the following question in your Jupyter notebook:\n",
    "\n",
    "-  What are the lower and upper bounds for the expected value of the portfolio with a 95% confidence interval?\n"
   ]
  },
  {
   "cell_type": "code",
   "execution_count": 57,
   "metadata": {},
   "outputs": [
    {
     "name": "stdout",
     "output_type": "stream",
     "text": [
      "The current balance of stocks and bonds is $75,353.70\n"
     ]
    }
   ],
   "source": [
    "# Print the current balance of the stock and bond portion of the members portfolio\n",
    "print(f\"The current balance of stocks and bonds is ${total_stocks_bonds:,.2f}\")\n"
   ]
  },
  {
   "cell_type": "code",
   "execution_count": 58,
   "metadata": {},
   "outputs": [
    {
     "name": "stdout",
     "output_type": "stream",
     "text": [
      "There is a 95% chance that your current balance of $75,353.70 over the next 30 years will end within the range of $1,509,005.29 and $29,820,490.96.\n"
     ]
    }
   ],
   "source": [
    "# Use the lower and upper `95%` confidence intervals to calculate the range of the possible outcomes for the current stock/bond portfolio\n",
    "ci_lower_thirty_cumulative_return = MC_summary_statistics_30[8] * total_stocks_bonds\n",
    "ci_upper_thirty_cumulative_return = MC_summary_statistics_30[9] * total_stocks_bonds\n",
    "\n",
    "# Print the result of your calculations\n",
    "print(f\"There is a 95% chance that your current balance of ${total_stocks_bonds:,.2f}\"\n",
    "      f\" over the next 30 years will end within the range of\"\n",
    "      f\" ${ci_lower_thirty_cumulative_return:,.2f} and ${ci_upper_thirty_cumulative_return:,.2f}.\")\n"
   ]
  },
  {
   "cell_type": "markdown",
   "metadata": {},
   "source": [
    "### Forecast Cumulative Returns in 10 Years\n",
    "\n",
    "The CTO of the credit union is impressed with your work on these planning tools but wonders if 30 years is a long time to wait until retirement. So, your next task is to adjust the retirement portfolio and run a new Monte Carlo simulation to find out if the changes will allow members to retire earlier.\n",
    "\n",
    "For this new Monte Carlo simulation, do the following: \n",
    "\n",
    "- Forecast the cumulative returns for 10 years from now. Because of the shortened investment horizon (30 years to 10 years), the portfolio needs to invest more heavily in the riskier asset&mdash;that is, stock&mdash;to help accumulate wealth for retirement. \n",
    "\n",
    "- Adjust the weights of the retirement portfolio so that the composition for the Monte Carlo simulation consists of 20% bonds and 80% stocks. \n",
    "\n",
    "- Run the simulation over 500 samples, and use the same data that the API call to Alpaca generated.\n",
    "\n",
    "- Based on the new Monte Carlo simulation, answer the following questions in your Jupyter notebook:\n",
    "\n",
    "    - Using the current value of only the stock and bond portion of the member's portfolio and the summary statistics that you generated from the new Monte Carlo simulation, what are the lower and upper bounds for the expected value of the portfolio (with the new weights) with a 95% confidence interval?\n",
    "\n",
    "    - Will weighting the portfolio more heavily toward stocks allow the credit union members to retire after only 10 years?\n"
   ]
  },
  {
   "cell_type": "code",
   "execution_count": 37,
   "metadata": {},
   "outputs": [
    {
     "data": {
      "text/html": [
       "<div>\n",
       "<style scoped>\n",
       "    .dataframe tbody tr th:only-of-type {\n",
       "        vertical-align: middle;\n",
       "    }\n",
       "\n",
       "    .dataframe tbody tr th {\n",
       "        vertical-align: top;\n",
       "    }\n",
       "\n",
       "    .dataframe thead tr th {\n",
       "        text-align: left;\n",
       "    }\n",
       "\n",
       "    .dataframe thead tr:last-of-type th {\n",
       "        text-align: right;\n",
       "    }\n",
       "</style>\n",
       "<table border=\"1\" class=\"dataframe\">\n",
       "  <thead>\n",
       "    <tr>\n",
       "      <th></th>\n",
       "      <th colspan=\"6\" halign=\"left\">AGG</th>\n",
       "      <th colspan=\"6\" halign=\"left\">SPY</th>\n",
       "    </tr>\n",
       "    <tr>\n",
       "      <th></th>\n",
       "      <th>open</th>\n",
       "      <th>high</th>\n",
       "      <th>low</th>\n",
       "      <th>close</th>\n",
       "      <th>volume</th>\n",
       "      <th>daily_return</th>\n",
       "      <th>open</th>\n",
       "      <th>high</th>\n",
       "      <th>low</th>\n",
       "      <th>close</th>\n",
       "      <th>volume</th>\n",
       "      <th>daily_return</th>\n",
       "    </tr>\n",
       "    <tr>\n",
       "      <th>time</th>\n",
       "      <th></th>\n",
       "      <th></th>\n",
       "      <th></th>\n",
       "      <th></th>\n",
       "      <th></th>\n",
       "      <th></th>\n",
       "      <th></th>\n",
       "      <th></th>\n",
       "      <th></th>\n",
       "      <th></th>\n",
       "      <th></th>\n",
       "      <th></th>\n",
       "    </tr>\n",
       "  </thead>\n",
       "  <tbody>\n",
       "    <tr>\n",
       "      <th>2018-12-27 00:00:00-05:00</th>\n",
       "      <td>105.95</td>\n",
       "      <td>106.060</td>\n",
       "      <td>105.7700</td>\n",
       "      <td>105.790</td>\n",
       "      <td>8931609.0</td>\n",
       "      <td>NaN</td>\n",
       "      <td>242.57</td>\n",
       "      <td>248.01</td>\n",
       "      <td>238.96</td>\n",
       "      <td>248.0100</td>\n",
       "      <td>159105665</td>\n",
       "      <td>NaN</td>\n",
       "    </tr>\n",
       "    <tr>\n",
       "      <th>2018-12-28 00:00:00-05:00</th>\n",
       "      <td>105.97</td>\n",
       "      <td>106.210</td>\n",
       "      <td>105.9400</td>\n",
       "      <td>106.205</td>\n",
       "      <td>6588564.0</td>\n",
       "      <td>0.003923</td>\n",
       "      <td>249.58</td>\n",
       "      <td>251.40</td>\n",
       "      <td>246.45</td>\n",
       "      <td>247.6899</td>\n",
       "      <td>132250127</td>\n",
       "      <td>-0.001291</td>\n",
       "    </tr>\n",
       "    <tr>\n",
       "      <th>2018-12-31 00:00:00-05:00</th>\n",
       "      <td>106.12</td>\n",
       "      <td>106.510</td>\n",
       "      <td>105.6200</td>\n",
       "      <td>106.495</td>\n",
       "      <td>8349838.0</td>\n",
       "      <td>0.002731</td>\n",
       "      <td>249.56</td>\n",
       "      <td>250.16</td>\n",
       "      <td>247.47</td>\n",
       "      <td>248.5500</td>\n",
       "      <td>100767777</td>\n",
       "      <td>0.003472</td>\n",
       "    </tr>\n",
       "    <tr>\n",
       "      <th>2019-01-02 00:00:00-05:00</th>\n",
       "      <td>106.55</td>\n",
       "      <td>106.610</td>\n",
       "      <td>106.4701</td>\n",
       "      <td>106.585</td>\n",
       "      <td>10164756.0</td>\n",
       "      <td>0.000845</td>\n",
       "      <td>245.98</td>\n",
       "      <td>251.21</td>\n",
       "      <td>245.95</td>\n",
       "      <td>249.8900</td>\n",
       "      <td>107236613</td>\n",
       "      <td>0.005391</td>\n",
       "    </tr>\n",
       "    <tr>\n",
       "      <th>2019-01-03 00:00:00-05:00</th>\n",
       "      <td>106.57</td>\n",
       "      <td>107.075</td>\n",
       "      <td>106.5700</td>\n",
       "      <td>107.020</td>\n",
       "      <td>6260265.0</td>\n",
       "      <td>0.004081</td>\n",
       "      <td>248.23</td>\n",
       "      <td>248.57</td>\n",
       "      <td>244.03</td>\n",
       "      <td>244.4600</td>\n",
       "      <td>113782919</td>\n",
       "      <td>-0.021730</td>\n",
       "    </tr>\n",
       "  </tbody>\n",
       "</table>\n",
       "</div>"
      ],
      "text/plain": [
       "                              AGG                                          \\\n",
       "                             open     high       low    close      volume   \n",
       "time                                                                        \n",
       "2018-12-27 00:00:00-05:00  105.95  106.060  105.7700  105.790   8931609.0   \n",
       "2018-12-28 00:00:00-05:00  105.97  106.210  105.9400  106.205   6588564.0   \n",
       "2018-12-31 00:00:00-05:00  106.12  106.510  105.6200  106.495   8349838.0   \n",
       "2019-01-02 00:00:00-05:00  106.55  106.610  106.4701  106.585  10164756.0   \n",
       "2019-01-03 00:00:00-05:00  106.57  107.075  106.5700  107.020   6260265.0   \n",
       "\n",
       "                                           SPY                            \\\n",
       "                          daily_return    open    high     low     close   \n",
       "time                                                                       \n",
       "2018-12-27 00:00:00-05:00          NaN  242.57  248.01  238.96  248.0100   \n",
       "2018-12-28 00:00:00-05:00     0.003923  249.58  251.40  246.45  247.6899   \n",
       "2018-12-31 00:00:00-05:00     0.002731  249.56  250.16  247.47  248.5500   \n",
       "2019-01-02 00:00:00-05:00     0.000845  245.98  251.21  245.95  249.8900   \n",
       "2019-01-03 00:00:00-05:00     0.004081  248.23  248.57  244.03  244.4600   \n",
       "\n",
       "                                                   \n",
       "                              volume daily_return  \n",
       "time                                               \n",
       "2018-12-27 00:00:00-05:00  159105665          NaN  \n",
       "2018-12-28 00:00:00-05:00  132250127    -0.001291  \n",
       "2018-12-31 00:00:00-05:00  100767777     0.003472  \n",
       "2019-01-02 00:00:00-05:00  107236613     0.005391  \n",
       "2019-01-03 00:00:00-05:00  113782919    -0.021730  "
      ]
     },
     "execution_count": 37,
     "metadata": {},
     "output_type": "execute_result"
    }
   ],
   "source": [
    "# Configure a Monte Carlo simulation to forecast 10 years cumulative returns\n",
    "# The weights should be split 20% to AGG and 80% to SPY.\n",
    "# Run 500 samples.\n",
    "MC_ten_year = MCSimulation(\n",
    "    portfolio_data=prices_df,\n",
    "    weights = [.20,.80],\n",
    "    num_simulation=500,\n",
    "    num_trading_days=252*10\n",
    ")\n",
    "\n",
    "# Review the simulation input data\n",
    "MC_ten_year.portfolio_data.head()\n"
   ]
  },
  {
   "cell_type": "code",
   "execution_count": 38,
   "metadata": {},
   "outputs": [
    {
     "name": "stdout",
     "output_type": "stream",
     "text": [
      "Running Monte Carlo simulation number 0.\n",
      "Running Monte Carlo simulation number 10.\n",
      "Running Monte Carlo simulation number 20.\n",
      "Running Monte Carlo simulation number 30.\n",
      "Running Monte Carlo simulation number 40.\n",
      "Running Monte Carlo simulation number 50.\n",
      "Running Monte Carlo simulation number 60.\n",
      "Running Monte Carlo simulation number 70.\n",
      "Running Monte Carlo simulation number 80.\n",
      "Running Monte Carlo simulation number 90.\n",
      "Running Monte Carlo simulation number 100.\n",
      "Running Monte Carlo simulation number 110.\n",
      "Running Monte Carlo simulation number 120.\n",
      "Running Monte Carlo simulation number 130.\n",
      "Running Monte Carlo simulation number 140.\n",
      "Running Monte Carlo simulation number 150.\n",
      "Running Monte Carlo simulation number 160.\n",
      "Running Monte Carlo simulation number 170.\n",
      "Running Monte Carlo simulation number 180.\n",
      "Running Monte Carlo simulation number 190.\n",
      "Running Monte Carlo simulation number 200.\n",
      "Running Monte Carlo simulation number 210.\n",
      "Running Monte Carlo simulation number 220.\n",
      "Running Monte Carlo simulation number 230.\n",
      "Running Monte Carlo simulation number 240.\n",
      "Running Monte Carlo simulation number 250.\n",
      "Running Monte Carlo simulation number 260.\n",
      "Running Monte Carlo simulation number 270.\n",
      "Running Monte Carlo simulation number 280.\n",
      "Running Monte Carlo simulation number 290.\n",
      "Running Monte Carlo simulation number 300.\n",
      "Running Monte Carlo simulation number 310.\n",
      "Running Monte Carlo simulation number 320.\n",
      "Running Monte Carlo simulation number 330.\n",
      "Running Monte Carlo simulation number 340.\n",
      "Running Monte Carlo simulation number 350.\n",
      "Running Monte Carlo simulation number 360.\n",
      "Running Monte Carlo simulation number 370.\n",
      "Running Monte Carlo simulation number 380.\n",
      "Running Monte Carlo simulation number 390.\n",
      "Running Monte Carlo simulation number 400.\n",
      "Running Monte Carlo simulation number 410.\n",
      "Running Monte Carlo simulation number 420.\n",
      "Running Monte Carlo simulation number 430.\n",
      "Running Monte Carlo simulation number 440.\n",
      "Running Monte Carlo simulation number 450.\n",
      "Running Monte Carlo simulation number 460.\n",
      "Running Monte Carlo simulation number 470.\n",
      "Running Monte Carlo simulation number 480.\n",
      "Running Monte Carlo simulation number 490.\n"
     ]
    },
    {
     "data": {
      "text/html": [
       "<div>\n",
       "<style scoped>\n",
       "    .dataframe tbody tr th:only-of-type {\n",
       "        vertical-align: middle;\n",
       "    }\n",
       "\n",
       "    .dataframe tbody tr th {\n",
       "        vertical-align: top;\n",
       "    }\n",
       "\n",
       "    .dataframe thead th {\n",
       "        text-align: right;\n",
       "    }\n",
       "</style>\n",
       "<table border=\"1\" class=\"dataframe\">\n",
       "  <thead>\n",
       "    <tr style=\"text-align: right;\">\n",
       "      <th></th>\n",
       "      <th>0</th>\n",
       "      <th>1</th>\n",
       "      <th>2</th>\n",
       "      <th>3</th>\n",
       "      <th>4</th>\n",
       "      <th>5</th>\n",
       "      <th>6</th>\n",
       "      <th>7</th>\n",
       "      <th>8</th>\n",
       "      <th>9</th>\n",
       "      <th>...</th>\n",
       "      <th>490</th>\n",
       "      <th>491</th>\n",
       "      <th>492</th>\n",
       "      <th>493</th>\n",
       "      <th>494</th>\n",
       "      <th>495</th>\n",
       "      <th>496</th>\n",
       "      <th>497</th>\n",
       "      <th>498</th>\n",
       "      <th>499</th>\n",
       "    </tr>\n",
       "  </thead>\n",
       "  <tbody>\n",
       "    <tr>\n",
       "      <th>0</th>\n",
       "      <td>1.000000</td>\n",
       "      <td>1.000000</td>\n",
       "      <td>1.000000</td>\n",
       "      <td>1.000000</td>\n",
       "      <td>1.000000</td>\n",
       "      <td>1.000000</td>\n",
       "      <td>1.000000</td>\n",
       "      <td>1.000000</td>\n",
       "      <td>1.000000</td>\n",
       "      <td>1.000000</td>\n",
       "      <td>...</td>\n",
       "      <td>1.000000</td>\n",
       "      <td>1.000000</td>\n",
       "      <td>1.000000</td>\n",
       "      <td>1.000000</td>\n",
       "      <td>1.000000</td>\n",
       "      <td>1.000000</td>\n",
       "      <td>1.000000</td>\n",
       "      <td>1.000000</td>\n",
       "      <td>1.000000</td>\n",
       "      <td>1.000000</td>\n",
       "    </tr>\n",
       "    <tr>\n",
       "      <th>1</th>\n",
       "      <td>0.975008</td>\n",
       "      <td>1.004259</td>\n",
       "      <td>1.000784</td>\n",
       "      <td>1.025138</td>\n",
       "      <td>1.009032</td>\n",
       "      <td>0.991804</td>\n",
       "      <td>0.994385</td>\n",
       "      <td>0.998399</td>\n",
       "      <td>1.013380</td>\n",
       "      <td>1.004039</td>\n",
       "      <td>...</td>\n",
       "      <td>1.009438</td>\n",
       "      <td>1.004186</td>\n",
       "      <td>1.008749</td>\n",
       "      <td>1.011155</td>\n",
       "      <td>0.995505</td>\n",
       "      <td>1.009884</td>\n",
       "      <td>0.992672</td>\n",
       "      <td>0.994542</td>\n",
       "      <td>0.994451</td>\n",
       "      <td>0.986944</td>\n",
       "    </tr>\n",
       "    <tr>\n",
       "      <th>2</th>\n",
       "      <td>0.973144</td>\n",
       "      <td>1.009889</td>\n",
       "      <td>1.013754</td>\n",
       "      <td>1.036571</td>\n",
       "      <td>1.016413</td>\n",
       "      <td>0.991349</td>\n",
       "      <td>0.992728</td>\n",
       "      <td>1.009354</td>\n",
       "      <td>1.006014</td>\n",
       "      <td>0.997108</td>\n",
       "      <td>...</td>\n",
       "      <td>0.994510</td>\n",
       "      <td>0.998429</td>\n",
       "      <td>1.010920</td>\n",
       "      <td>1.015316</td>\n",
       "      <td>1.002979</td>\n",
       "      <td>1.030801</td>\n",
       "      <td>0.994156</td>\n",
       "      <td>0.994298</td>\n",
       "      <td>0.984302</td>\n",
       "      <td>0.985300</td>\n",
       "    </tr>\n",
       "    <tr>\n",
       "      <th>3</th>\n",
       "      <td>0.967413</td>\n",
       "      <td>0.998939</td>\n",
       "      <td>1.028741</td>\n",
       "      <td>1.018077</td>\n",
       "      <td>1.021061</td>\n",
       "      <td>0.997760</td>\n",
       "      <td>0.988787</td>\n",
       "      <td>1.008129</td>\n",
       "      <td>1.000348</td>\n",
       "      <td>0.978325</td>\n",
       "      <td>...</td>\n",
       "      <td>1.002492</td>\n",
       "      <td>0.994873</td>\n",
       "      <td>1.020411</td>\n",
       "      <td>1.009599</td>\n",
       "      <td>0.987918</td>\n",
       "      <td>1.008094</td>\n",
       "      <td>0.984429</td>\n",
       "      <td>0.995215</td>\n",
       "      <td>0.991271</td>\n",
       "      <td>0.994922</td>\n",
       "    </tr>\n",
       "    <tr>\n",
       "      <th>4</th>\n",
       "      <td>0.970063</td>\n",
       "      <td>0.987343</td>\n",
       "      <td>1.037415</td>\n",
       "      <td>0.999657</td>\n",
       "      <td>1.030324</td>\n",
       "      <td>1.004988</td>\n",
       "      <td>0.986930</td>\n",
       "      <td>1.007658</td>\n",
       "      <td>1.001466</td>\n",
       "      <td>0.970785</td>\n",
       "      <td>...</td>\n",
       "      <td>1.003883</td>\n",
       "      <td>0.995577</td>\n",
       "      <td>1.021621</td>\n",
       "      <td>1.027368</td>\n",
       "      <td>0.976731</td>\n",
       "      <td>1.028805</td>\n",
       "      <td>0.992067</td>\n",
       "      <td>0.992737</td>\n",
       "      <td>0.984785</td>\n",
       "      <td>0.988619</td>\n",
       "    </tr>\n",
       "    <tr>\n",
       "      <th>...</th>\n",
       "      <td>...</td>\n",
       "      <td>...</td>\n",
       "      <td>...</td>\n",
       "      <td>...</td>\n",
       "      <td>...</td>\n",
       "      <td>...</td>\n",
       "      <td>...</td>\n",
       "      <td>...</td>\n",
       "      <td>...</td>\n",
       "      <td>...</td>\n",
       "      <td>...</td>\n",
       "      <td>...</td>\n",
       "      <td>...</td>\n",
       "      <td>...</td>\n",
       "      <td>...</td>\n",
       "      <td>...</td>\n",
       "      <td>...</td>\n",
       "      <td>...</td>\n",
       "      <td>...</td>\n",
       "      <td>...</td>\n",
       "      <td>...</td>\n",
       "    </tr>\n",
       "    <tr>\n",
       "      <th>2516</th>\n",
       "      <td>11.577160</td>\n",
       "      <td>5.198623</td>\n",
       "      <td>15.473134</td>\n",
       "      <td>4.347241</td>\n",
       "      <td>6.579811</td>\n",
       "      <td>7.350885</td>\n",
       "      <td>4.106281</td>\n",
       "      <td>2.993133</td>\n",
       "      <td>3.799530</td>\n",
       "      <td>4.196843</td>\n",
       "      <td>...</td>\n",
       "      <td>4.672628</td>\n",
       "      <td>6.013559</td>\n",
       "      <td>10.015594</td>\n",
       "      <td>12.149150</td>\n",
       "      <td>7.885230</td>\n",
       "      <td>12.046272</td>\n",
       "      <td>3.651167</td>\n",
       "      <td>8.326087</td>\n",
       "      <td>2.762226</td>\n",
       "      <td>2.398996</td>\n",
       "    </tr>\n",
       "    <tr>\n",
       "      <th>2517</th>\n",
       "      <td>11.592769</td>\n",
       "      <td>5.209555</td>\n",
       "      <td>15.288273</td>\n",
       "      <td>4.338752</td>\n",
       "      <td>6.622172</td>\n",
       "      <td>7.504187</td>\n",
       "      <td>4.109704</td>\n",
       "      <td>2.995701</td>\n",
       "      <td>3.812077</td>\n",
       "      <td>4.183628</td>\n",
       "      <td>...</td>\n",
       "      <td>4.651353</td>\n",
       "      <td>5.915550</td>\n",
       "      <td>10.080899</td>\n",
       "      <td>12.246344</td>\n",
       "      <td>8.001369</td>\n",
       "      <td>12.144396</td>\n",
       "      <td>3.743358</td>\n",
       "      <td>8.339434</td>\n",
       "      <td>2.733336</td>\n",
       "      <td>2.396336</td>\n",
       "    </tr>\n",
       "    <tr>\n",
       "      <th>2518</th>\n",
       "      <td>11.702665</td>\n",
       "      <td>5.348453</td>\n",
       "      <td>15.105152</td>\n",
       "      <td>4.325929</td>\n",
       "      <td>6.523629</td>\n",
       "      <td>7.568277</td>\n",
       "      <td>4.034528</td>\n",
       "      <td>2.939798</td>\n",
       "      <td>3.811667</td>\n",
       "      <td>4.266312</td>\n",
       "      <td>...</td>\n",
       "      <td>4.682020</td>\n",
       "      <td>5.922402</td>\n",
       "      <td>10.052953</td>\n",
       "      <td>12.086812</td>\n",
       "      <td>8.113657</td>\n",
       "      <td>12.239035</td>\n",
       "      <td>3.757983</td>\n",
       "      <td>8.303270</td>\n",
       "      <td>2.794488</td>\n",
       "      <td>2.429988</td>\n",
       "    </tr>\n",
       "    <tr>\n",
       "      <th>2519</th>\n",
       "      <td>11.745523</td>\n",
       "      <td>5.422659</td>\n",
       "      <td>15.085089</td>\n",
       "      <td>4.328896</td>\n",
       "      <td>6.605929</td>\n",
       "      <td>7.527874</td>\n",
       "      <td>4.067046</td>\n",
       "      <td>2.917620</td>\n",
       "      <td>3.832816</td>\n",
       "      <td>4.324589</td>\n",
       "      <td>...</td>\n",
       "      <td>4.645148</td>\n",
       "      <td>5.903617</td>\n",
       "      <td>9.998524</td>\n",
       "      <td>12.254678</td>\n",
       "      <td>7.988888</td>\n",
       "      <td>12.226565</td>\n",
       "      <td>3.748852</td>\n",
       "      <td>8.428713</td>\n",
       "      <td>2.763783</td>\n",
       "      <td>2.443398</td>\n",
       "    </tr>\n",
       "    <tr>\n",
       "      <th>2520</th>\n",
       "      <td>11.416371</td>\n",
       "      <td>5.447974</td>\n",
       "      <td>15.099505</td>\n",
       "      <td>4.275115</td>\n",
       "      <td>6.622628</td>\n",
       "      <td>7.541459</td>\n",
       "      <td>4.015756</td>\n",
       "      <td>2.883847</td>\n",
       "      <td>3.846597</td>\n",
       "      <td>4.316327</td>\n",
       "      <td>...</td>\n",
       "      <td>4.674270</td>\n",
       "      <td>5.859274</td>\n",
       "      <td>10.124246</td>\n",
       "      <td>12.366968</td>\n",
       "      <td>7.980215</td>\n",
       "      <td>12.116839</td>\n",
       "      <td>3.723735</td>\n",
       "      <td>8.470707</td>\n",
       "      <td>2.761859</td>\n",
       "      <td>2.417348</td>\n",
       "    </tr>\n",
       "  </tbody>\n",
       "</table>\n",
       "<p>2521 rows × 500 columns</p>\n",
       "</div>"
      ],
      "text/plain": [
       "            0         1          2         3         4         5         6    \\\n",
       "0      1.000000  1.000000   1.000000  1.000000  1.000000  1.000000  1.000000   \n",
       "1      0.975008  1.004259   1.000784  1.025138  1.009032  0.991804  0.994385   \n",
       "2      0.973144  1.009889   1.013754  1.036571  1.016413  0.991349  0.992728   \n",
       "3      0.967413  0.998939   1.028741  1.018077  1.021061  0.997760  0.988787   \n",
       "4      0.970063  0.987343   1.037415  0.999657  1.030324  1.004988  0.986930   \n",
       "...         ...       ...        ...       ...       ...       ...       ...   \n",
       "2516  11.577160  5.198623  15.473134  4.347241  6.579811  7.350885  4.106281   \n",
       "2517  11.592769  5.209555  15.288273  4.338752  6.622172  7.504187  4.109704   \n",
       "2518  11.702665  5.348453  15.105152  4.325929  6.523629  7.568277  4.034528   \n",
       "2519  11.745523  5.422659  15.085089  4.328896  6.605929  7.527874  4.067046   \n",
       "2520  11.416371  5.447974  15.099505  4.275115  6.622628  7.541459  4.015756   \n",
       "\n",
       "           7         8         9    ...       490       491        492  \\\n",
       "0     1.000000  1.000000  1.000000  ...  1.000000  1.000000   1.000000   \n",
       "1     0.998399  1.013380  1.004039  ...  1.009438  1.004186   1.008749   \n",
       "2     1.009354  1.006014  0.997108  ...  0.994510  0.998429   1.010920   \n",
       "3     1.008129  1.000348  0.978325  ...  1.002492  0.994873   1.020411   \n",
       "4     1.007658  1.001466  0.970785  ...  1.003883  0.995577   1.021621   \n",
       "...        ...       ...       ...  ...       ...       ...        ...   \n",
       "2516  2.993133  3.799530  4.196843  ...  4.672628  6.013559  10.015594   \n",
       "2517  2.995701  3.812077  4.183628  ...  4.651353  5.915550  10.080899   \n",
       "2518  2.939798  3.811667  4.266312  ...  4.682020  5.922402  10.052953   \n",
       "2519  2.917620  3.832816  4.324589  ...  4.645148  5.903617   9.998524   \n",
       "2520  2.883847  3.846597  4.316327  ...  4.674270  5.859274  10.124246   \n",
       "\n",
       "            493       494        495       496       497       498       499  \n",
       "0      1.000000  1.000000   1.000000  1.000000  1.000000  1.000000  1.000000  \n",
       "1      1.011155  0.995505   1.009884  0.992672  0.994542  0.994451  0.986944  \n",
       "2      1.015316  1.002979   1.030801  0.994156  0.994298  0.984302  0.985300  \n",
       "3      1.009599  0.987918   1.008094  0.984429  0.995215  0.991271  0.994922  \n",
       "4      1.027368  0.976731   1.028805  0.992067  0.992737  0.984785  0.988619  \n",
       "...         ...       ...        ...       ...       ...       ...       ...  \n",
       "2516  12.149150  7.885230  12.046272  3.651167  8.326087  2.762226  2.398996  \n",
       "2517  12.246344  8.001369  12.144396  3.743358  8.339434  2.733336  2.396336  \n",
       "2518  12.086812  8.113657  12.239035  3.757983  8.303270  2.794488  2.429988  \n",
       "2519  12.254678  7.988888  12.226565  3.748852  8.428713  2.763783  2.443398  \n",
       "2520  12.366968  7.980215  12.116839  3.723735  8.470707  2.761859  2.417348  \n",
       "\n",
       "[2521 rows x 500 columns]"
      ]
     },
     "execution_count": 38,
     "metadata": {},
     "output_type": "execute_result"
    }
   ],
   "source": [
    "# Run the Monte Carlo simulation to forecast 10 years cumulative returns\n",
    "MC_ten_year.calc_cumulative_return()\n"
   ]
  },
  {
   "cell_type": "code",
   "execution_count": 39,
   "metadata": {},
   "outputs": [
    {
     "data": {
      "image/png": "[encoded data removed]",
      "text/plain": [
       "<Figure size 432x288 with 1 Axes>"
      ]
     },
     "metadata": {
      "needs_background": "light"
     },
     "output_type": "display_data"
    }
   ],
   "source": [
    "# Visualize the 10-year Monte Carlo simulation by creating an\n",
    "# overlay line plot\n",
    "MC_ten_year.plot_simulation();\n"
   ]
  },
  {
   "cell_type": "code",
   "execution_count": 40,
   "metadata": {},
   "outputs": [
    {
     "data": {
      "image/png": "[encoded data removed]",
      "text/plain": [
       "<Figure size 432x288 with 1 Axes>"
      ]
     },
     "metadata": {
      "needs_background": "light"
     },
     "output_type": "display_data"
    }
   ],
   "source": [
    "# Visualize the probability distribution of the 10-year Monte Carlo simulation \n",
    "# by plotting a histogram\n",
    "MC_ten_year.plot_distribution();\n"
   ]
  },
  {
   "cell_type": "code",
   "execution_count": 41,
   "metadata": {},
   "outputs": [
    {
     "name": "stdout",
     "output_type": "stream",
     "text": [
      "count           500.000000\n",
      "mean              7.249025\n",
      "std               4.527349\n",
      "min               1.280472\n",
      "25%               4.069443\n",
      "50%               6.241864\n",
      "75%               9.129345\n",
      "max              30.920946\n",
      "95% CI Lower      2.004813\n",
      "95% CI Upper     19.840829\n",
      "Name: 2520, dtype: float64\n"
     ]
    }
   ],
   "source": [
    "# Generate summary statistics from the 10-year Monte Carlo simulation results\n",
    "# Save the results as a variable\n",
    "MC_summary_statistics_10 = MC_ten_year.summarize_cumulative_return()\n",
    "\n",
    "\n",
    "# Review the 10-year Monte Carlo summary statistics\n",
    "print(MC_summary_statistics_10)"
   ]
  },
  {
   "cell_type": "markdown",
   "metadata": {},
   "source": [
    "### Answer the following questions:"
   ]
  },
  {
   "cell_type": "markdown",
   "metadata": {},
   "source": [
    "#### Question: Using the current value of only the stock and bond portion of the member's portfolio and the summary statistics that you generated from the new Monte Carlo simulation, what are the lower and upper bounds for the expected value of the portfolio (with the new weights) with a 95% confidence interval?"
   ]
  },
  {
   "cell_type": "code",
   "execution_count": 59,
   "metadata": {},
   "outputs": [
    {
     "name": "stdout",
     "output_type": "stream",
     "text": [
      "The current balance of stocks and bonds is $75,353.70\n"
     ]
    }
   ],
   "source": [
    "# Print the current balance of the stock and bond portion of the members portfolio\n",
    "print(f\"The current balance of stocks and bonds is ${total_stocks_bonds:,.2f}\")\n"
   ]
  },
  {
   "cell_type": "code",
   "execution_count": 60,
   "metadata": {},
   "outputs": [
    {
     "name": "stdout",
     "output_type": "stream",
     "text": [
      "There is a 95% chance that your current balance of $75,353.70 over the next 10 years will end within the range of $151,070.06 and $1,495,079.89.\n"
     ]
    }
   ],
   "source": [
    "# Use the lower and upper `95%` confidence intervals to calculate the range of the possible outcomes for the current stock/bond portfolio\n",
    "ci_lower_ten_cumulative_return = MC_summary_statistics_10[8] * total_stocks_bonds\n",
    "ci_upper_ten_cumulative_return = MC_summary_statistics_10[9] * total_stocks_bonds\n",
    "\n",
    "# Print the result of your calculations\n",
    "print(f\"There is a 95% chance that your current balance of ${total_stocks_bonds:,.2f}\"\n",
    "      f\" over the next 10 years will end within the range of\"\n",
    "      f\" ${ci_lower_ten_cumulative_return:,.2f} and ${ci_upper_ten_cumulative_return:,.2f}.\")\n"
   ]
  },
  {
   "cell_type": "markdown",
   "metadata": {},
   "source": [
    "#### Question: Will weighting the portfolio more heavily to stocks allow the credit union members to retire after only 10 years?"
   ]
  },
  {
   "cell_type": "markdown",
   "metadata": {},
   "source": [
    "##### Answer: NO. The 10-year scenario would probably not accumulate enough wealth to retire."
   ]
  }
 ],
 "metadata": {
  "kernelspec": {
   "display_name": "dev",
   "language": "python",
   "name": "dev"
  },
  "language_info": {
   "codemirror_mode": {
    "name": "ipython",
    "version": 3
   },
   "file_extension": ".py",
   "mimetype": "text/x-python",
   "name": "python",
   "nbconvert_exporter": "python",
   "pygments_lexer": "ipython3",
   "version": "3.7.10"
  }
 },
 "nbformat": 4,
 "nbformat_minor": 4
}
